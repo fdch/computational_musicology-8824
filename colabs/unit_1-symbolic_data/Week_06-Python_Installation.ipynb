{
 "cells": [
  {
   "cell_type": "markdown",
   "metadata": {
    "id": "uvDmEItIK757"
   },
   "source": [
    "# Install Python\n",
    "\n",
    "This week we will be:\n",
    "\n",
    "- Installing python, music21, and possibly other things on our computer.\n",
    "- Talking about how to run things on your desktop.\n",
    "- Look at metadata.\n",
    "- Look at searching for things.\n",
    "- Presenting your work (on Wednesday)."
   ]
  },
  {
   "cell_type": "markdown",
   "metadata": {
    "id": "4Hhz0xC5Ly-a"
   },
   "source": [
    "# Does your computer have python already?\n",
    "\n",
    "On a mac:\n",
    "\n",
    "Go into your terminal application and type:\n",
    "\n",
    "```which python```\n",
    "\n",
    "We've been using Python 3 this semester (and you should probably avoid Python 2 at this point, unless absolutely necessary).\n",
    "\n",
    "To see which version you're computer is currently using, type in:\n",
    "\n",
    "```python --version```\n",
    "\n",
    "Switching your python version can be a bit difficult. \n",
    "\n",
    "![python versions](https://opensource.com/sites/default/files/uploads/python_environment_xkcd.png)\n",
    "\n",
    "Because of all of these version issues, I like to use ```pyenv```.\n",
    "\n",
    "[This process](https://opensource.com/article/19/5/python-3-default-mac) is fairly painless.\n"
   ]
  },
  {
   "cell_type": "markdown",
   "metadata": {
    "id": "HJLxoURGt_Ch"
   },
   "source": [
    "## Installing with homewbrew:\n",
    "\n",
    "One way to update is with homebrew:\n",
    "\n",
    "brew install python\n",
    "\n",
    "Then find out where it's installed:\n",
    "\n",
    "ls -l /usr/local/bin/python*\n",
    "\n",
    "Then change the link like this:\n",
    "\n",
    "ln -s -f /usr/local/bin/python3.7 /usr/local/bin/python\n",
    "\n",
    "and then see if it's changed your version:\n",
    "\n",
    "python --version"
   ]
  },
  {
   "cell_type": "markdown",
   "metadata": {
    "id": "-gbvY8vuuovj"
   },
   "source": [
    "I think this is how it's done in Windows:\n",
    "\n",
    "https://docs.python.org/3/using/windows.html\n",
    "\n",
    "\n",
    "\n"
   ]
  },
  {
   "cell_type": "markdown",
   "metadata": {
    "id": "IGX29L8FwL6X"
   },
   "source": [
    "Installing music21 on a Mac:"
   ]
  },
  {
   "cell_type": "code",
   "execution_count": null,
   "metadata": {
    "id": "A-JCV7M9Lytb"
   },
   "outputs": [],
   "source": [
    "##installing music21\n",
    "sudo pip3 install music21"
   ]
  },
  {
   "cell_type": "markdown",
   "metadata": {
    "id": "AvxSHyTAwaUF"
   },
   "source": [
    "Configuring music21 from python:"
   ]
  },
  {
   "cell_type": "code",
   "execution_count": null,
   "metadata": {
    "id": "vQUS8cCfK3_u"
   },
   "outputs": [],
   "source": [
    "import music21\n",
    "music21.configure.run()"
   ]
  },
  {
   "cell_type": "markdown",
   "metadata": {
    "id": "c9H0iBbpwQMs"
   },
   "source": [
    "Configuring from the command line:"
   ]
  },
  {
   "cell_type": "code",
   "execution_count": null,
   "metadata": {
    "id": "QMDM1NUYwKr2"
   },
   "outputs": [],
   "source": [
    "python3 -m music21.configure"
   ]
  },
  {
   "cell_type": "markdown",
   "metadata": {
    "id": "W8m7zxPRwst1"
   },
   "source": [
    "On Windows, it's discussed a bit here:\n",
    "https://web.mit.edu/music21/doc/installing/installWindows.html\n",
    "\n",
    "\n"
   ]
  },
  {
   "cell_type": "code",
   "execution_count": null,
   "metadata": {
    "id": "3h_waobeBESA"
   },
   "outputs": [],
   "source": [
    "#@title Setting up music21 in the background. { form-width: \"30%\" }\n",
    "# !pip install --upgrade music21\n",
    "!add-apt-repository ppa:mscore-ubuntu/mscore-stable -y\n",
    "!apt-get update\n",
    "!apt-get install musescore\n",
    "!apt-get install xvfb\n",
    "import os\n",
    "os.putenv('DISPALY', ':99.0')\n",
    "!start-stop-daemon --start --pidfile /var/run/xvfb.pid --make-pidfile --background --exec /usr/bin/Xvfb -- :99 -screen 0 1024x768x24 -ac +extension GLX +render -noreset\n",
    "from music21 import *\n",
    "us = environment.UserSettings()\n",
    "us['musescoreDirectPNGPath'] = '/usr/bin/mscore'\n",
    "us['directoryScratch'] = '/tmp'\n",
    "!sh -e /etc/init.d/x11-common start\n"
   ]
  },
  {
   "cell_type": "code",
   "execution_count": null,
   "metadata": {
    "id": "RNPha7zfEClT"
   },
   "outputs": [],
   "source": [
    "lamb1 = corpus.parse('palestrina/agnus_I_01', forceSource=True)"
   ]
  },
  {
   "cell_type": "code",
   "execution_count": null,
   "metadata": {
    "id": "_cTdIlDbEITT"
   },
   "outputs": [],
   "source": [
    "justTheNotes = lamb1.recurse().notes\n",
    "searchList = [note.Note(type='whole'), note.Note(type='whole'), note.Note(type='whole')]\n",
    "\n",
    "search.rhythmicSearch(justTheNotes,\n",
    "                      searchList)"
   ]
  },
  {
   "cell_type": "code",
   "execution_count": null,
   "metadata": {
    "id": "IVnjhtMPEL5m"
   },
   "outputs": [],
   "source": [
    "secondEntry = justTheNotes[107]\n",
    "secondEntry"
   ]
  },
  {
   "cell_type": "code",
   "execution_count": null,
   "metadata": {
    "id": "_tC8T7YVEPHA"
   },
   "outputs": [],
   "source": [
    "secondEntry.getContextByClass('Part')\n",
    "secondEntry.beat"
   ]
  },
  {
   "cell_type": "code",
   "execution_count": null,
   "metadata": {
    "id": "RNEf2b-7EcBz"
   },
   "outputs": [],
   "source": [
    "lamb2 = lamb1.stripTies(retainContainers=True)\n",
    "\n",
    "justTheNotes = lamb2.recurse().notes\n",
    "search.rhythmicSearch(justTheNotes,\n",
    "                      searchList)"
   ]
  }
 ],
 "metadata": {
  "colab": {
   "collapsed_sections": [],
   "name": "Week_06.ipynb",
   "provenance": []
  },
  "kernelspec": {
   "display_name": "Python 3",
   "language": "python",
   "name": "python3"
  },
  "language_info": {
   "codemirror_mode": {
    "name": "ipython",
    "version": 3
   },
   "file_extension": ".py",
   "mimetype": "text/x-python",
   "name": "python",
   "nbconvert_exporter": "python",
   "pygments_lexer": "ipython3",
   "version": "3.9.4"
  }
 },
 "nbformat": 4,
 "nbformat_minor": 1
}
