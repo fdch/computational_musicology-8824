{
 "cells": [
  {
   "cell_type": "markdown",
   "metadata": {
    "id": "nrrsBJ5NwoUg"
   },
   "source": [
    "# Rhythms\n",
    "\n",
    "- Talk about the homework.\n",
    "- Discuss the first presentation and project  (due in Week 6)\n",
    "- Working with rhythms.\n",
    "- The nPVI metric\n",
    "- Testing a hypothesis."
   ]
  },
  {
   "cell_type": "markdown",
   "metadata": {
    "id": "_pwjyYDH0JFP"
   },
   "source": [
    "## Presentation and Paper\n",
    "\n",
    "**Due in Week 6**: \n",
    "- Analyze a large collection of musical works in score format, using Python. Asking some sort of analytical broad question.\n",
    "- We can provide scores, if you would like, or you can provide your own set of xml scores (we can help with the conversion).\n",
    "- On the Wednesday of Week 6, you will be presenting your project to the class. The presentation should be no less than 10 minutesm and no more than 15 minutes. Prepare for about 5 minutes of questions.\n",
    "- Please submit a 5-7 page paper that discusses your project on the Friday of Week 6."
   ]
  },
  {
   "cell_type": "markdown",
   "metadata": {
    "id": "RiCBedh73F5W"
   },
   "source": [
    "## Working with Rhythms\n",
    "\n",
    "### Rhythmic Representation\n",
    "\n",
    "#### In Kern Files (Humdrum)\n",
    "\n",
    "As we've seen, kern files use reciprical notations to show rhythms. Whole notes are notated as \"1\", half notes as \"2\", _etc._\n",
    "\n",
    "Tuplets are a bit of a different matter. The [handbook](https://www.humdrum.org/guide/ch06/index.html#tuplets) states that:\n",
    "\n",
    "> In general, the way to determine the kern equivalent of an arbitrary “tuplet” duration is to multiply the number of tuplets by the total duration which they occupy. If 7 notes of equal duration occupy the duration of a whole-note 1, then each septuplet is represented by the value 7 (i.e. 1 x 7). A more extreme example is 23 notes in the time of a doubly dotted quarter.\n",
    "\n",
    "So an eighth note triplet, which occupies the space of a quarter note, would be notated with a \"12\", and quarter-note triplets, which take up two beats, would be notated with a 6.\n",
    "\n",
    "#### In Music21\n",
    "\n",
    "\n",
    "\n",
    "### Metric Position\n",
    "\n",
    "#### In Humdrum\n",
    "There are also a number of tools that analyze the metric position of a note, so you can search for instances that happen on the downbeat, for example, or on beats 1 and 3. Humdrum uses a combination of two tools to do this (```metpos``` and ```timebase```).\n",
    "\n",
    "#### In music21\n",
    "\n",
    "In music21, there is a tool called ```beatstrength``` which will do it for you. See the example below.\n",
    "\n"
   ]
  },
  {
   "cell_type": "code",
   "execution_count": null,
   "metadata": {
    "colab": {
     "base_uri": "https://localhost:8080/"
    },
    "executionInfo": {
     "elapsed": 50527,
     "status": "ok",
     "timestamp": 1611776819458,
     "user": {
      "displayName": "Daniel Shanahan",
      "photoUrl": "https://lh3.googleusercontent.com/a-/AOh14Gj-j1dY0ZR8a6BnCn-NtHHpeew76MIO_89yOwiCOQ=s64",
      "userId": "10085329517298963001"
     },
     "user_tz": 300
    },
    "id": "kHOpEOGqwnsc",
    "outputId": "33c8e475-21ff-4ee5-9544-842f3fa4abb5"
   },
   "outputs": [],
   "source": [
    "# !pip install --upgrade music21\n",
    "#!add-apt-repository ppa:mscore-ubuntu/mscore-stable -y\n",
    "# !apt-get update\n",
    "!apt-get install musescore\n",
    "!apt-get install xvfb\n",
    "import os\n",
    "os.putenv('DISPLAY', ':99.0')\n",
    "!start-stop-daemon --start --pidfile /var/run/xvfb.pid --make-pidfile --background --exec /usr/bin/Xvfb -- :99 -screen 0 1024x768x24 -ac +extension GLX +render -noreset\n",
    "from music21 import *\n",
    "us = environment.UserSettings()\n",
    "us['musescoreDirectPNGPath'] = '/usr/bin/mscore'\n",
    "us['directoryScratch'] = '/tmp'\n",
    "!sh -e /etc/init.d/x11-common start\n"
   ]
  },
  {
   "cell_type": "code",
   "execution_count": null,
   "metadata": {
    "colab": {
     "base_uri": "https://localhost:8080/",
     "height": 67
    },
    "executionInfo": {
     "elapsed": 1255,
     "status": "ok",
     "timestamp": 1611604599797,
     "user": {
      "displayName": "Daniel Shanahan",
      "photoUrl": "https://lh3.googleusercontent.com/a-/AOh14Gj-j1dY0ZR8a6BnCn-NtHHpeew76MIO_89yOwiCOQ=s64",
      "userId": "10085329517298963001"
     },
     "user_tz": 300
    },
    "id": "eVgFvR1HBae4",
    "outputId": "90d6299a-7910-43aa-ddd2-280d9e47bd51"
   },
   "outputs": [],
   "source": [
    "littleMelody = converter.parse('tinynotation: 4/4 c4 c4 g g a a g2 f4 f e e d d c2')\n",
    "littleMelody.show()"
   ]
  },
  {
   "cell_type": "code",
   "execution_count": null,
   "metadata": {
    "colab": {
     "base_uri": "https://localhost:8080/",
     "height": 214
    },
    "executionInfo": {
     "elapsed": 1864,
     "status": "ok",
     "timestamp": 1611604644858,
     "user": {
      "displayName": "Daniel Shanahan",
      "photoUrl": "https://lh3.googleusercontent.com/a-/AOh14Gj-j1dY0ZR8a6BnCn-NtHHpeew76MIO_89yOwiCOQ=s64",
      "userId": "10085329517298963001"
     },
     "user_tz": 300
    },
    "id": "H28687etBlRi",
    "outputId": "e4e0d7c3-0e10-4351-f274-02a5bda03029"
   },
   "outputs": [],
   "source": [
    "for n in littleMelody.flat.notes:\n",
    "    if n.beatStrength == 1:\n",
    "      n.show()"
   ]
  },
  {
   "cell_type": "code",
   "execution_count": null,
   "metadata": {
    "colab": {
     "base_uri": "https://localhost:8080/"
    },
    "executionInfo": {
     "elapsed": 291,
     "status": "ok",
     "timestamp": 1611604685041,
     "user": {
      "displayName": "Daniel Shanahan",
      "photoUrl": "https://lh3.googleusercontent.com/a-/AOh14Gj-j1dY0ZR8a6BnCn-NtHHpeew76MIO_89yOwiCOQ=s64",
      "userId": "10085329517298963001"
     },
     "user_tz": 300
    },
    "id": "LEGlp2clCaM5",
    "outputId": "e2519d8c-de4e-4c37-8186-1f21dbdf1e96"
   },
   "outputs": [],
   "source": [
    "###listing all downbeats.\n",
    "for n in littleMelody.flat.notes:\n",
    "    if n.beatStrength == 1:\n",
    "      print(n.nameWithOctave)"
   ]
  },
  {
   "cell_type": "markdown",
   "metadata": {
    "id": "-58XSdVXE6v0"
   },
   "source": [
    "## Exercise 1: Searching the Polska Collection\n",
    "\n",
    "Let's try to find out which scale degrees are the most common on downbeats in the Polish folksong collection.\n",
    "\n",
    "We will first need to talk about getting scale degrees.\n",
    "\n",
    "### humdrum\n",
    "\n",
    "In Humdrum, this is quite straightforward, as you simply use the ```deg``` tool. This requires a key signature already labeled in the piece, though.\n",
    "\n",
    "### music21 \n",
    "\n",
    "It's a bit more complicated in music21, but is also a little bit more flexible.\n",
    "\n",
    "You first need to run a key-finding algorithm on the excerpt (we will talk about the specifics of key-finding algorithms next week).\n",
    "\n",
    "Once you have the key, you create a list of pitches, and get the scale degree of each of those in reference to the home key.\n"
   ]
  },
  {
   "cell_type": "code",
   "execution_count": null,
   "metadata": {
    "colab": {
     "base_uri": "https://localhost:8080/"
    },
    "executionInfo": {
     "elapsed": 348,
     "status": "ok",
     "timestamp": 1611604890518,
     "user": {
      "displayName": "Daniel Shanahan",
      "photoUrl": "https://lh3.googleusercontent.com/a-/AOh14Gj-j1dY0ZR8a6BnCn-NtHHpeew76MIO_89yOwiCOQ=s64",
      "userId": "10085329517298963001"
     },
     "user_tz": 300
    },
    "id": "epIbEG6NF5D7",
    "outputId": "2ceb8694-f36a-47d1-eedd-e90f22cd52db"
   },
   "outputs": [],
   "source": [
    "###getting the key \n",
    "pitch_count = analysis.discrete.KrumhanslKessler(littleMelody)\n",
    "key = pitch_count.getSolution(littleMelody)\n",
    "print(key)"
   ]
  },
  {
   "cell_type": "code",
   "execution_count": null,
   "metadata": {
    "colab": {
     "base_uri": "https://localhost:8080/"
    },
    "executionInfo": {
     "elapsed": 333,
     "status": "ok",
     "timestamp": 1611604975561,
     "user": {
      "displayName": "Daniel Shanahan",
      "photoUrl": "https://lh3.googleusercontent.com/a-/AOh14Gj-j1dY0ZR8a6BnCn-NtHHpeew76MIO_89yOwiCOQ=s64",
      "userId": "10085329517298963001"
     },
     "user_tz": 300
    },
    "id": "k4XIfMmaNDpt",
    "outputId": "4ec8ec9c-16c1-441a-b779-e4f6ec64a959"
   },
   "outputs": [],
   "source": [
    "### getting all pitches as scale degree.\n",
    "pitch_count = analysis.discrete.KrumhanslKessler(littleMelody)\n",
    "key = pitch_count.getSolution(littleMelody)\n",
    "\n",
    "\n",
    "for n in littleMelody.flat.notes:\n",
    "  scale_degree = key.getScaleDegreeFromPitch(n.name)\n",
    "  beat_strength = n.beatStrength\n",
    "  print(f'{beat_strength}\\t{scale_degree}')\n",
    "  "
   ]
  },
  {
   "cell_type": "markdown",
   "metadata": {
    "id": "EbigH2mZYP5y"
   },
   "source": [
    "#### Back to the exercise.\n",
    "\n",
    "How can we get all of the scale degrees on downbeats in the entire polska corpus?"
   ]
  },
  {
   "cell_type": "code",
   "execution_count": null,
   "metadata": {
    "colab": {
     "base_uri": "https://localhost:8080/"
    },
    "executionInfo": {
     "elapsed": 35084,
     "status": "ok",
     "timestamp": 1611776670224,
     "user": {
      "displayName": "Daniel Shanahan",
      "photoUrl": "https://lh3.googleusercontent.com/a-/AOh14Gj-j1dY0ZR8a6BnCn-NtHHpeew76MIO_89yOwiCOQ=s64",
      "userId": "10085329517298963001"
     },
     "user_tz": 300
    },
    "id": "63qEFX5FKk_-",
    "outputId": "487a5b60-234d-4e8b-9140-6f62c5169517"
   },
   "outputs": [],
   "source": [
    "###Let's set the google drive up so that we can access those polska files...\n",
    "from google.colab import drive\n",
    "import glob\n",
    "drive.mount('content', force_remount=True)"
   ]
  },
  {
   "cell_type": "code",
   "execution_count": null,
   "metadata": {
    "executionInfo": {
     "elapsed": 917,
     "status": "ok",
     "timestamp": 1611776672699,
     "user": {
      "displayName": "Daniel Shanahan",
      "photoUrl": "https://lh3.googleusercontent.com/a-/AOh14Gj-j1dY0ZR8a6BnCn-NtHHpeew76MIO_89yOwiCOQ=s64",
      "userId": "10085329517298963001"
     },
     "user_tz": 300
    },
    "id": "JM6OYM8LYbJU"
   },
   "outputs": [],
   "source": [
    "### your code below...\n",
    "\n",
    "#### grab all the polska melodies. Perhaps call it file_list.\n",
    "import glob\n",
    "\n",
    "def filebrowser(ext=\"content/MyDrive/python_scratch/polska/*.krn\"):\n",
    "    \"Returns files with an extension\"\n",
    "    return[f for f in glob.glob(f'*{ext}')]\n",
    "\n",
    "file_list = filebrowser()\n"
   ]
  },
  {
   "cell_type": "code",
   "execution_count": null,
   "metadata": {
    "executionInfo": {
     "elapsed": 311,
     "status": "ok",
     "timestamp": 1611776679006,
     "user": {
      "displayName": "Daniel Shanahan",
      "photoUrl": "https://lh3.googleusercontent.com/a-/AOh14Gj-j1dY0ZR8a6BnCn-NtHHpeew76MIO_89yOwiCOQ=s64",
      "userId": "10085329517298963001"
     },
     "user_tz": 300
    },
    "id": "vm_I-kj6KZBa"
   },
   "outputs": [],
   "source": [
    "### your code below\n",
    "def beat_and_strength(filename):\n",
    "    \n",
    "    beat_strength = []\n",
    "    scale_degree = []\n",
    "\n",
    "    # open the file so we can read through it\n",
    "\n",
    "    kern_file = [line.rstrip() for line in open(filename, \"r+\")]\n",
    "\n",
    "    # skip file if it has an MX in it, use it if it does not\n",
    "    # this gets rid of irregular time signatures\n",
    "\n",
    "    if \"MX\" not in kern_file:\n",
    "        melody = converter.parse(filename)\n",
    "        ### getting all pitches as scale degree.\n",
    "        pitch_count = analysis.discrete.KrumhanslKessler(melody)\n",
    "        key = pitch_count.getSolution(melody)\n",
    "        my_list = []\n",
    "\n",
    "        for n in melody.flat.notes:\n",
    "            sd = key.getScaleDegreeFromPitch(n.name)\n",
    "            if sd is not None:\n",
    "                scale_degree.append(float(sd))\n",
    "            else:\n",
    "                scale_degree.append(0)\n",
    "            beat_strength.append(float(n.beatStrength))\n",
    "    else:\n",
    "        print(filename, \"has irregular time signatures. Skipping.\")\n",
    "\n",
    "    # return two arrays\n",
    "    return [beat_strength, scale_degree]\n"
   ]
  },
  {
   "cell_type": "code",
   "execution_count": null,
   "metadata": {
    "executionInfo": {
     "elapsed": 11348,
     "status": "ok",
     "timestamp": 1611776836058,
     "user": {
      "displayName": "Daniel Shanahan",
      "photoUrl": "https://lh3.googleusercontent.com/a-/AOh14Gj-j1dY0ZR8a6BnCn-NtHHpeew76MIO_89yOwiCOQ=s64",
      "userId": "10085329517298963001"
     },
     "user_tz": 300
    },
    "id": "Br1sE5lehL8R"
   },
   "outputs": [],
   "source": [
    "b_and_s = [ beat_and_strength(filename) for filename in filebrowser()]\n"
   ]
  },
  {
   "cell_type": "code",
   "execution_count": null,
   "metadata": {
    "colab": {
     "base_uri": "https://localhost:8080/"
    },
    "executionInfo": {
     "elapsed": 509,
     "status": "ok",
     "timestamp": 1611776895663,
     "user": {
      "displayName": "Daniel Shanahan",
      "photoUrl": "https://lh3.googleusercontent.com/a-/AOh14Gj-j1dY0ZR8a6BnCn-NtHHpeew76MIO_89yOwiCOQ=s64",
      "userId": "10085329517298963001"
     },
     "user_tz": 300
    },
    "id": "9PkjXhFZYziE",
    "outputId": "9c81c3e5-8bef-417b-d801-d5e4986fa21d"
   },
   "outputs": [],
   "source": [
    "print(b_and_s[0])"
   ]
  },
  {
   "cell_type": "code",
   "execution_count": null,
   "metadata": {
    "colab": {
     "base_uri": "https://localhost:8080/",
     "height": 265
    },
    "executionInfo": {
     "elapsed": 1118,
     "status": "ok",
     "timestamp": 1611712185026,
     "user": {
      "displayName": "Daniel Shanahan",
      "photoUrl": "https://lh3.googleusercontent.com/a-/AOh14Gj-j1dY0ZR8a6BnCn-NtHHpeew76MIO_89yOwiCOQ=s64",
      "userId": "10085329517298963001"
     },
     "user_tz": 300
    },
    "id": "vEs8PwXXhRo2",
    "outputId": "2d6ce8b5-48d6-478e-9729-04cd43d0c743"
   },
   "outputs": [],
   "source": [
    "import matplotlib.pyplot as plt\n",
    "\n",
    "for i in b_and_s:\n",
    "    plt.hist(i[0])"
   ]
  },
  {
   "cell_type": "code",
   "execution_count": null,
   "metadata": {
    "colab": {
     "base_uri": "https://localhost:8080/",
     "height": 265
    },
    "executionInfo": {
     "elapsed": 1170,
     "status": "ok",
     "timestamp": 1611712210461,
     "user": {
      "displayName": "Daniel Shanahan",
      "photoUrl": "https://lh3.googleusercontent.com/a-/AOh14Gj-j1dY0ZR8a6BnCn-NtHHpeew76MIO_89yOwiCOQ=s64",
      "userId": "10085329517298963001"
     },
     "user_tz": 300
    },
    "id": "V9eEKqAXiJg-",
    "outputId": "a634273f-c11c-4a44-c157-d754c3369379"
   },
   "outputs": [],
   "source": [
    "for i in b_and_s:\n",
    "    plt.hist(i[1])"
   ]
  },
  {
   "cell_type": "markdown",
   "metadata": {
    "id": "PlP3x3E_va2W"
   },
   "source": [
    "## Return and Print\n",
    "\n",
    "What's the difference between ```print``` and ```return``` in Python?\n",
    "\n",
    "So far, our functions have just been printing things out for us to read, but it's important to realize that there is a big difference between ```print```, which shows something for a human to read, and ```return```, which passes the output of one part of code to another.\n",
    "\n",
    "Using ```return``` changes the \"control flow\" of the program. Using ```print``` just shows you something in the console.\n",
    "\n"
   ]
  },
  {
   "cell_type": "code",
   "execution_count": null,
   "metadata": {
    "executionInfo": {
     "elapsed": 302,
     "status": "ok",
     "timestamp": 1611777147482,
     "user": {
      "displayName": "Daniel Shanahan",
      "photoUrl": "https://lh3.googleusercontent.com/a-/AOh14Gj-j1dY0ZR8a6BnCn-NtHHpeew76MIO_89yOwiCOQ=s64",
      "userId": "10085329517298963001"
     },
     "user_tz": 300
    },
    "id": "wTuQje5Zi_aO"
   },
   "outputs": [],
   "source": [
    "### your code below\n",
    "def beat_and_strength_as_column(filename):\n",
    "    \n",
    "    beat_strength = []\n",
    "    scale_degree = []\n",
    "\n",
    "    # open the file so we can read through it\n",
    "\n",
    "    kern_file = [line.rstrip() for line in open(filename, \"r+\")]\n",
    "\n",
    "    # skip file if it has an MX in it, use it if it does not\n",
    "    # this gets rid of irregular time signatures\n",
    "\n",
    "    if \"MX\" not in kern_file:\n",
    "        melody = converter.parse(filename)\n",
    "        ### getting all pitches as scale degree.\n",
    "        \n",
    "        pitch_count = analysis.discrete.KrumhanslKessler(melody)\n",
    "        key = pitch_count.getSolution(melody)\n",
    "        my_list = []\n",
    "\n",
    "        for n in melody.flat.notes:\n",
    "            sd = key.getScaleDegreeFromPitch(n.name)\n",
    "            if sd is not None:\n",
    "                scale_degree.append(float(sd))\n",
    "            else:\n",
    "                scale_degree.append(0)\n",
    "            beat_strength.append(float(n.beatStrength))\n",
    "    else:\n",
    "        print(filename, \"has irregular time signatures. Skipping.\")\n",
    "\n",
    "    # print an output, but this note that this just a print to the console.\n",
    "    for beat, scale in zip(beat_strength, scale_degree):\n",
    "      # return(beat, scale)\n",
    "      print(f'{beat}\\t{scale}')\n"
   ]
  },
  {
   "cell_type": "code",
   "execution_count": null,
   "metadata": {
    "colab": {
     "base_uri": "https://localhost:8080/"
    },
    "executionInfo": {
     "elapsed": 3056,
     "status": "ok",
     "timestamp": 1611777156171,
     "user": {
      "displayName": "Daniel Shanahan",
      "photoUrl": "https://lh3.googleusercontent.com/a-/AOh14Gj-j1dY0ZR8a6BnCn-NtHHpeew76MIO_89yOwiCOQ=s64",
      "userId": "10085329517298963001"
     },
     "user_tz": 300
    },
    "id": "OUV_AJdTLow-",
    "outputId": "51425243-80d9-4b5c-d390-b65e73b9de4d"
   },
   "outputs": [],
   "source": [
    "\n",
    "for file in file_list:\n",
    "  beat_and_strength_as_column(file)\n"
   ]
  },
  {
   "cell_type": "markdown",
   "metadata": {
    "id": "Za3VgyHu6Dyw"
   },
   "source": [
    "## Counting All Downbeats\n",
    "\n",
    "Here's a solution (adapted from Dr. Tan's code) that counts all of the downbeats, and then graphs the scale degree."
   ]
  },
  {
   "cell_type": "code",
   "execution_count": null,
   "metadata": {
    "executionInfo": {
     "elapsed": 34848,
     "status": "ok",
     "timestamp": 1611776996230,
     "user": {
      "displayName": "Daniel Shanahan",
      "photoUrl": "https://lh3.googleusercontent.com/a-/AOh14Gj-j1dY0ZR8a6BnCn-NtHHpeew76MIO_89yOwiCOQ=s64",
      "userId": "10085329517298963001"
     },
     "user_tz": 300
    },
    "id": "yzzxXj3I1Zzn"
   },
   "outputs": [],
   "source": [
    "downbeat_scale_degrees = []\n",
    "for file in file_list:\n",
    "  piece = converter.parse(file)\n",
    "  for n in piece.flat.notes:\n",
    "    ## added these two lines to the loop.\n",
    "    pitch_count = analysis.discrete.KrumhanslKessler(piece)\n",
    "    key = pitch_count.getSolution(piece)\n",
    "    scale_degree = key.getScaleDegreeFromPitch(n.name)\n",
    "    beat_strength = n.beatStrength\n",
    "    if beat_strength == 1:\n",
    "      downbeat_scale_degrees.append(scale_degree)\n",
    "\n"
   ]
  },
  {
   "cell_type": "code",
   "execution_count": null,
   "metadata": {
    "colab": {
     "base_uri": "https://localhost:8080/",
     "height": 350
    },
    "executionInfo": {
     "elapsed": 526,
     "status": "ok",
     "timestamp": 1611718445019,
     "user": {
      "displayName": "Daniel Shanahan",
      "photoUrl": "https://lh3.googleusercontent.com/a-/AOh14Gj-j1dY0ZR8a6BnCn-NtHHpeew76MIO_89yOwiCOQ=s64",
      "userId": "10085329517298963001"
     },
     "user_tz": 300
    },
    "id": "ZvGTbaaa5zOB",
    "outputId": "1e6b1963-f89b-4620-befd-1121f8ead0ac"
   },
   "outputs": [],
   "source": [
    "db = [] \n",
    "for sd in downbeat_scale_degrees: \n",
    "    if sd != None : \n",
    "        db.append(sd) \n",
    "\n",
    "values, counts = np.unique(db, return_counts=True)\n",
    "print(f'{values}\\n{counts}')\n",
    "\n",
    "import matplotlib.pyplot as plt\n",
    "plt.hist(db)\n"
   ]
  },
  {
   "cell_type": "markdown",
   "metadata": {
    "id": "MJCkBIdZZ1Ny"
   },
   "source": [
    "## Testing a Hypothesis\n",
    "\n",
    "H1: Are pieces in the Polish folksong corpus more \"rhythmically complex\" than another corpus? \"Complex\" is obviously a pretty loaded term, and it isn't really not something that can be formalized, but \"variability\" might be thought of as a proxy for complexity.\n",
    "\n",
    "The **normalized variability index** (nPVI) has been used extensively over the past few years as a way of examining rhythmic variability in melodies. It's adapted from linguistics (Grabe and Low, 2003) looking at the rhythmic variability of speech. Patel and Daniele (2004) argued that the variability of melodies can be correlated with the composer's native language. \n",
    "\n",
    "![npvi](https://raw.githubusercontent.com/shanahdt/images/main/npvi.png)\n",
    "\n",
    "Let's break down how we might break this down into a function we could implement.\n"
   ]
  },
  {
   "cell_type": "markdown",
   "metadata": {
    "id": "sqmTL2MmbNVF"
   },
   "source": [
    "#### Getting Rhythmic Content\n",
    "\n",
    "For the nPVI tool, we will need to strip all *non-rhythmic* data. This means getting rid of all metadata, pitch content, and barlines. Kern files look at rhythms reciprocally, in that a whole-note is a **1**, and eighth-note is an **8**, *etc.* We will first need to arrange those durations so that a lower number equals a shorter rhythm.\n",
    "\n",
    "Here's a brief reciprocal rhythm function for that. Let's break this function down a bit.\n"
   ]
  },
  {
   "cell_type": "code",
   "execution_count": null,
   "metadata": {
    "executionInfo": {
     "elapsed": 361,
     "status": "ok",
     "timestamp": 1611777827004,
     "user": {
      "displayName": "Daniel Shanahan",
      "photoUrl": "https://lh3.googleusercontent.com/a-/AOh14Gj-j1dY0ZR8a6BnCn-NtHHpeew76MIO_89yOwiCOQ=s64",
      "userId": "10085329517298963001"
     },
     "user_tz": 300
    },
    "id": "L_TB6nU4dJk_"
   },
   "outputs": [],
   "source": [
    "def recip_rhythm(tune):\n",
    "  \n",
    "  melody = [line.rstrip() for line in open(tune, \"r+\")]\n",
    "\t## define some empty lists that we might need later.\n",
    "  x = []\n",
    "  y = []\n",
    "\n",
    "  ## for every line in the melody, if there is no !, =, or *, print the line.\n",
    "  ## this gets rid of metadata and barlines. It puts everything into the\n",
    "  ## x list.\n",
    "\n",
    "  for f in melody:\n",
    "    if \"!\" not in f and \"=\" not in f and \"*\" not in f:\n",
    "      x.append(re.sub(\"[^0-9._\\]\\[]\", \"\", f))\n",
    "\n",
    "  for i in x:\n",
    "    if \".\" not in i:\n",
    "      i = float(i)\n",
    "      recip = 1/i\n",
    "      y.append(recip)\n",
    "\n",
    "    else:\n",
    "      no_dot = re.sub(\"\\.\", \"\", i)\n",
    "      no_dot = float(no_dot)\n",
    "      recip = (1/no_dot)+((1/no_dot)*.5)\n",
    "      y.append(recip)\n",
    "\n",
    "  return(y) \n"
   ]
  },
  {
   "cell_type": "code",
   "execution_count": null,
   "metadata": {
    "executionInfo": {
     "elapsed": 374,
     "status": "ok",
     "timestamp": 1611777829716,
     "user": {
      "displayName": "Daniel Shanahan",
      "photoUrl": "https://lh3.googleusercontent.com/a-/AOh14Gj-j1dY0ZR8a6BnCn-NtHHpeew76MIO_89yOwiCOQ=s64",
      "userId": "10085329517298963001"
     },
     "user_tz": 300
    },
    "id": "dC9LERLUdYGW"
   },
   "outputs": [],
   "source": [
    "def npvi(tune):\n",
    "  rhythm = recip_rhythm(tune)\n",
    "  mel_length = 100/(len(rhythm) - 1)\n",
    "  total = [abs(rhythm[onset] - (rhythm[onset+1])/(rhythm[onset] + (rhythm[onset+1]/2))) for onset in range(len(rhythm)-1)] \n",
    "  total_sum = sum(total)\n",
    "  answer = (mel_length * total_sum)\n",
    "  return([tune, answer])\n",
    "\n"
   ]
  },
  {
   "cell_type": "markdown",
   "metadata": {
    "id": "1maNMYkwcy2Z"
   },
   "source": [
    "The above loop that begins with \"for i in x\" focuses on dotted rhythms. It goes through that x list, and If there is no dot, then just turn i into a float, and put it in the list. The equation under the recip function basically says: if you find a dot, that means it's the rhythm plus half of that rhythm.\n",
    "\n",
    "#### The nPVI equation.\n",
    "\n",
    "Now that we have the data in this format, we can just run the nPVI equation on the melody. This is the nPVI equation, when fed the list from the recip_rhythm function. See Daniele and Patel (2004) for full explanation of it.\n",
    "\n",
    "The nPVI rating is sum of the the distance between two successive onsets (dk-dk+1) divided by half of the sum of those. The absolute value fo this is multiplied by 100 over the degrees of freedom (the number of notes in the melody minus 1).\n"
   ]
  },
  {
   "cell_type": "code",
   "execution_count": null,
   "metadata": {
    "colab": {
     "base_uri": "https://localhost:8080/"
    },
    "executionInfo": {
     "elapsed": 2976,
     "status": "ok",
     "timestamp": 1611777764208,
     "user": {
      "displayName": "Daniel Shanahan",
      "photoUrl": "https://lh3.googleusercontent.com/a-/AOh14Gj-j1dY0ZR8a6BnCn-NtHHpeew76MIO_89yOwiCOQ=s64",
      "userId": "10085329517298963001"
     },
     "user_tz": 300
    },
    "id": "Yc0qXnd8dlrO",
    "outputId": "442810b3-aa1e-42f2-c419-873c224de188"
   },
   "outputs": [],
   "source": [
    "###Let's set the google drive up so that we can access those polska files...\n",
    "from google.colab import drive\n",
    "import glob\n",
    "import re\n",
    "drive.mount('content', force_remount=True)\n",
    "\n",
    "def polish(ext=\"content/MyDrive/python_scratch/polska/*.krn\"):\n",
    "    \"Returns files with an extension\"\n",
    "    return[f for f in glob.glob(f'*{ext}')]\n",
    "\n",
    "\n",
    "\n",
    "def czech(ext=\"content/MyDrive/python_scratch/czech/*.krn\"):\n",
    "    \"Returns files with an extension\"\n",
    "    return[f for f in glob.glob(f'*{ext}')]\n",
    "\n",
    "polish_melodies = polish()\n",
    "czech_melodies = czech()"
   ]
  },
  {
   "cell_type": "code",
   "execution_count": null,
   "metadata": {
    "executionInfo": {
     "elapsed": 23515,
     "status": "ok",
     "timestamp": 1611777858104,
     "user": {
      "displayName": "Daniel Shanahan",
      "photoUrl": "https://lh3.googleusercontent.com/a-/AOh14Gj-j1dY0ZR8a6BnCn-NtHHpeew76MIO_89yOwiCOQ=s64",
      "userId": "10085329517298963001"
     },
     "user_tz": 300
    },
    "id": "3TropJ_R0n7b"
   },
   "outputs": [],
   "source": [
    "pnpvi = []\n",
    "cnpvi = []\n",
    "\n",
    "for file in polish_melodies:\n",
    "  x = npvi(file)\n",
    "  pnpvi.append(x)\n",
    "\n",
    "for file in czech_melodies:\n",
    "  y = npvi(file)\n",
    "  cnpvi.append(y)"
   ]
  },
  {
   "cell_type": "code",
   "execution_count": null,
   "metadata": {
    "colab": {
     "base_uri": "https://localhost:8080/"
    },
    "executionInfo": {
     "elapsed": 473,
     "status": "ok",
     "timestamp": 1611777878645,
     "user": {
      "displayName": "Daniel Shanahan",
      "photoUrl": "https://lh3.googleusercontent.com/a-/AOh14Gj-j1dY0ZR8a6BnCn-NtHHpeew76MIO_89yOwiCOQ=s64",
      "userId": "10085329517298963001"
     },
     "user_tz": 300
    },
    "id": "rI2319lgdxXA",
    "outputId": "ce534506-d456-4ffa-e9fd-553b9c9fc460"
   },
   "outputs": [],
   "source": [
    "print(cnpvi)"
   ]
  },
  {
   "cell_type": "code",
   "execution_count": null,
   "metadata": {
    "colab": {
     "base_uri": "https://localhost:8080/"
    },
    "executionInfo": {
     "elapsed": 867,
     "status": "ok",
     "timestamp": 1611777955692,
     "user": {
      "displayName": "Daniel Shanahan",
      "photoUrl": "https://lh3.googleusercontent.com/a-/AOh14Gj-j1dY0ZR8a6BnCn-NtHHpeew76MIO_89yOwiCOQ=s64",
      "userId": "10085329517298963001"
     },
     "user_tz": 300
    },
    "id": "bdXTcC-lfIx-",
    "outputId": "843ccbfd-413d-4ad8-d753-51f52e409396"
   },
   "outputs": [],
   "source": [
    "from scipy.stats import ttest_ind\n",
    "t_test = ttest_ind(pnpvi, cnpvi)\n",
    "p_value = t_test[1]\n",
    "t_stat = t_test[0]\n",
    "\n",
    "if p_value > .05:\n",
    "  print(f'\"Ack! This isn\\'t significant.\" The p-value is {p_value}, and the t-statistic is {t_stat}')\n",
    "elif p_value < .05:\n",
    "  print(f'\"Hooooooooray!!!\" I can publish this weird little study. The p-value is {p_value}, and the t-statistic is {t_stat}')"
   ]
  }
 ],
 "metadata": {
  "colab": {
   "authorship_tag": "ABX9TyOvrwdqMlwF6Zb+y10Glylz",
   "collapsed_sections": [],
   "name": "Week_03.ipynb",
   "provenance": []
  },
  "kernelspec": {
   "display_name": "Python 3",
   "language": "python",
   "name": "python3"
  },
  "language_info": {
   "codemirror_mode": {
    "name": "ipython",
    "version": 3
   },
   "file_extension": ".py",
   "mimetype": "text/x-python",
   "name": "python",
   "nbconvert_exporter": "python",
   "pygments_lexer": "ipython3",
   "version": "3.9.4"
  }
 },
 "nbformat": 4,
 "nbformat_minor": 1
}
