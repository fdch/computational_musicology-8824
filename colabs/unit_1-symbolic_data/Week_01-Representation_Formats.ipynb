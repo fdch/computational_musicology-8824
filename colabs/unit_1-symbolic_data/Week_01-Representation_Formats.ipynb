{
 "cells": [
  {
   "cell_type": "markdown",
   "metadata": {
    "id": "3-mGL-HeTwgA"
   },
   "source": [
    "# Representation Formats\n",
    "\n",
    "Scholars have been encoding music into a searchable format since the 1950s (Bronson, 1951), and we might consider \"the first wave\" of computational music encoding to be in the 1960s, with [Arthur Mendel](https://wiki.ccarh.org/wiki/IML-MIR)'s Josquin project at Princeton, and the [DARMS project](http://esf.ccarh.org/ccarh-wiki/DARMS-1976.pdf) in New York (led by Stefan Bauer-Mengelberg).\n",
    "\n",
    "Although the basic idea of encoding seems like a fairly straightforward problem–how might we refer to a musical score as a text object?–it was dealt with in wildly different ways. Here are just a couple of the most notable formats, but know that there are _many_ more. \n",
    "\n",
    "## DARMS\n",
    "\n",
    "The DARMS project made the decision to not actually encode pitch, but simply location on the staff. See the \"space code\" from the _DARMS Manual_ below:\n",
    "![](https://github.com/shanahdt/images/blob/main/darms_space_code.png?raw=true)\n",
    "\n",
    "Here is an example of hw pitches might be encoded:\n",
    "![](https://github.com/shanahdt/images/blob/main/darms_ex2.png?raw=true)\n",
    "\n",
    "DARMS was used quite extensively for typesetting, and was actually used until surprisingly recently in some of the major publishing houses. \n",
    "\n",
    "## Plaine and Easie\n",
    "\n",
    "The Plaine and Easie format has been most notably used by RISM, which catalogues millions of incipits from libraries around the world.\n",
    "\n",
    "## Kern\n",
    "\n",
    "Kern (Huron, 1995) is the native format of the Humdrum toolkit. \n",
    "\n",
    "[This webpage](http://verovio.humdrum.org/) does a great job of showing how the format works.\n",
    "### More info\n",
    "\n",
    "[This page](https://www.iaml.info/plaine-easie-code) from CCARH is quite good, and worth a read.\n",
    "\n",
    "The Humdrum toolkit is a set of command-line tools (originally written in AWK; the Humdrum extras are written in C++) that can be combined together to ask questions of a score. \n",
    "\n",
    "### Let's Begin\n",
    "\n",
    "Let's start learning some Python! There are some important things to remember:\n",
    "\n",
    "- The code is very close to \"pseudocode\" in that it's quite readable, for the most part. \n",
    "- Spaces and tabs matter. Unlike other languages, indentations are a part of the code. This is meant to enhance readability. Be careful about this.\n",
    "\n",
    "#### Why Python? \n",
    "\n",
    "Historically, this class has been used as a way of teaching Humdrum. We would begin with symbolic analyses in Humdrum, and the data analysis in R. \n",
    "\n",
    "Python is a good all-purpose language, and it's used extensively inside academia and out. Our hope is that we can use a single language to cover text-processing of musical scores, data analysis, audio analysis, and machine learning elements this semester. \n",
    "\n",
    "### Variables\n",
    "\n",
    "Variables are defined in a pretty straightforward way. Here we have variables defining a **string** (\"apples\") and a **float** (3.1415). Another type "
   ]
  },
  {
   "cell_type": "code",
   "execution_count": null,
   "metadata": {
    "colab": {
     "base_uri": "https://localhost:8080/"
    },
    "executionInfo": {
     "elapsed": 629,
     "status": "ok",
     "timestamp": 1610501355288,
     "user": {
      "displayName": "Daniel Shanahan",
      "photoUrl": "https://lh3.googleusercontent.com/a-/AOh14Gj-j1dY0ZR8a6BnCn-NtHHpeew76MIO_89yOwiCOQ=s64",
      "userId": "10085329517298963001"
     },
     "user_tz": 300
    },
    "id": "BB3F4MBiddFe",
    "outputId": "2698173a-65c9-44e3-d0a4-94743a56f16b"
   },
   "outputs": [
    {
     "name": "stdout",
     "output_type": "stream",
     "text": [
      "apples\n",
      "<class 'float'>\n",
      "3.1415\n",
      "<class 'int'>\n"
     ]
    }
   ],
   "source": [
    "## THIS IS A COMMENT! Let's declare some variables. \n",
    "\n",
    "## Here's a string.\n",
    "apples = \"apples\"\n",
    "\n",
    "## here's an integer\n",
    "number_of_kids = 2\n",
    "\n",
    "## here's a float\n",
    "pi = 3.1415\n",
    "\n",
    "print(apples)\n",
    "\n",
    "print(type(pi))\n",
    "\n",
    "print(pi)\n",
    "\n",
    "print(type(number_of_kids))"
   ]
  },
  {
   "cell_type": "markdown",
   "metadata": {
    "id": "bIFa8VwrgNTB"
   },
   "source": [
    "### Lists and Loops\n",
    "\n",
    "You can combine things into lists (also called arrays in other languages). See how the list below is defined (with square brackets).\n",
    "\n",
    "We can also loop over the list! See how a for loop is written in Python below:"
   ]
  },
  {
   "cell_type": "code",
   "execution_count": 2,
   "metadata": {
    "colab": {
     "base_uri": "https://localhost:8080/"
    },
    "executionInfo": {
     "elapsed": 988,
     "status": "ok",
     "timestamp": 1610501359889,
     "user": {
      "displayName": "Daniel Shanahan",
      "photoUrl": "https://lh3.googleusercontent.com/a-/AOh14Gj-j1dY0ZR8a6BnCn-NtHHpeew76MIO_89yOwiCOQ=s64",
      "userId": "10085329517298963001"
     },
     "user_tz": 300
    },
    "id": "Xx4038xMe5yH",
    "outputId": "eebbb550-c4ed-41ca-898a-0d3a63c65bdc"
   },
   "outputs": [
    {
     "name": "stdout",
     "output_type": "stream",
     "text": [
      "apples\n",
      "oranges\n",
      "toothpaste\n",
      "socks\n"
     ]
    }
   ],
   "source": [
    "my_grocery_list = [\"apples\", \"oranges\", \"toothpaste\", \"socks\"]\n",
    "\n",
    "for grocery in my_grocery_list:\n",
    "  print(grocery)"
   ]
  },
  {
   "cell_type": "code",
   "execution_count": 3,
   "metadata": {
    "colab": {
     "base_uri": "https://localhost:8080/",
     "height": 164
    },
    "executionInfo": {
     "elapsed": 364,
     "status": "error",
     "timestamp": 1610849595187,
     "user": {
      "displayName": "Jiang Jiang",
      "photoUrl": "",
      "userId": "10039266198610228223"
     },
     "user_tz": 300
    },
    "id": "WYE4E1pQAtju",
    "outputId": "14cad2aa-758d-4da6-e52b-ac38a8b94446"
   },
   "outputs": [
    {
     "name": "stdout",
     "output_type": "stream",
     "text": [
      "['apples', 'oranges', 'toothpaste', 'socks']\n"
     ]
    }
   ],
   "source": [
    "print(my_grocery_list)"
   ]
  },
  {
   "cell_type": "markdown",
   "metadata": {
    "id": "Tm_DlUWgiUgz"
   },
   "source": [
    "In the above, note that the loop needs a colon at the end of the first line, and a tab in the second line. Anything inside of that loop has to have a least one tab. (It doesn't actually matter if it's tabs or spaces, but certain people prefer one over another, and certain companies like to keep consistency; Google uses four spaces, and says to [never, ever use tabs](https://google.github.io/styleguide/pyguide.html))."
   ]
  },
  {
   "cell_type": "code",
   "execution_count": null,
   "metadata": {
    "colab": {
     "base_uri": "https://localhost:8080/"
    },
    "executionInfo": {
     "elapsed": 514,
     "status": "ok",
     "timestamp": 1610394933388,
     "user": {
      "displayName": "Daniel Shanahan",
      "photoUrl": "https://lh3.googleusercontent.com/a-/AOh14Gj-j1dY0ZR8a6BnCn-NtHHpeew76MIO_89yOwiCOQ=s64",
      "userId": "10085329517298963001"
     },
     "user_tz": 300
    },
    "id": "sE0unBnlhkGF",
    "outputId": "5bc02209-54eb-4f90-d303-3c45a566f9b6"
   },
   "outputs": [
    {
     "name": "stdout",
     "output_type": "stream",
     "text": [
      "I mustn't forget apples!\n",
      "I mustn't forget oranges!\n",
      "I mustn't forget toothpaste!\n",
      "I mustn't forget socks!\n"
     ]
    }
   ],
   "source": [
    "## or this one...\n",
    "for grocery in my_grocery_list:\n",
    "  print(\"I mustn't forget\", grocery+\"!\")"
   ]
  },
  {
   "cell_type": "markdown",
   "metadata": {
    "id": "hbzX5bjhmgb5"
   },
   "source": [
    "### Basic Conditionals\n",
    "\n",
    "Conditional statements can include if/else and elif (meaning \"else if\"). Code becomes very powerful with conditionals..."
   ]
  },
  {
   "cell_type": "code",
   "execution_count": null,
   "metadata": {
    "colab": {
     "base_uri": "https://localhost:8080/"
    },
    "executionInfo": {
     "elapsed": 442,
     "status": "ok",
     "timestamp": 1610337606656,
     "user": {
      "displayName": "Daniel Shanahan",
      "photoUrl": "https://lh3.googleusercontent.com/a-/AOh14Gj-j1dY0ZR8a6BnCn-NtHHpeew76MIO_89yOwiCOQ=s64",
      "userId": "10085329517298963001"
     },
     "user_tz": 300
    },
    "id": "whdeRAFNhry9",
    "outputId": "0d60b23c-3127-4fd9-dd4d-43e80886cd10"
   },
   "outputs": [
    {
     "name": "stdout",
     "output_type": "stream",
     "text": [
      "I mustn't forget socks!\n"
     ]
    }
   ],
   "source": [
    "### Lists, loops and conditionals.\n",
    "\n",
    "for grocery in my_grocery_list:\n",
    "  if grocery == \"socks\":\n",
    "    print(\"I mustn't forget\", grocery+\"!\")\n",
    "  "
   ]
  },
  {
   "cell_type": "code",
   "execution_count": null,
   "metadata": {
    "colab": {
     "base_uri": "https://localhost:8080/"
    },
    "executionInfo": {
     "elapsed": 584,
     "status": "ok",
     "timestamp": 1610337772626,
     "user": {
      "displayName": "Daniel Shanahan",
      "photoUrl": "https://lh3.googleusercontent.com/a-/AOh14Gj-j1dY0ZR8a6BnCn-NtHHpeew76MIO_89yOwiCOQ=s64",
      "userId": "10085329517298963001"
     },
     "user_tz": 300
    },
    "id": "rSX6hBu3mZ_D",
    "outputId": "19cea89e-5d1a-453a-ff71-2cd965145a81"
   },
   "outputs": [
    {
     "name": "stdout",
     "output_type": "stream",
     "text": [
      "apples, but not as important as socks\n",
      "oranges, but not as important as socks\n",
      "toothpaste, but not as important as socks\n",
      "I mustn't forget socks!\n"
     ]
    }
   ],
   "source": [
    "for grocery in my_grocery_list:\n",
    "  if grocery == \"socks\":\n",
    "    print(\"I mustn't forget\", grocery+\"!\")\n",
    "  else:\n",
    "    print(grocery+\", but not as important as socks\")"
   ]
  },
  {
   "cell_type": "code",
   "execution_count": null,
   "metadata": {
    "colab": {
     "base_uri": "https://localhost:8080/"
    },
    "executionInfo": {
     "elapsed": 475,
     "status": "ok",
     "timestamp": 1610337940496,
     "user": {
      "displayName": "Daniel Shanahan",
      "photoUrl": "https://lh3.googleusercontent.com/a-/AOh14Gj-j1dY0ZR8a6BnCn-NtHHpeew76MIO_89yOwiCOQ=s64",
      "userId": "10085329517298963001"
     },
     "user_tz": 300
    },
    "id": "qdHgW007nDZ_",
    "outputId": "424f3908-c096-44f3-88ca-59dbdfe84a47"
   },
   "outputs": [
    {
     "name": "stdout",
     "output_type": "stream",
     "text": [
      "I mustn't forget apples, but not as important as socks\n",
      "I mustn't forget oranges, it has vitamin C!!!\n",
      "I mustn't forget toothpaste, but not as important as socks\n",
      "I mustn't forget socks!\n"
     ]
    }
   ],
   "source": [
    "for grocery in my_grocery_list:\n",
    "  if grocery == \"socks\":\n",
    "    print(\"I mustn't forget\", grocery+\"!\")\n",
    "  elif grocery == \"oranges\":\n",
    "    print(\"I mustn't forget\", grocery+\", it has vitamin C!!!\")\n",
    "  else:\n",
    "    print(\"I mustn't forget\", grocery+\", but not as important as socks\")"
   ]
  },
  {
   "cell_type": "markdown",
   "metadata": {
    "id": "A65ZGvW0uF0P"
   },
   "source": [
    "## Exercise 1\n",
    "\n",
    "- write a program that lists your five favorite composers. Use a list and a loop. \n",
    "- How would you add a conditional?\n"
   ]
  },
  {
   "cell_type": "code",
   "execution_count": null,
   "metadata": {
    "colab": {
     "base_uri": "https://localhost:8080/"
    },
    "executionInfo": {
     "elapsed": 659,
     "status": "ok",
     "timestamp": 1610564526725,
     "user": {
      "displayName": "Kia Hui Tan",
      "photoUrl": "",
      "userId": "16388296323177107344"
     },
     "user_tz": 300
    },
    "id": "X5pbraeSvKdD",
    "outputId": "023b2db9-0d48-4496-c8cf-6552f9b72c94"
   },
   "outputs": [
    {
     "name": "stdout",
     "output_type": "stream",
     "text": [
      "Bach\n",
      "Beethoven\n",
      "Brahms\n",
      "Britten\n",
      "Bernstein\n",
      "\n",
      "This is one my favorite composers - Bach!\n",
      "This is one my favorite composers - Beethoven!\n",
      "This is one my favorite composers - Brahms!\n",
      "This is one my favorite composers - Britten!\n",
      "This is one my favorite composers - Bernstein!\n",
      "\n",
      "Beethoven is the most famous composer.\n",
      "Brahms is not as famous as Beethoven.\n",
      "Britten is not as famous as Beethoven.\n",
      "Bernstein is not as famous as Beethoven.\n",
      "However, Bach wrote the most famous works for solo violin!\n"
     ]
    }
   ],
   "source": [
    "my_five_favorite_composers = [\"Bach\", \"Beethoven\", \"Brahms\", \"Britten\", \"Bernstein\"]\n",
    "\n",
    "for i in my_five_favorite_composers:\n",
    "   print(i)\n",
    "\n",
    "print()\n",
    "\n",
    "for composer in my_five_favorite_composers:\n",
    "  print(\"This is one my favorite composers -\", composer+\"!\")\n",
    "\n",
    "for composer in my_five_favorite_composers:\n",
    "  if composer == \"Beethoven\":\n",
    "    print(composer, \"is the most famous composer.\")\n",
    "  elif composer == \"Bach\":\n",
    "    print()\n",
    "  else:\n",
    "    print(composer, \"is not as famous as Beethoven.\")\n",
    "for composer in my_five_favorite_composers:\n",
    "  if composer == \"Bach\":\n",
    "    print(\"However,\", composer, \"wrote the most famous works for solo violin!\")"
   ]
  },
  {
   "cell_type": "markdown",
   "metadata": {
    "id": "gPl8ESaGucjX"
   },
   "source": [
    "## Exercise 2: \n",
    "\n",
    "Below is a Polish folksong. How would you print it off without the global metadata (the lines that begin with \"!\")? "
   ]
  },
  {
   "cell_type": "code",
   "execution_count": null,
   "metadata": {
    "colab": {
     "base_uri": "https://localhost:8080/"
    },
    "executionInfo": {
     "elapsed": 266,
     "status": "ok",
     "timestamp": 1610556995263,
     "user": {
      "displayName": "Daniel Shanahan",
      "photoUrl": "https://lh3.googleusercontent.com/a-/AOh14Gj-j1dY0ZR8a6BnCn-NtHHpeew76MIO_89yOwiCOQ=s64",
      "userId": "10085329517298963001"
     },
     "user_tz": 300
    },
    "id": "CV5UA6YxpuvM",
    "outputId": "721c6dd3-1177-441d-cf07-0fb5d4451d2a"
   },
   "outputs": [],
   "source": [
    "## this prints it off by line.\n",
    "for line in melody:\n",
    "  if \"!\" not in line:\n",
    "    print(line)"
   ]
  },
  {
   "cell_type": "markdown",
   "metadata": {
    "id": "DtSwWkN5zDZv"
   },
   "source": [
    "## Homework:\n",
    "\n",
    "- In the \"Read in a file\" form you will find a way to list all \"Polska\" melodies from the Essen collection (you can click on \"show code\" for this).\n",
    "- Can you write code that does the following?:\n",
    "\n",
    "> - Counts the unique key signatures\n",
    "> - Sums the durations (how many quarter notes, eighth notes, _etc._)\n",
    "> - Sums the pitches?\n",
    "\n",
    "Copy this Colab document and create your own. You can then share the link on Carmen.\n"
   ]
  },
  {
   "cell_type": "markdown",
   "metadata": {},
   "source": [
    "### Read in a file"
   ]
  },
  {
   "cell_type": "code",
   "execution_count": null,
   "metadata": {},
   "outputs": [],
   "source": [
    "### all of this is just allowing me to read files from Google drive; it's not normally this complicated.\n",
    "from google.colab import drive\n",
    "import re\n",
    "import numpy as np\n",
    "import glob\n",
    "drive.mount('content', force_remount=True)\n",
    "import requests\n",
    "\n",
    "## this is a function that reads all the files. We will get to it later.\n",
    "def filebrowser(ext=\"content/MyDrive/python_scratch/polska/*.krn\"):\n",
    "    \"Returns files with an extension\"\n",
    "    return [f for f in glob.glob(f\"*{ext}\")]\n",
    "\n",
    "file_list = filebrowser()\n",
    "## this grabs a specific file...\n",
    "melody = [line.rstrip() for line in open(file_list[2], \"r+\")]"
   ]
  },
  {
   "cell_type": "code",
   "execution_count": null,
   "metadata": {
    "id": "Eb8laI0IiEeE"
   },
   "outputs": [],
   "source": [
    "### this counts only unique key signature\n",
    "## create an empty list\n",
    "key_signature = []\n",
    "for line in melody:\n",
    "  if \"*k[\" in line:\n",
    "    print(line)\n",
    "    x.append(line)\n",
    "    len(key_signature)\n",
    "\n",
    "\n",
    "### this sums different durations (quarter notes, eighth notes, etc)\n",
    "def duration_counter(number):\n",
    "  x = []\n",
    "  for line in melody:  \n",
    "  ##only grab duration information\n",
    "    if \"!\" not in line and \"=\" not in line and \"*\" not in line:\n",
    "      ## remove all other elements except durations from a line \n",
    "      x.append(re.sub(\"[^c-b._\\]\\[]\", \"\", line))\n",
    "      plt.hist(x) \n",
    "duration_counter(1, f+1):  \n",
    "\n",
    "\n",
    "### this sums the pitches\n",
    "## create an empty list\n",
    "pitches_list = []\n",
    "for line in melody:\n",
    "  ##only grab pitches\n",
    "  if \"!\" not in line and \"=\" not in line and \"*\" not in line:\n",
    "    ## remove all other elements except pitches from a line \n",
    "    pitches_list.append(re.sub(\"[^0-9._\\]\\[]\", \"\", line))\n",
    "    print(pitches_list) \n",
    "\n"
   ]
  },
  {
   "cell_type": "markdown",
   "metadata": {
    "id": "jk-RrLgc0hYY"
   },
   "source": []
  },
  {
   "cell_type": "code",
   "execution_count": null,
   "metadata": {
    "id": "uDOuWV3w0ixD"
   },
   "outputs": [],
   "source": [
    "melody = [line.retrip()for line in open(file_list[0, f+1], \"r+\")]\n",
    "\n",
    "unique_key_signature = []\n",
    "for line in melody:\n",
    "  if \"*k[]\" in line:\n",
    "    print(line)\n",
    "    len(unique_key_signature)\n"
   ]
  },
  {
   "cell_type": "markdown",
   "metadata": {
    "id": "COLx_7i1VV-w"
   },
   "source": [
    "### Wednesday Class\n",
    "\n",
    "Today we will cover:\n",
    "\n",
    "- Summing objects\n",
    "- Functions\n",
    "- Arguments in functions.\n",
    "- Reading in a file.\n",
    "- Appending to a list\n",
    "- Regular Expressions\n"
   ]
  },
  {
   "cell_type": "markdown",
   "metadata": {
    "id": "j1R61ZF_c7qb"
   },
   "source": [
    "### Counting Things\n",
    "\n",
    "Many of the first corpus studies were simply counting the occurrences of musical events. There's a lot to be said for simply counting things. You can better understand the language used, and the the likelihood of events.\n",
    "\n",
    "For example, much of the work from the 80s through the early-2000s focused on the role of [statistical learning](https://en.wikipedia.org/wiki/Statistical_learning_in_language_acquisition). We learn grammars and styles through exposure to events. For example, children learn languages by being exposed to words and grammars, and they are implicitly aware of likely transitions. Therefore, understanding the frequency of those events, and how likely they are to occur, might be able to tell us a great deal.\n",
    "\n"
   ]
  },
  {
   "cell_type": "markdown",
   "metadata": {
    "id": "87G_ghX5fLAH"
   },
   "source": [
    "### More on Lists\n",
    "\n",
    "In order to count things, it's helpful to tally them in lists. There are two ways of adding things to lists as you find them. \n",
    "\n",
    "The first option is to create an empty list, that you then add things to. To create an empty list, you just have to do something like this:\n",
    "\n",
    "```\n",
    "my_list = []\n",
    "```\n",
    "\n",
    "After this, you can add things to the list with **append**.\n",
    "\n",
    "```\n",
    "for i in range(1,15):\n",
    "  my_list.append(i)\n",
    "```\n",
    "\n",
    "You can try this below:\n"
   ]
  },
  {
   "cell_type": "code",
   "execution_count": null,
   "metadata": {
    "id": "kIbJ2wc_hHcT"
   },
   "outputs": [],
   "source": [
    "### create an empty list.\n",
    "my_list = []\n",
    "\n",
    "## run a loop.\n",
    "for i in range(1,15):\n",
    "  my_list.append(i)"
   ]
  },
  {
   "cell_type": "markdown",
   "metadata": {
    "id": "Aa2wpetrhtnW"
   },
   "source": [
    "#### Question: Why is there no output?\n",
    "\n"
   ]
  },
  {
   "cell_type": "code",
   "execution_count": null,
   "metadata": {
    "colab": {
     "base_uri": "https://localhost:8080/"
    },
    "executionInfo": {
     "elapsed": 369,
     "status": "ok",
     "timestamp": 1610566322496,
     "user": {
      "displayName": "Daniel Shanahan",
      "photoUrl": "https://lh3.googleusercontent.com/a-/AOh14Gj-j1dY0ZR8a6BnCn-NtHHpeew76MIO_89yOwiCOQ=s64",
      "userId": "10085329517298963001"
     },
     "user_tz": 300
    },
    "id": "RlC7J-O1jKEX",
    "outputId": "67f0228e-bbde-468b-b163-6c7bbd3acb3f"
   },
   "outputs": [
    {
     "name": "stdout",
     "output_type": "stream",
     "text": [
      "[1, 2, 3, 4, 5, 6, 7, 8, 9, 10, 11, 12, 13, 14]\n"
     ]
    }
   ],
   "source": [
    "print(my_list)"
   ]
  },
  {
   "cell_type": "markdown",
   "metadata": {
    "id": "D0mFFNnpjUm2"
   },
   "source": [
    "## Exercise: Odd numbers only.\n",
    "\n",
    "Write a list that scans a list from 1 to 100, and only prints odd numbers. \n",
    "\n",
    "**Hint:** Python has a [modulo operator](https://realpython.com/python-modulo-operator/) (%) that allows you to return the remainder of a number. So \n",
    "\n",
    "\n",
    "```\n",
    "15 % 4\n",
    "```\n",
    "\n",
    "returns \"3\".\n",
    "\n",
    "The following will search for all even numbers:\n",
    "```\n",
    "num % 2 == 0\n",
    "```\n",
    "\n",
    "So something like the code below will find all numbers that don't have a remainder of 0 when divided by 2:\n",
    "\n",
    "```\n",
    "num %2 != 0\n",
    "```"
   ]
  },
  {
   "cell_type": "code",
   "execution_count": 1,
   "metadata": {
    "colab": {
     "base_uri": "https://localhost:8080/"
    },
    "executionInfo": {
     "elapsed": 355,
     "status": "ok",
     "timestamp": 1610566958091,
     "user": {
      "displayName": "Jiang Jiang",
      "photoUrl": "",
      "userId": "10039266198610228223"
     },
     "user_tz": 300
    },
    "id": "couuYZBVlFvC",
    "outputId": "74a01600-8178-4f46-b590-0e6071c882a8"
   },
   "outputs": [
    {
     "name": "stdout",
     "output_type": "stream",
     "text": [
      "[1, 3, 5, 7, 9, 11, 13, 15, 17, 19, 21, 23, 25, 27, 29, 31, 33, 35, 37, 39, 41, 43, 45, 47, 49, 51, 53, 55, 57, 59, 61, 63, 65, 67, 69, 71, 73, 75, 77, 79, 81, 83, 85, 87, 89, 91, 93, 95, 97, 99]\n"
     ]
    }
   ],
   "source": [
    "my_list = []\n",
    "\n",
    "## run a loop.\n",
    "for i in range(1,101):\n",
    "  if i % 2 != 0: \n",
    "    my_list.append(i)\n",
    "\n",
    "print(my_list)"
   ]
  },
  {
   "cell_type": "markdown",
   "metadata": {
    "id": "oeineNoqmqkI"
   },
   "source": [
    "### List comprehension\n",
    "\n",
    "A more \"pythonic\" way to solve this problem might be with a **list comprehension**. The basic formula for a list comprehension is just something like:\n",
    "\n",
    "```\n",
    "[variable for variable in loop if condition]\n",
    "```\n",
    "\n",
    "So to find even numbers, you could just run the below code:"
   ]
  },
  {
   "cell_type": "markdown",
   "metadata": {
    "id": "kMS796C7TcXx"
   },
   "source": []
  },
  {
   "cell_type": "code",
   "execution_count": null,
   "metadata": {
    "colab": {
     "base_uri": "https://localhost:8080/"
    },
    "executionInfo": {
     "elapsed": 544,
     "status": "ok",
     "timestamp": 1610556859701,
     "user": {
      "displayName": "Daniel Shanahan",
      "photoUrl": "https://lh3.googleusercontent.com/a-/AOh14Gj-j1dY0ZR8a6BnCn-NtHHpeew76MIO_89yOwiCOQ=s64",
      "userId": "10085329517298963001"
     },
     "user_tz": 300
    },
    "id": "644czpFfn3TR",
    "outputId": "3c33aaa0-45ad-4b1c-caaf-796c55cd48e4"
   },
   "outputs": [
    {
     "name": "stdout",
     "output_type": "stream",
     "text": [
      "[2, 4, 6, 8, 10, 12, 14, 16, 18, 20, 22, 24, 26, 28, 30, 32, 34, 36, 38, 40, 42, 44, 46, 48, 50, 52, 54, 56, 58, 60, 62, 64, 66, 68, 70, 72, 74, 76, 78, 80, 82, 84, 86, 88, 90, 92, 94, 96, 98]\n"
     ]
    }
   ],
   "source": [
    "even = [i for i in range(1,101) if i % 2==0]\n",
    "print(even)"
   ]
  },
  {
   "cell_type": "markdown",
   "metadata": {
    "id": "Ca8zct3JuERN"
   },
   "source": [
    "If we want to count how long the list is, we can use the ```len``` function, which is built in to Python (it means length)."
   ]
  },
  {
   "cell_type": "code",
   "execution_count": null,
   "metadata": {
    "colab": {
     "base_uri": "https://localhost:8080/"
    },
    "executionInfo": {
     "elapsed": 249,
     "status": "ok",
     "timestamp": 1610567851470,
     "user": {
      "displayName": "Daniel Shanahan",
      "photoUrl": "https://lh3.googleusercontent.com/a-/AOh14Gj-j1dY0ZR8a6BnCn-NtHHpeew76MIO_89yOwiCOQ=s64",
      "userId": "10085329517298963001"
     },
     "user_tz": 300
    },
    "id": "752LnKUxuOQl",
    "outputId": "6e7c400e-457f-4b98-d6e6-68ab86ea83d2"
   },
   "outputs": [
    {
     "data": {
      "text/plain": [
       "999"
      ]
     },
     "execution_count": 42,
     "metadata": {
      "tags": []
     },
     "output_type": "execute_result"
    }
   ],
   "source": [
    "all_numbers = [i for i in range(1000) if i > 0]\n",
    "len(all_numbers)"
   ]
  },
  {
   "cell_type": "markdown",
   "metadata": {
    "id": "cI1G3G14mSgR"
   },
   "source": [
    "### Functions\n",
    "\n",
    "If you rerun a line of code, it should probably be in a function. If variables are the nouns of your code, a function is the verb. It makes your code do things.\n",
    "\n",
    "So if I don't want to always run the same statement over and over again, I can just put it into a function:\n"
   ]
  },
  {
   "cell_type": "code",
   "execution_count": null,
   "metadata": {
    "colab": {
     "base_uri": "https://localhost:8080/"
    },
    "executionInfo": {
     "elapsed": 222,
     "status": "ok",
     "timestamp": 1610567937699,
     "user": {
      "displayName": "Daniel Shanahan",
      "photoUrl": "https://lh3.googleusercontent.com/a-/AOh14Gj-j1dY0ZR8a6BnCn-NtHHpeew76MIO_89yOwiCOQ=s64",
      "userId": "10085329517298963001"
     },
     "user_tz": 300
    },
    "id": "s58OJYeXqFym",
    "outputId": "442a0e20-9aeb-4d5e-c579-bdc734f06f76"
   },
   "outputs": [
    {
     "name": "stdout",
     "output_type": "stream",
     "text": [
      "dog\n"
     ]
    }
   ],
   "source": [
    "def favorite_pets():\n",
    "  print(\"dog\")\n",
    "\n",
    "favorite_pets()"
   ]
  },
  {
   "cell_type": "markdown",
   "metadata": {
    "id": "YWrM31ToqXSd"
   },
   "source": [
    "Functions become more powerful with arguments (in the parentheses).\n",
    "\n"
   ]
  },
  {
   "cell_type": "code",
   "execution_count": null,
   "metadata": {
    "colab": {
     "base_uri": "https://localhost:8080/"
    },
    "executionInfo": {
     "elapsed": 525,
     "status": "ok",
     "timestamp": 1612144733654,
     "user": {
      "displayName": "Sammy Gardner",
      "photoUrl": "https://lh3.googleusercontent.com/a-/AOh14GgoOmnQ8C3YG9Vh8QZ6UxK8eFZr_6yDNaIbVif3=s64",
      "userId": "02578562682204325372"
     },
     "user_tz": 300
    },
    "id": "EZe5an1_qesD",
    "outputId": "1f28c858-ca23-4bf6-b4cf-4bb2e6785d17"
   },
   "outputs": [
    {
     "name": "stdout",
     "output_type": "stream",
     "text": [
      "J.S. Bach\n"
     ]
    }
   ],
   "source": [
    "def favorite_composer(selection, age):\n",
    "  if selection == \"Bach\" and age != \"65\":\n",
    "    print(\"You don't mean J.S. Bach, you mean CPE.\")\n",
    "  else:\n",
    "    print(\"J.S. Bach\")\n",
    "\n",
    "favorite_composer(\"Bach\", \"65\")"
   ]
  },
  {
   "cell_type": "markdown",
   "metadata": {
    "id": "Ap9LizWksXwD"
   },
   "source": [
    "#### Exercise\n",
    "\n",
    "Write a function that finds evens or odds, depending on the parameter."
   ]
  },
  {
   "cell_type": "code",
   "execution_count": null,
   "metadata": {
    "colab": {
     "base_uri": "https://localhost:8080/"
    },
    "executionInfo": {
     "elapsed": 246,
     "status": "ok",
     "timestamp": 1610569445319,
     "user": {
      "displayName": "Daniel Shanahan",
      "photoUrl": "https://lh3.googleusercontent.com/a-/AOh14Gj-j1dY0ZR8a6BnCn-NtHHpeew76MIO_89yOwiCOQ=s64",
      "userId": "10085329517298963001"
     },
     "user_tz": 300
    },
    "id": "dr7uenaCsvUf",
    "outputId": "67815be8-ca7c-4a8c-b875-a6935c52995d"
   },
   "outputs": [
    {
     "name": "stdout",
     "output_type": "stream",
     "text": [
      "[1, 3, 5, 7, 9, 11, 13, 15, 17, 19, 21, 23, 25, 27, 29, 31, 33, 35, 37, 39, 41, 43, 45, 47, 49, 51, 53, 55, 57, 59, 61, 63, 65, 67, 69, 71, 73, 75, 77, 79, 81, 83, 85, 87, 89, 91, 93, 95, 97, 99]\n"
     ]
    }
   ],
   "source": [
    "### your code here.\n",
    "def even_ands_odds(choice):\n",
    "  if choice == \"even\":\n",
    "    even = [i for i in range(1,101) if i % 2 == 0]\n",
    "    print(even)\n",
    "  else:\n",
    "    odd = [i for i in range(1,101) if i % 2 != 0] \n",
    "    print(odd)\n",
    "\n",
    "even_ands_odds(\"odd\")\n"
   ]
  },
  {
   "cell_type": "markdown",
   "metadata": {
    "id": "tSwv9o2Ht-n7"
   },
   "source": [
    "### Rhythms in a Polish Folksong\n",
    "How would we look at all rhythms in a Polish folksong?"
   ]
  },
  {
   "cell_type": "code",
   "execution_count": null,
   "metadata": {
    "colab": {
     "base_uri": "https://localhost:8080/"
    },
    "executionInfo": {
     "elapsed": 331,
     "status": "ok",
     "timestamp": 1610569933758,
     "user": {
      "displayName": "Daniel Shanahan",
      "photoUrl": "https://lh3.googleusercontent.com/a-/AOh14Gj-j1dY0ZR8a6BnCn-NtHHpeew76MIO_89yOwiCOQ=s64",
      "userId": "10085329517298963001"
     },
     "user_tz": 300
    },
    "id": "gGMlg7FexgkN",
    "outputId": "bdd63c7f-8c42-4e7c-a5a8-2eb5f0999a94"
   },
   "outputs": [
    {
     "name": "stdout",
     "output_type": "stream",
     "text": [
      "!!!OTL: Die verkaufte Muellerin Es ging ein Mueller ins Wald spazieren,\n",
      "!!!ARE: Europa, Osteuropa, Polen, Galizien\n",
      "!!!YOR: 4, S. 344\n",
      "!!    1940 gedruckt\n",
      "!!!SCT: Q0086T\n",
      "!!!YEM: Copyright 1995, estate of Helmut Schaffrath.\n",
      "**kern\n",
      "*ICvox\n",
      "*Ivox\n",
      "*M4/4\n",
      "*k[f#]\n",
      "*G:\n",
      "{4g\n",
      "=1\n",
      "4dd\n",
      "4dd\n",
      "8b\n",
      "8g\n",
      "4gg\n",
      "=2\n",
      "4dd\n",
      "4dd\n",
      "8b\n",
      "8g}\n",
      "{8g\n",
      "8b\n",
      "=3\n",
      "8dd\n",
      "8dd\n",
      "4dd\n",
      "4ee\n",
      "4gg\n",
      "=4\n",
      "4ee\n",
      "4dd}\n",
      "{4.dd\n",
      "8ff#\n",
      "=5\n",
      "8gg\n",
      "8gg\n",
      "4b\n",
      "4cc\n",
      "4a\n",
      "=6\n",
      "2b\n",
      "4gg}\n",
      "==\n",
      "!!!AGN: Ballade, Menschenhandel, Rettung, Hinrichtung\n",
      "!!!ONB: ESAC (Essen Associative Code) Database: BALLADE\n",
      "!!!AMT: simple quadruple\n",
      "!!!AIN: vox\n",
      "!!!EED: Helmut Schaffrath\n",
      "!!!EEV: 1.0\n",
      "*-\n"
     ]
    }
   ],
   "source": [
    "###this prints everything\n",
    "for line in melody:\n",
    "  print(line)"
   ]
  },
  {
   "cell_type": "markdown",
   "metadata": {
    "id": "FRce_PqBx2u8"
   },
   "source": [
    "What about only rhythms?"
   ]
  },
  {
   "cell_type": "code",
   "execution_count": null,
   "metadata": {
    "colab": {
     "base_uri": "https://localhost:8080/"
    },
    "executionInfo": {
     "elapsed": 230,
     "status": "ok",
     "timestamp": 1610557027901,
     "user": {
      "displayName": "Daniel Shanahan",
      "photoUrl": "https://lh3.googleusercontent.com/a-/AOh14Gj-j1dY0ZR8a6BnCn-NtHHpeew76MIO_89yOwiCOQ=s64",
      "userId": "10085329517298963001"
     },
     "user_tz": 300
    },
    "id": "5YkRM74XxzZC",
    "outputId": "3b201cd2-3d25-40c8-91d5-a3192c4d739d"
   },
   "outputs": [
    {
     "name": "stdout",
     "output_type": "stream",
     "text": [
      "{4g\n",
      "4dd\n",
      "4dd\n",
      "8b\n",
      "8g\n",
      "4gg\n",
      "4dd\n",
      "4dd\n",
      "8b\n",
      "8g}\n",
      "{8g\n",
      "8b\n",
      "8dd\n",
      "8dd\n",
      "4dd\n",
      "4ee\n",
      "4gg\n",
      "4ee\n",
      "4dd}\n",
      "{4.dd\n",
      "8ff#\n",
      "8gg\n",
      "8gg\n",
      "4b\n",
      "4cc\n",
      "4a\n",
      "2b\n",
      "4gg}\n"
     ]
    }
   ],
   "source": [
    "###this prints only musical information\n",
    "for line in melody:\n",
    "  if \"!\" not in line and \"=\" not in line and \"*\" not in line:\n",
    "    print(line)"
   ]
  },
  {
   "cell_type": "markdown",
   "metadata": {
    "id": "df8Cr_nos-LF"
   },
   "source": [
    "### Substitutions and Regular Expressions\n",
    "\n",
    "It's useful to be able to substitute things, getting rid of information you don't need and cleaning things up in the process. My favorite way to do this is with \"re.sub\". \"re\" stands for \"[regular expression](https://en.wikipedia.org/wiki/Regular_expression)\", which is a fairly old computational tool of searching for things that are not necessarily exact searches. \n",
    "\n",
    "It's helpful to learn regular expressions as much as possible, especially when dealing with kern files, which are flat text files.\n",
    "\n",
    "So the expression below is subbing cats for dogs. The logic goes:\n",
    "\n",
    "```\n",
    "re.sub(\"what you want to change\", \"what you want to change it with\", where you want to change it)\n",
    "```\n",
    "\n",
    "Notice how I need to include the variable at the end. "
   ]
  },
  {
   "cell_type": "code",
   "execution_count": null,
   "metadata": {
    "colab": {
     "base_uri": "https://localhost:8080/"
    },
    "executionInfo": {
     "elapsed": 227,
     "status": "ok",
     "timestamp": 1610570198178,
     "user": {
      "displayName": "Daniel Shanahan",
      "photoUrl": "https://lh3.googleusercontent.com/a-/AOh14Gj-j1dY0ZR8a6BnCn-NtHHpeew76MIO_89yOwiCOQ=s64",
      "userId": "10085329517298963001"
     },
     "user_tz": 300
    },
    "id": "bkH3iCtasilx",
    "outputId": "830df2d3-0a01-42db-906d-bf5bf829a065"
   },
   "outputs": [
    {
     "name": "stdout",
     "output_type": "stream",
     "text": [
      "dogsorld\n"
     ]
    }
   ],
   "source": [
    "pet = \"cats are the best pet in the world\"\n",
    "corrected = re.sub(\"c.*w\", \"dogs\", pet)\n",
    "print(corrected)"
   ]
  },
  {
   "cell_type": "code",
   "execution_count": null,
   "metadata": {
    "colab": {
     "base_uri": "https://localhost:8080/"
    },
    "executionInfo": {
     "elapsed": 272,
     "status": "ok",
     "timestamp": 1610570325291,
     "user": {
      "displayName": "Daniel Shanahan",
      "photoUrl": "https://lh3.googleusercontent.com/a-/AOh14Gj-j1dY0ZR8a6BnCn-NtHHpeew76MIO_89yOwiCOQ=s64",
      "userId": "10085329517298963001"
     },
     "user_tz": 300
    },
    "id": "nPQ8bHF5WbQv",
    "outputId": "85da162d-dbb4-429b-b444-55be1c40df10"
   },
   "outputs": [
    {
     "name": "stdout",
     "output_type": "stream",
     "text": [
      "['4', '4', '4', '8', '8', '4', '4', '4', '8', '8', '8', '8', '8', '8', '4', '4', '4', '4', '4', '4.', '8', '8', '8', '4', '4', '4', '2', '4']\n",
      "['2' '4' '4.' '8']\n",
      "[ 1 15  1 11]\n"
     ]
    }
   ],
   "source": [
    "##create an empty list\n",
    "x = []\n",
    "## run a loop over every line\n",
    "for line in melody:  \n",
    "  ##only grab rhythmic information\n",
    "  if \"!\" not in line and \"=\" not in line and \"*\" not in line:\n",
    "  ### this is a tough line to parse. It's using regular expressions, and substition.\n",
    "    x.append(re.sub(\"[^0-9._\\]\\[]\", \"\", line))\n",
    "print(x)    \n",
    "\n",
    "### through text.\n",
    "values, counts = np.unique(x, return_counts=True)\n",
    "print(f'{values}\\n{counts}')\n"
   ]
  },
  {
   "cell_type": "code",
   "execution_count": null,
   "metadata": {
    "colab": {
     "base_uri": "https://localhost:8080/",
     "height": 316
    },
    "executionInfo": {
     "elapsed": 663,
     "status": "ok",
     "timestamp": 1610570410018,
     "user": {
      "displayName": "Daniel Shanahan",
      "photoUrl": "https://lh3.googleusercontent.com/a-/AOh14Gj-j1dY0ZR8a6BnCn-NtHHpeew76MIO_89yOwiCOQ=s64",
      "userId": "10085329517298963001"
     },
     "user_tz": 300
    },
    "id": "owHeH0vjXebt",
    "outputId": "381233c0-5f42-490b-c2d4-e3f80f89a0e7"
   },
   "outputs": [
    {
     "data": {
      "text/plain": [
       "(array([15.,  0.,  0., 11.,  0.,  0.,  1.,  0.,  0.,  1.]),\n",
       " array([0. , 0.3, 0.6, 0.9, 1.2, 1.5, 1.8, 2.1, 2.4, 2.7, 3. ]),\n",
       " <a list of 10 Patch objects>)"
      ]
     },
     "execution_count": 69,
     "metadata": {
      "tags": []
     },
     "output_type": "execute_result"
    },
    {
     "data": {
      "image/png": "[encoded data removed]",
      "text/plain": [
       "<Figure size 432x288 with 1 Axes>"
      ]
     },
     "metadata": {
      "needs_background": "light",
      "tags": []
     },
     "output_type": "display_data"
    }
   ],
   "source": [
    "import matplotlib.pyplot as plt\n",
    "plt.hist(x)"
   ]
  },
  {
   "cell_type": "code",
   "execution_count": null,
   "metadata": {
    "colab": {
     "base_uri": "https://localhost:8080/",
     "height": 265
    },
    "executionInfo": {
     "elapsed": 2122,
     "status": "ok",
     "timestamp": 1610502792342,
     "user": {
      "displayName": "Daniel Shanahan",
      "photoUrl": "https://lh3.googleusercontent.com/a-/AOh14Gj-j1dY0ZR8a6BnCn-NtHHpeew76MIO_89yOwiCOQ=s64",
      "userId": "10085329517298963001"
     },
     "user_tz": 300
    },
    "id": "rZAMR2FFZl-p",
    "outputId": "6e1b048a-408b-4896-ad68-0186543a30d1"
   },
   "outputs": [
    {
     "data": {
      "image/png": "[encoded data removed]",
      "text/plain": [
       "<Figure size 432x288 with 1 Axes>"
      ]
     },
     "metadata": {
      "needs_background": "light",
      "tags": []
     },
     "output_type": "display_data"
    }
   ],
   "source": [
    "def rhythm_counter():\n",
    " \n",
    "  x = []\n",
    " \n",
    "  melody = [line.rstrip() for line in open(file_list[6], \"r+\")]\n",
    " \n",
    "  for line in melody:  \n",
    " \n",
    "  ##only grab rhythmic information\n",
    " \n",
    "    if \"!\" not in line and \"=\" not in line and \"*\" not in line:\n",
    " \n",
    "  ### this is a tough line to parse. It's using regular expressions, and substition.\n",
    "      x.append(re.sub(\"[^0-9._\\]\\[]\", \"\", line))\n",
    " \n",
    "  plt.hist(x)    \n",
    "  \n",
    "rhythm_counter() "
   ]
  },
  {
   "cell_type": "code",
   "execution_count": null,
   "metadata": {
    "colab": {
     "base_uri": "https://localhost:8080/",
     "height": 265
    },
    "executionInfo": {
     "elapsed": 10375,
     "status": "ok",
     "timestamp": 1610570459673,
     "user": {
      "displayName": "Daniel Shanahan",
      "photoUrl": "https://lh3.googleusercontent.com/a-/AOh14Gj-j1dY0ZR8a6BnCn-NtHHpeew76MIO_89yOwiCOQ=s64",
      "userId": "10085329517298963001"
     },
     "user_tz": 300
    },
    "id": "vHAE1eVou7i9",
    "outputId": "2def3ee6-2ce6-40bc-999a-c9712ce58383"
   },
   "outputs": [
    {
     "data": {
      "image/png": "[encoded data removed]",
      "text/plain": [
       "<Figure size 432x288 with 1 Axes>"
      ]
     },
     "metadata": {
      "needs_background": "light",
      "tags": []
     },
     "output_type": "display_data"
    }
   ],
   "source": [
    "def rhythm_counter(number):\n",
    "  x = []\n",
    "  \n",
    "  melody = [line.rstrip() for line in open(file_list[number], \"r+\")]\n",
    "  \n",
    "  for line in melody:  \n",
    "  \n",
    "  ##only grab rhythmic information\n",
    "    if \"!\" not in line and \"=\" not in line and \"*\" not in line:\n",
    " \n",
    "  ### this is a tough line to parse. It's using regular expressions, and substition.\n",
    "      x.append(re.sub(\"[^0-9._\\]\\[]\", \"\", line))\n",
    "      plt.hist(x)\n",
    " \n",
    "    \n",
    "  \n",
    "for file in range(10):  \n",
    "  rhythm_counter(file) \n"
   ]
  }
 ],
 "metadata": {
  "colab": {
   "collapsed_sections": [],
   "name": "Week_01.ipynb",
   "provenance": [],
   "toc_visible": true
  },
  "kernelspec": {
   "display_name": "Python 3",
   "language": "python",
   "name": "python3"
  },
  "language_info": {
   "codemirror_mode": {
    "name": "ipython",
    "version": 3
   },
   "file_extension": ".py",
   "mimetype": "text/x-python",
   "name": "python",
   "nbconvert_exporter": "python",
   "pygments_lexer": "ipython3",
   "version": "3.9.4"
  }
 },
 "nbformat": 4,
 "nbformat_minor": 1
}
