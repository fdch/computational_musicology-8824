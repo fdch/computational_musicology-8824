{
 "cells": [
  {
   "cell_type": "markdown",
   "metadata": {},
   "source": [
    "# Pandas and Spotify Data"
   ]
  },
  {
   "cell_type": "code",
   "execution_count": null,
   "metadata": {
    "colab": {
     "base_uri": "https://localhost:8080/"
    },
    "executionInfo": {
     "elapsed": 28102,
     "status": "ok",
     "timestamp": 1617041499838,
     "user": {
      "displayName": "Daniel Shanahan",
      "photoUrl": "https://lh3.googleusercontent.com/a-/AOh14Gj-j1dY0ZR8a6BnCn-NtHHpeew76MIO_89yOwiCOQ=s64",
      "userId": "10085329517298963001"
     },
     "user_tz": 240
    },
    "id": "Msgc0nHYkjgM",
    "outputId": "5b89b9fc-f724-4971-e9dd-7514aa32af55"
   },
   "outputs": [
    {
     "name": "stderr",
     "output_type": "stream",
     "text": [
      "/usr/local/lib/python3.7/dist-packages/statsmodels/tools/_testing.py:19: FutureWarning: pandas.util.testing is deprecated. Use the functions in the public API at pandas.testing instead.\n",
      "  import pandas.util.testing as tm\n"
     ]
    },
    {
     "name": "stdout",
     "output_type": "stream",
     "text": [
      "Mounted at content\n"
     ]
    }
   ],
   "source": [
    "from google.colab import drive\n",
    "import pandas as pd\n",
    "import numpy as np\n",
    "import matplotlib.pyplot as plt\n",
    "from sklearn.linear_model import LinearRegression \n",
    "import statsmodels.api as sm\n",
    "from scipy.stats import ttest_ind\n",
    "import seaborn as sns\n",
    "drive.mount('content')"
   ]
  },
  {
   "cell_type": "markdown",
   "metadata": {
    "id": "RnVsBj4qkvGb"
   },
   "source": [
    "## Goals this week.\n",
    "\n",
    "- Look at a dataframe, and perform some descriptive statistics.\n",
    "- Discuss some types of data analysis. Specifically, we will discuss:\n",
    " * means\n",
    " * medians\n",
    " * standard deviations\n",
    " * linear regressions\n",
    " * t-tests\n",
    " * an intro to plotting\n",
    " \n",
    "\n",
    " ### Importing Pandas\n",
    "\n",
    " First, we need to import pandas. We should also import some data!"
   ]
  },
  {
   "cell_type": "markdown",
   "metadata": {
    "id": "ZU5X7Y7fmTET"
   },
   "source": []
  },
  {
   "cell_type": "code",
   "execution_count": null,
   "metadata": {
    "id": "vdHvyEjMmJu0"
   },
   "outputs": [],
   "source": [
    "beyonce = pd.read_csv(\"content/MyDrive/python_scratch/spotify_data/beyonce.csv\") "
   ]
  },
  {
   "cell_type": "markdown",
   "metadata": {
    "id": "v3l8V4PoohoH"
   },
   "source": [
    "Alright! Now our data is available in a dataframe.\n",
    "\n",
    "We can look at the whole thing by typing in `beyonce`, or we can get a brief look at it by typing in `print(beyonce)`."
   ]
  },
  {
   "cell_type": "code",
   "execution_count": null,
   "metadata": {
    "colab": {
     "base_uri": "https://localhost:8080/"
    },
    "executionInfo": {
     "elapsed": 257,
     "status": "ok",
     "timestamp": 1617043073417,
     "user": {
      "displayName": "Daniel Shanahan",
      "photoUrl": "https://lh3.googleusercontent.com/a-/AOh14Gj-j1dY0ZR8a6BnCn-NtHHpeew76MIO_89yOwiCOQ=s64",
      "userId": "10085329517298963001"
     },
     "user_tz": 240
    },
    "id": "d_9Z2G8Mn6Qw",
    "outputId": "f6c65460-5ed3-4ae0-a0dc-5a21eb304a3b"
   },
   "outputs": [
    {
     "name": "stdout",
     "output_type": "stream",
     "text": [
      "     Unnamed: 0 artist_name  ... mode_name  key_mode\n",
      "0             1     Beyoncé  ...     major   B major\n",
      "1             2     Beyoncé  ...     minor  C# minor\n",
      "2             3     Beyoncé  ...     minor   F minor\n",
      "3             4     Beyoncé  ...     major   C major\n",
      "4             5     Beyoncé  ...     minor   A minor\n",
      "..          ...         ...  ...       ...       ...\n",
      "433         434     Beyoncé  ...     major  F# major\n",
      "434         435     Beyoncé  ...     minor   F minor\n",
      "435         436     Beyoncé  ...     minor   B minor\n",
      "436         437     Beyoncé  ...     major   F major\n",
      "437         438     Beyoncé  ...     major   E major\n",
      "\n",
      "[438 rows x 40 columns]\n"
     ]
    }
   ],
   "source": [
    "print(beyonce)"
   ]
  },
  {
   "cell_type": "markdown",
   "metadata": {
    "id": "HeAF2lJwq6QR"
   },
   "source": [
    "For an even more succinct (and possibly more helpful) view of the dataframe, the `.info` function can be used. "
   ]
  },
  {
   "cell_type": "code",
   "execution_count": null,
   "metadata": {
    "colab": {
     "base_uri": "https://localhost:8080/"
    },
    "executionInfo": {
     "elapsed": 235,
     "status": "ok",
     "timestamp": 1617043100651,
     "user": {
      "displayName": "Daniel Shanahan",
      "photoUrl": "https://lh3.googleusercontent.com/a-/AOh14Gj-j1dY0ZR8a6BnCn-NtHHpeew76MIO_89yOwiCOQ=s64",
      "userId": "10085329517298963001"
     },
     "user_tz": 240
    },
    "id": "MRPUtZwtqzPp",
    "outputId": "45071cf5-3caf-4c8b-d27e-24bba5c2eb94"
   },
   "outputs": [
    {
     "name": "stdout",
     "output_type": "stream",
     "text": [
      "<class 'pandas.core.frame.DataFrame'>\n",
      "RangeIndex: 438 entries, 0 to 437\n",
      "Data columns (total 40 columns):\n",
      " #   Column                        Non-Null Count  Dtype  \n",
      "---  ------                        --------------  -----  \n",
      " 0   Unnamed: 0                    438 non-null    int64  \n",
      " 1   artist_name                   438 non-null    object \n",
      " 2   artist_id                     438 non-null    object \n",
      " 3   album_id                      438 non-null    object \n",
      " 4   album_type                    438 non-null    object \n",
      " 5   album_images                  438 non-null    object \n",
      " 6   album_release_date            438 non-null    object \n",
      " 7   album_release_year            438 non-null    int64  \n",
      " 8   album_release_date_precision  438 non-null    object \n",
      " 9   danceability                  438 non-null    float64\n",
      " 10  energy                        438 non-null    float64\n",
      " 11  key                           438 non-null    int64  \n",
      " 12  loudness                      438 non-null    float64\n",
      " 13  mode                          438 non-null    int64  \n",
      " 14  speechiness                   438 non-null    float64\n",
      " 15  acousticness                  438 non-null    float64\n",
      " 16  instrumentalness              438 non-null    float64\n",
      " 17  liveness                      438 non-null    float64\n",
      " 18  valence                       438 non-null    float64\n",
      " 19  tempo                         438 non-null    float64\n",
      " 20  track_id                      438 non-null    object \n",
      " 21  analysis_url                  438 non-null    object \n",
      " 22  time_signature                438 non-null    int64  \n",
      " 23  artists                       438 non-null    object \n",
      " 24  available_markets             438 non-null    object \n",
      " 25  disc_number                   438 non-null    int64  \n",
      " 26  duration_ms                   438 non-null    int64  \n",
      " 27  explicit                      438 non-null    bool   \n",
      " 28  track_href                    438 non-null    object \n",
      " 29  is_local                      438 non-null    bool   \n",
      " 30  track_name                    438 non-null    object \n",
      " 31  track_preview_url             436 non-null    object \n",
      " 32  track_number                  438 non-null    int64  \n",
      " 33  type                          438 non-null    object \n",
      " 34  track_uri                     438 non-null    object \n",
      " 35  external_urls.spotify         438 non-null    object \n",
      " 36  album_name                    438 non-null    object \n",
      " 37  key_name                      438 non-null    object \n",
      " 38  mode_name                     438 non-null    object \n",
      " 39  key_mode                      438 non-null    object \n",
      "dtypes: bool(2), float64(9), int64(8), object(21)\n",
      "memory usage: 131.0+ KB\n"
     ]
    }
   ],
   "source": [
    "beyonce.info()"
   ]
  },
  {
   "cell_type": "markdown",
   "metadata": {
    "id": "Yz70RHXQpPnb"
   },
   "source": [
    "There are some methods and attributes associated with Pandas objects that allow for us to more easily retrieve information. The most commonly used ones are:\n",
    "\n",
    "\n",
    "* `.head()`\n",
    "* `.tail()`\n",
    "\n",
    "\n",
    "With these, you can get the first or last `n` rows of a dataframe. Unlike unix, in which the default is 10, the default in Pandas is 5.\n",
    "\n",
    "\n",
    "\n"
   ]
  },
  {
   "cell_type": "code",
   "execution_count": null,
   "metadata": {
    "colab": {
     "base_uri": "https://localhost:8080/",
     "height": 496
    },
    "executionInfo": {
     "elapsed": 268,
     "status": "ok",
     "timestamp": 1617043233388,
     "user": {
      "displayName": "Daniel Shanahan",
      "photoUrl": "https://lh3.googleusercontent.com/a-/AOh14Gj-j1dY0ZR8a6BnCn-NtHHpeew76MIO_89yOwiCOQ=s64",
      "userId": "10085329517298963001"
     },
     "user_tz": 240
    },
    "id": "_oeNyHSjqKF0",
    "outputId": "22a1491b-0316-46df-d621-18433894ec6e"
   },
   "outputs": [
    {
     "data": {
      "text/html": [
       "<div>\n",
       "<style scoped>\n",
       "    .dataframe tbody tr th:only-of-type {\n",
       "        vertical-align: middle;\n",
       "    }\n",
       "\n",
       "    .dataframe tbody tr th {\n",
       "        vertical-align: top;\n",
       "    }\n",
       "\n",
       "    .dataframe thead th {\n",
       "        text-align: right;\n",
       "    }\n",
       "</style>\n",
       "<table border=\"1\" class=\"dataframe\">\n",
       "  <thead>\n",
       "    <tr style=\"text-align: right;\">\n",
       "      <th></th>\n",
       "      <th>Unnamed: 0</th>\n",
       "      <th>artist_name</th>\n",
       "      <th>artist_id</th>\n",
       "      <th>album_id</th>\n",
       "      <th>album_type</th>\n",
       "      <th>album_images</th>\n",
       "      <th>album_release_date</th>\n",
       "      <th>album_release_year</th>\n",
       "      <th>album_release_date_precision</th>\n",
       "      <th>danceability</th>\n",
       "      <th>energy</th>\n",
       "      <th>key</th>\n",
       "      <th>loudness</th>\n",
       "      <th>mode</th>\n",
       "      <th>speechiness</th>\n",
       "      <th>acousticness</th>\n",
       "      <th>instrumentalness</th>\n",
       "      <th>liveness</th>\n",
       "      <th>valence</th>\n",
       "      <th>tempo</th>\n",
       "      <th>track_id</th>\n",
       "      <th>analysis_url</th>\n",
       "      <th>time_signature</th>\n",
       "      <th>artists</th>\n",
       "      <th>available_markets</th>\n",
       "      <th>disc_number</th>\n",
       "      <th>duration_ms</th>\n",
       "      <th>explicit</th>\n",
       "      <th>track_href</th>\n",
       "      <th>is_local</th>\n",
       "      <th>track_name</th>\n",
       "      <th>track_preview_url</th>\n",
       "      <th>track_number</th>\n",
       "      <th>type</th>\n",
       "      <th>track_uri</th>\n",
       "      <th>external_urls.spotify</th>\n",
       "      <th>album_name</th>\n",
       "      <th>key_name</th>\n",
       "      <th>mode_name</th>\n",
       "      <th>key_mode</th>\n",
       "    </tr>\n",
       "  </thead>\n",
       "  <tbody>\n",
       "    <tr>\n",
       "      <th>433</th>\n",
       "      <td>434</td>\n",
       "      <td>Beyoncé</td>\n",
       "      <td>6vWDO969PvNqNYHIOW5v0m</td>\n",
       "      <td>25hVFAxTlDvXbx2X2QkUkE</td>\n",
       "      <td>album</td>\n",
       "      <td>list(height = c(640, 300, 64), url = c(\"https:...</td>\n",
       "      <td>2003</td>\n",
       "      <td>2003</td>\n",
       "      <td>year</td>\n",
       "      <td>0.619</td>\n",
       "      <td>0.4020</td>\n",
       "      <td>6</td>\n",
       "      <td>-8.054</td>\n",
       "      <td>1</td>\n",
       "      <td>0.0915</td>\n",
       "      <td>0.334</td>\n",
       "      <td>0.0</td>\n",
       "      <td>0.177</td>\n",
       "      <td>0.489</td>\n",
       "      <td>99.947</td>\n",
       "      <td>29W4t00Bj5uBwmtuphAhyY</td>\n",
       "      <td>https://api.spotify.com/v1/audio-analysis/29W4...</td>\n",
       "      <td>4</td>\n",
       "      <td>list(href = \"https://api.spotify.com/v1/artist...</td>\n",
       "      <td>c(\"AT\", \"CH\", \"DE\", \"LI\")</td>\n",
       "      <td>1</td>\n",
       "      <td>293106</td>\n",
       "      <td>False</td>\n",
       "      <td>https://api.spotify.com/v1/tracks/29W4t00Bj5uB...</td>\n",
       "      <td>False</td>\n",
       "      <td>Dangerously In Love</td>\n",
       "      <td>https://p.scdn.co/mp3-preview/aa580bad422a1e7d...</td>\n",
       "      <td>12</td>\n",
       "      <td>track</td>\n",
       "      <td>spotify:track:29W4t00Bj5uBwmtuphAhyY</td>\n",
       "      <td>https://open.spotify.com/track/29W4t00Bj5uBwmt...</td>\n",
       "      <td>Dangerously In Love (Alben für die Ewigkeit)</td>\n",
       "      <td>F#</td>\n",
       "      <td>major</td>\n",
       "      <td>F# major</td>\n",
       "    </tr>\n",
       "    <tr>\n",
       "      <th>434</th>\n",
       "      <td>435</td>\n",
       "      <td>Beyoncé</td>\n",
       "      <td>6vWDO969PvNqNYHIOW5v0m</td>\n",
       "      <td>25hVFAxTlDvXbx2X2QkUkE</td>\n",
       "      <td>album</td>\n",
       "      <td>list(height = c(640, 300, 64), url = c(\"https:...</td>\n",
       "      <td>2003</td>\n",
       "      <td>2003</td>\n",
       "      <td>year</td>\n",
       "      <td>0.693</td>\n",
       "      <td>0.0457</td>\n",
       "      <td>5</td>\n",
       "      <td>-20.803</td>\n",
       "      <td>0</td>\n",
       "      <td>0.8030</td>\n",
       "      <td>0.423</td>\n",
       "      <td>0.0</td>\n",
       "      <td>0.122</td>\n",
       "      <td>0.541</td>\n",
       "      <td>133.173</td>\n",
       "      <td>74LAP3swRIVaUFEcWi90Iv</td>\n",
       "      <td>https://api.spotify.com/v1/audio-analysis/74LA...</td>\n",
       "      <td>3</td>\n",
       "      <td>list(href = \"https://api.spotify.com/v1/artist...</td>\n",
       "      <td>c(\"AT\", \"CH\", \"DE\", \"LI\")</td>\n",
       "      <td>1</td>\n",
       "      <td>16360</td>\n",
       "      <td>False</td>\n",
       "      <td>https://api.spotify.com/v1/tracks/74LAP3swRIVa...</td>\n",
       "      <td>False</td>\n",
       "      <td>Beyoncé Interlude</td>\n",
       "      <td>https://p.scdn.co/mp3-preview/f3d6675d78a00d62...</td>\n",
       "      <td>13</td>\n",
       "      <td>track</td>\n",
       "      <td>spotify:track:74LAP3swRIVaUFEcWi90Iv</td>\n",
       "      <td>https://open.spotify.com/track/74LAP3swRIVaUFE...</td>\n",
       "      <td>Dangerously In Love (Alben für die Ewigkeit)</td>\n",
       "      <td>F</td>\n",
       "      <td>minor</td>\n",
       "      <td>F minor</td>\n",
       "    </tr>\n",
       "    <tr>\n",
       "      <th>435</th>\n",
       "      <td>436</td>\n",
       "      <td>Beyoncé</td>\n",
       "      <td>6vWDO969PvNqNYHIOW5v0m</td>\n",
       "      <td>25hVFAxTlDvXbx2X2QkUkE</td>\n",
       "      <td>album</td>\n",
       "      <td>list(height = c(640, 300, 64), url = c(\"https:...</td>\n",
       "      <td>2003</td>\n",
       "      <td>2003</td>\n",
       "      <td>year</td>\n",
       "      <td>0.349</td>\n",
       "      <td>0.2650</td>\n",
       "      <td>11</td>\n",
       "      <td>-12.790</td>\n",
       "      <td>0</td>\n",
       "      <td>0.0542</td>\n",
       "      <td>0.904</td>\n",
       "      <td>0.0</td>\n",
       "      <td>0.241</td>\n",
       "      <td>0.311</td>\n",
       "      <td>93.615</td>\n",
       "      <td>1ABGVrP1QEzjMPfzM0KXKt</td>\n",
       "      <td>https://api.spotify.com/v1/audio-analysis/1ABG...</td>\n",
       "      <td>3</td>\n",
       "      <td>list(href = \"https://api.spotify.com/v1/artist...</td>\n",
       "      <td>c(\"AT\", \"CH\", \"DE\", \"LI\")</td>\n",
       "      <td>1</td>\n",
       "      <td>163706</td>\n",
       "      <td>False</td>\n",
       "      <td>https://api.spotify.com/v1/tracks/1ABGVrP1QEzj...</td>\n",
       "      <td>False</td>\n",
       "      <td>Gift from Virgo</td>\n",
       "      <td>https://p.scdn.co/mp3-preview/e7e629a306fd3438...</td>\n",
       "      <td>14</td>\n",
       "      <td>track</td>\n",
       "      <td>spotify:track:1ABGVrP1QEzjMPfzM0KXKt</td>\n",
       "      <td>https://open.spotify.com/track/1ABGVrP1QEzjMPf...</td>\n",
       "      <td>Dangerously In Love (Alben für die Ewigkeit)</td>\n",
       "      <td>B</td>\n",
       "      <td>minor</td>\n",
       "      <td>B minor</td>\n",
       "    </tr>\n",
       "    <tr>\n",
       "      <th>436</th>\n",
       "      <td>437</td>\n",
       "      <td>Beyoncé</td>\n",
       "      <td>6vWDO969PvNqNYHIOW5v0m</td>\n",
       "      <td>25hVFAxTlDvXbx2X2QkUkE</td>\n",
       "      <td>album</td>\n",
       "      <td>list(height = c(640, 300, 64), url = c(\"https:...</td>\n",
       "      <td>2003</td>\n",
       "      <td>2003</td>\n",
       "      <td>year</td>\n",
       "      <td>0.683</td>\n",
       "      <td>0.7630</td>\n",
       "      <td>5</td>\n",
       "      <td>-6.588</td>\n",
       "      <td>1</td>\n",
       "      <td>0.1910</td>\n",
       "      <td>0.427</td>\n",
       "      <td>0.0</td>\n",
       "      <td>0.184</td>\n",
       "      <td>0.948</td>\n",
       "      <td>173.954</td>\n",
       "      <td>23npFplgR5Uuj5FwyVvy7h</td>\n",
       "      <td>https://api.spotify.com/v1/audio-analysis/23np...</td>\n",
       "      <td>4</td>\n",
       "      <td>list(href = \"https://api.spotify.com/v1/artist...</td>\n",
       "      <td>c(\"AT\", \"CH\", \"DE\", \"LI\")</td>\n",
       "      <td>1</td>\n",
       "      <td>246066</td>\n",
       "      <td>False</td>\n",
       "      <td>https://api.spotify.com/v1/tracks/23npFplgR5Uu...</td>\n",
       "      <td>False</td>\n",
       "      <td>Work It Out</td>\n",
       "      <td>https://p.scdn.co/mp3-preview/e9898d1c265ea607...</td>\n",
       "      <td>15</td>\n",
       "      <td>track</td>\n",
       "      <td>spotify:track:23npFplgR5Uuj5FwyVvy7h</td>\n",
       "      <td>https://open.spotify.com/track/23npFplgR5Uuj5F...</td>\n",
       "      <td>Dangerously In Love (Alben für die Ewigkeit)</td>\n",
       "      <td>F</td>\n",
       "      <td>major</td>\n",
       "      <td>F major</td>\n",
       "    </tr>\n",
       "    <tr>\n",
       "      <th>437</th>\n",
       "      <td>438</td>\n",
       "      <td>Beyoncé</td>\n",
       "      <td>6vWDO969PvNqNYHIOW5v0m</td>\n",
       "      <td>25hVFAxTlDvXbx2X2QkUkE</td>\n",
       "      <td>album</td>\n",
       "      <td>list(height = c(640, 300, 64), url = c(\"https:...</td>\n",
       "      <td>2003</td>\n",
       "      <td>2003</td>\n",
       "      <td>year</td>\n",
       "      <td>0.515</td>\n",
       "      <td>0.7050</td>\n",
       "      <td>4</td>\n",
       "      <td>-7.924</td>\n",
       "      <td>1</td>\n",
       "      <td>0.3700</td>\n",
       "      <td>0.240</td>\n",
       "      <td>0.0</td>\n",
       "      <td>0.182</td>\n",
       "      <td>0.198</td>\n",
       "      <td>89.861</td>\n",
       "      <td>6IeECiLESgmQDy5IKt5tiA</td>\n",
       "      <td>https://api.spotify.com/v1/audio-analysis/6IeE...</td>\n",
       "      <td>4</td>\n",
       "      <td>list(href = c(\"https://api.spotify.com/v1/arti...</td>\n",
       "      <td>character(0)</td>\n",
       "      <td>1</td>\n",
       "      <td>517120</td>\n",
       "      <td>False</td>\n",
       "      <td>https://api.spotify.com/v1/tracks/6IeECiLESgmQ...</td>\n",
       "      <td>False</td>\n",
       "      <td>'03 Bonnie &amp; Clyde</td>\n",
       "      <td>NaN</td>\n",
       "      <td>16</td>\n",
       "      <td>track</td>\n",
       "      <td>spotify:track:6IeECiLESgmQDy5IKt5tiA</td>\n",
       "      <td>https://open.spotify.com/track/6IeECiLESgmQDy5...</td>\n",
       "      <td>Dangerously In Love (Alben für die Ewigkeit)</td>\n",
       "      <td>E</td>\n",
       "      <td>major</td>\n",
       "      <td>E major</td>\n",
       "    </tr>\n",
       "  </tbody>\n",
       "</table>\n",
       "</div>"
      ],
      "text/plain": [
       "     Unnamed: 0 artist_name  ... mode_name  key_mode\n",
       "433         434     Beyoncé  ...     major  F# major\n",
       "434         435     Beyoncé  ...     minor   F minor\n",
       "435         436     Beyoncé  ...     minor   B minor\n",
       "436         437     Beyoncé  ...     major   F major\n",
       "437         438     Beyoncé  ...     major   E major\n",
       "\n",
       "[5 rows x 40 columns]"
      ]
     },
     "execution_count": 7,
     "metadata": {
      "tags": []
     },
     "output_type": "execute_result"
    }
   ],
   "source": [
    "## shows the last 5 rows:\n",
    "beyonce.tail()"
   ]
  },
  {
   "cell_type": "code",
   "execution_count": null,
   "metadata": {
    "colab": {
     "base_uri": "https://localhost:8080/",
     "height": 281
    },
    "executionInfo": {
     "elapsed": 381,
     "status": "ok",
     "timestamp": 1617043245773,
     "user": {
      "displayName": "Daniel Shanahan",
      "photoUrl": "https://lh3.googleusercontent.com/a-/AOh14Gj-j1dY0ZR8a6BnCn-NtHHpeew76MIO_89yOwiCOQ=s64",
      "userId": "10085329517298963001"
     },
     "user_tz": 240
    },
    "id": "UIKHvDNzqSCK",
    "outputId": "dfe13acf-b9b7-4f4e-b7e2-b8f911ad16db"
   },
   "outputs": [
    {
     "data": {
      "text/html": [
       "<div>\n",
       "<style scoped>\n",
       "    .dataframe tbody tr th:only-of-type {\n",
       "        vertical-align: middle;\n",
       "    }\n",
       "\n",
       "    .dataframe tbody tr th {\n",
       "        vertical-align: top;\n",
       "    }\n",
       "\n",
       "    .dataframe thead th {\n",
       "        text-align: right;\n",
       "    }\n",
       "</style>\n",
       "<table border=\"1\" class=\"dataframe\">\n",
       "  <thead>\n",
       "    <tr style=\"text-align: right;\">\n",
       "      <th></th>\n",
       "      <th>Unnamed: 0</th>\n",
       "      <th>artist_name</th>\n",
       "      <th>artist_id</th>\n",
       "      <th>album_id</th>\n",
       "      <th>album_type</th>\n",
       "      <th>album_images</th>\n",
       "      <th>album_release_date</th>\n",
       "      <th>album_release_year</th>\n",
       "      <th>album_release_date_precision</th>\n",
       "      <th>danceability</th>\n",
       "      <th>energy</th>\n",
       "      <th>key</th>\n",
       "      <th>loudness</th>\n",
       "      <th>mode</th>\n",
       "      <th>speechiness</th>\n",
       "      <th>acousticness</th>\n",
       "      <th>instrumentalness</th>\n",
       "      <th>liveness</th>\n",
       "      <th>valence</th>\n",
       "      <th>tempo</th>\n",
       "      <th>track_id</th>\n",
       "      <th>analysis_url</th>\n",
       "      <th>time_signature</th>\n",
       "      <th>artists</th>\n",
       "      <th>available_markets</th>\n",
       "      <th>disc_number</th>\n",
       "      <th>duration_ms</th>\n",
       "      <th>explicit</th>\n",
       "      <th>track_href</th>\n",
       "      <th>is_local</th>\n",
       "      <th>track_name</th>\n",
       "      <th>track_preview_url</th>\n",
       "      <th>track_number</th>\n",
       "      <th>type</th>\n",
       "      <th>track_uri</th>\n",
       "      <th>external_urls.spotify</th>\n",
       "      <th>album_name</th>\n",
       "      <th>key_name</th>\n",
       "      <th>mode_name</th>\n",
       "      <th>key_mode</th>\n",
       "    </tr>\n",
       "  </thead>\n",
       "  <tbody>\n",
       "    <tr>\n",
       "      <th>0</th>\n",
       "      <td>1</td>\n",
       "      <td>Beyoncé</td>\n",
       "      <td>6vWDO969PvNqNYHIOW5v0m</td>\n",
       "      <td>2UJwKSBUz6rtW4QLK74kQu</td>\n",
       "      <td>album</td>\n",
       "      <td>list(height = c(640, 300, 64), url = c(\"https:...</td>\n",
       "      <td>2014-11-24</td>\n",
       "      <td>2014</td>\n",
       "      <td>day</td>\n",
       "      <td>0.512</td>\n",
       "      <td>0.625</td>\n",
       "      <td>11</td>\n",
       "      <td>-6.764</td>\n",
       "      <td>1</td>\n",
       "      <td>0.0508</td>\n",
       "      <td>0.00308</td>\n",
       "      <td>0.000164</td>\n",
       "      <td>0.346</td>\n",
       "      <td>0.201</td>\n",
       "      <td>129.935</td>\n",
       "      <td>7lUA4P03AhwAw40JHkdyGr</td>\n",
       "      <td>https://api.spotify.com/v1/audio-analysis/7lUA...</td>\n",
       "      <td>4</td>\n",
       "      <td>list(href = \"https://api.spotify.com/v1/artist...</td>\n",
       "      <td>c(\"AD\", \"AR\", \"AT\", \"AU\", \"BE\", \"BG\", \"BO\", \"B...</td>\n",
       "      <td>1</td>\n",
       "      <td>257653</td>\n",
       "      <td>False</td>\n",
       "      <td>https://api.spotify.com/v1/tracks/7lUA4P03AhwA...</td>\n",
       "      <td>False</td>\n",
       "      <td>Pretty Hurts</td>\n",
       "      <td>https://p.scdn.co/mp3-preview/fd617af2cdf7ea1b...</td>\n",
       "      <td>1</td>\n",
       "      <td>track</td>\n",
       "      <td>spotify:track:7lUA4P03AhwAw40JHkdyGr</td>\n",
       "      <td>https://open.spotify.com/track/7lUA4P03AhwAw40...</td>\n",
       "      <td>BEYONCÉ [Platinum Edition]</td>\n",
       "      <td>B</td>\n",
       "      <td>major</td>\n",
       "      <td>B major</td>\n",
       "    </tr>\n",
       "    <tr>\n",
       "      <th>1</th>\n",
       "      <td>2</td>\n",
       "      <td>Beyoncé</td>\n",
       "      <td>6vWDO969PvNqNYHIOW5v0m</td>\n",
       "      <td>2UJwKSBUz6rtW4QLK74kQu</td>\n",
       "      <td>album</td>\n",
       "      <td>list(height = c(640, 300, 64), url = c(\"https:...</td>\n",
       "      <td>2014-11-24</td>\n",
       "      <td>2014</td>\n",
       "      <td>day</td>\n",
       "      <td>0.436</td>\n",
       "      <td>0.534</td>\n",
       "      <td>1</td>\n",
       "      <td>-9.416</td>\n",
       "      <td>0</td>\n",
       "      <td>0.0773</td>\n",
       "      <td>0.10300</td>\n",
       "      <td>0.006430</td>\n",
       "      <td>0.507</td>\n",
       "      <td>0.325</td>\n",
       "      <td>122.822</td>\n",
       "      <td>7cioKB5CHVzk09SOtTyn0T</td>\n",
       "      <td>https://api.spotify.com/v1/audio-analysis/7cio...</td>\n",
       "      <td>4</td>\n",
       "      <td>list(href = \"https://api.spotify.com/v1/artist...</td>\n",
       "      <td>c(\"AD\", \"AR\", \"AT\", \"AU\", \"BE\", \"BG\", \"BO\", \"B...</td>\n",
       "      <td>1</td>\n",
       "      <td>369040</td>\n",
       "      <td>True</td>\n",
       "      <td>https://api.spotify.com/v1/tracks/7cioKB5CHVzk...</td>\n",
       "      <td>False</td>\n",
       "      <td>Haunted</td>\n",
       "      <td>https://p.scdn.co/mp3-preview/63fcd43b454b1dc9...</td>\n",
       "      <td>2</td>\n",
       "      <td>track</td>\n",
       "      <td>spotify:track:7cioKB5CHVzk09SOtTyn0T</td>\n",
       "      <td>https://open.spotify.com/track/7cioKB5CHVzk09S...</td>\n",
       "      <td>BEYONCÉ [Platinum Edition]</td>\n",
       "      <td>C#</td>\n",
       "      <td>minor</td>\n",
       "      <td>C# minor</td>\n",
       "    </tr>\n",
       "    <tr>\n",
       "      <th>2</th>\n",
       "      <td>3</td>\n",
       "      <td>Beyoncé</td>\n",
       "      <td>6vWDO969PvNqNYHIOW5v0m</td>\n",
       "      <td>2UJwKSBUz6rtW4QLK74kQu</td>\n",
       "      <td>album</td>\n",
       "      <td>list(height = c(640, 300, 64), url = c(\"https:...</td>\n",
       "      <td>2014-11-24</td>\n",
       "      <td>2014</td>\n",
       "      <td>day</td>\n",
       "      <td>0.589</td>\n",
       "      <td>0.621</td>\n",
       "      <td>5</td>\n",
       "      <td>-6.902</td>\n",
       "      <td>0</td>\n",
       "      <td>0.0468</td>\n",
       "      <td>0.00969</td>\n",
       "      <td>0.001040</td>\n",
       "      <td>0.181</td>\n",
       "      <td>0.401</td>\n",
       "      <td>140.030</td>\n",
       "      <td>6jG2YzhxptolDzLHTGLt7S</td>\n",
       "      <td>https://api.spotify.com/v1/audio-analysis/6jG2...</td>\n",
       "      <td>4</td>\n",
       "      <td>list(href = c(\"https://api.spotify.com/v1/arti...</td>\n",
       "      <td>c(\"AD\", \"AR\", \"AT\", \"AU\", \"BE\", \"BG\", \"BO\", \"B...</td>\n",
       "      <td>1</td>\n",
       "      <td>323480</td>\n",
       "      <td>True</td>\n",
       "      <td>https://api.spotify.com/v1/tracks/6jG2Yzhxptol...</td>\n",
       "      <td>False</td>\n",
       "      <td>Drunk in Love</td>\n",
       "      <td>https://p.scdn.co/mp3-preview/7052c45ae9298c38...</td>\n",
       "      <td>3</td>\n",
       "      <td>track</td>\n",
       "      <td>spotify:track:6jG2YzhxptolDzLHTGLt7S</td>\n",
       "      <td>https://open.spotify.com/track/6jG2YzhxptolDzL...</td>\n",
       "      <td>BEYONCÉ [Platinum Edition]</td>\n",
       "      <td>F</td>\n",
       "      <td>minor</td>\n",
       "      <td>F minor</td>\n",
       "    </tr>\n",
       "  </tbody>\n",
       "</table>\n",
       "</div>"
      ],
      "text/plain": [
       "   Unnamed: 0 artist_name               artist_id  ... key_name mode_name  key_mode\n",
       "0           1     Beyoncé  6vWDO969PvNqNYHIOW5v0m  ...        B     major   B major\n",
       "1           2     Beyoncé  6vWDO969PvNqNYHIOW5v0m  ...       C#     minor  C# minor\n",
       "2           3     Beyoncé  6vWDO969PvNqNYHIOW5v0m  ...        F     minor   F minor\n",
       "\n",
       "[3 rows x 40 columns]"
      ]
     },
     "execution_count": 8,
     "metadata": {
      "tags": []
     },
     "output_type": "execute_result"
    }
   ],
   "source": [
    "#shows the first 3 rows:\n",
    "beyonce.head(3)"
   ]
  },
  {
   "cell_type": "markdown",
   "metadata": {
    "id": "vb1gI3iXqHeh"
   },
   "source": [
    "\n",
    "There are also some And attributes:\n",
    "\n",
    "\n",
    "* `.columns`\n",
    "* `.dtypes`\n",
    "* `.shape`\n",
    "\n",
    "With the  `.columns` function, you can access the column labels of the dataframe.\n",
    "\n",
    "Using `.dtypes` returns the data types of each column in the dataframe.\n",
    "\n",
    "The `.shape` function returns number of rows and columns in the dataframe."
   ]
  },
  {
   "cell_type": "code",
   "execution_count": null,
   "metadata": {
    "colab": {
     "base_uri": "https://localhost:8080/"
    },
    "executionInfo": {
     "elapsed": 260,
     "status": "ok",
     "timestamp": 1617043303061,
     "user": {
      "displayName": "Daniel Shanahan",
      "photoUrl": "https://lh3.googleusercontent.com/a-/AOh14Gj-j1dY0ZR8a6BnCn-NtHHpeew76MIO_89yOwiCOQ=s64",
      "userId": "10085329517298963001"
     },
     "user_tz": 240
    },
    "id": "06GMsDlSr2pq",
    "outputId": "64052aa7-7477-4134-d6d3-af1c53a22696"
   },
   "outputs": [
    {
     "data": {
      "text/plain": [
       "Index(['Unnamed: 0', 'artist_name', 'artist_id', 'album_id', 'album_type',\n",
       "       'album_images', 'album_release_date', 'album_release_year',\n",
       "       'album_release_date_precision', 'danceability', 'energy', 'key',\n",
       "       'loudness', 'mode', 'speechiness', 'acousticness', 'instrumentalness',\n",
       "       'liveness', 'valence', 'tempo', 'track_id', 'analysis_url',\n",
       "       'time_signature', 'artists', 'available_markets', 'disc_number',\n",
       "       'duration_ms', 'explicit', 'track_href', 'is_local', 'track_name',\n",
       "       'track_preview_url', 'track_number', 'type', 'track_uri',\n",
       "       'external_urls.spotify', 'album_name', 'key_name', 'mode_name',\n",
       "       'key_mode'],\n",
       "      dtype='object')"
      ]
     },
     "execution_count": 9,
     "metadata": {
      "tags": []
     },
     "output_type": "execute_result"
    }
   ],
   "source": [
    "beyonce.columns\n"
   ]
  },
  {
   "cell_type": "code",
   "execution_count": null,
   "metadata": {
    "colab": {
     "base_uri": "https://localhost:8080/"
    },
    "executionInfo": {
     "elapsed": 228,
     "status": "ok",
     "timestamp": 1617043310810,
     "user": {
      "displayName": "Daniel Shanahan",
      "photoUrl": "https://lh3.googleusercontent.com/a-/AOh14Gj-j1dY0ZR8a6BnCn-NtHHpeew76MIO_89yOwiCOQ=s64",
      "userId": "10085329517298963001"
     },
     "user_tz": 240
    },
    "id": "9ezKW-T0r7Lh",
    "outputId": "2d1805db-4183-49d7-dc4b-923134d20fb1"
   },
   "outputs": [
    {
     "data": {
      "text/plain": [
       "Unnamed: 0                        int64\n",
       "artist_name                      object\n",
       "artist_id                        object\n",
       "album_id                         object\n",
       "album_type                       object\n",
       "album_images                     object\n",
       "album_release_date               object\n",
       "album_release_year                int64\n",
       "album_release_date_precision     object\n",
       "danceability                    float64\n",
       "energy                          float64\n",
       "key                               int64\n",
       "loudness                        float64\n",
       "mode                              int64\n",
       "speechiness                     float64\n",
       "acousticness                    float64\n",
       "instrumentalness                float64\n",
       "liveness                        float64\n",
       "valence                         float64\n",
       "tempo                           float64\n",
       "track_id                         object\n",
       "analysis_url                     object\n",
       "time_signature                    int64\n",
       "artists                          object\n",
       "available_markets                object\n",
       "disc_number                       int64\n",
       "duration_ms                       int64\n",
       "explicit                           bool\n",
       "track_href                       object\n",
       "is_local                           bool\n",
       "track_name                       object\n",
       "track_preview_url                object\n",
       "track_number                      int64\n",
       "type                             object\n",
       "track_uri                        object\n",
       "external_urls.spotify            object\n",
       "album_name                       object\n",
       "key_name                         object\n",
       "mode_name                        object\n",
       "key_mode                         object\n",
       "dtype: object"
      ]
     },
     "execution_count": 10,
     "metadata": {
      "tags": []
     },
     "output_type": "execute_result"
    }
   ],
   "source": [
    "beyonce.dtypes\n"
   ]
  },
  {
   "cell_type": "code",
   "execution_count": null,
   "metadata": {
    "colab": {
     "base_uri": "https://localhost:8080/"
    },
    "executionInfo": {
     "elapsed": 222,
     "status": "ok",
     "timestamp": 1617043330934,
     "user": {
      "displayName": "Daniel Shanahan",
      "photoUrl": "https://lh3.googleusercontent.com/a-/AOh14Gj-j1dY0ZR8a6BnCn-NtHHpeew76MIO_89yOwiCOQ=s64",
      "userId": "10085329517298963001"
     },
     "user_tz": 240
    },
    "id": "3gN5iW1esFP7",
    "outputId": "ee4f8a89-6ccd-4e5b-9045-35f519eaedcc"
   },
   "outputs": [
    {
     "data": {
      "text/plain": [
       "(438, 40)"
      ]
     },
     "execution_count": 11,
     "metadata": {
      "tags": []
     },
     "output_type": "execute_result"
    }
   ],
   "source": [
    "beyonce.shape"
   ]
  },
  {
   "cell_type": "markdown",
   "metadata": {
    "id": "gXyNUJYRsQRT"
   },
   "source": [
    "## Picking out specific things.\n",
    "\n",
    "\n",
    "`.iloc`, (integer location) can look up rows by position.\n",
    "\n",
    "`.loc` can find columns by label or lookup."
   ]
  },
  {
   "cell_type": "code",
   "execution_count": null,
   "metadata": {
    "colab": {
     "base_uri": "https://localhost:8080/"
    },
    "executionInfo": {
     "elapsed": 233,
     "status": "ok",
     "timestamp": 1617043369406,
     "user": {
      "displayName": "Daniel Shanahan",
      "photoUrl": "https://lh3.googleusercontent.com/a-/AOh14Gj-j1dY0ZR8a6BnCn-NtHHpeew76MIO_89yOwiCOQ=s64",
      "userId": "10085329517298963001"
     },
     "user_tz": 240
    },
    "id": "B4V9A2KXsG2Q",
    "outputId": "76e3e3f7-de4e-4be3-b9ed-4caae68a5b0a"
   },
   "outputs": [
    {
     "data": {
      "text/plain": [
       "Unnamed: 0                                                                      4\n",
       "artist_name                                                               Beyoncé\n",
       "artist_id                                                  6vWDO969PvNqNYHIOW5v0m\n",
       "album_id                                                   2UJwKSBUz6rtW4QLK74kQu\n",
       "album_type                                                                  album\n",
       "album_images                    list(height = c(640, 300, 64), url = c(\"https:...\n",
       "album_release_date                                                     2014-11-24\n",
       "album_release_year                                                           2014\n",
       "album_release_date_precision                                                  day\n",
       "danceability                                                                0.875\n",
       "energy                                                                      0.434\n",
       "key                                                                             0\n",
       "loudness                                                                   -7.683\n",
       "mode                                                                            1\n",
       "speechiness                                                                 0.091\n",
       "acousticness                                                                0.242\n",
       "instrumentalness                                                          0.00146\n",
       "liveness                                                                    0.234\n",
       "valence                                                                     0.777\n",
       "tempo                                                                     120.065\n",
       "track_id                                                   6wwrYruEgWlowPDZMq5116\n",
       "analysis_url                    https://api.spotify.com/v1/audio-analysis/6wwr...\n",
       "time_signature                                                                  4\n",
       "artists                         list(href = \"https://api.spotify.com/v1/artist...\n",
       "available_markets               c(\"AD\", \"AR\", \"AT\", \"AU\", \"BE\", \"BG\", \"BO\", \"B...\n",
       "disc_number                                                                     1\n",
       "duration_ms                                                                309720\n",
       "explicit                                                                    False\n",
       "track_href                      https://api.spotify.com/v1/tracks/6wwrYruEgWlo...\n",
       "is_local                                                                    False\n",
       "track_name                                                                   Blow\n",
       "track_preview_url               https://p.scdn.co/mp3-preview/7939ef46f6f8992a...\n",
       "track_number                                                                    4\n",
       "type                                                                        track\n",
       "track_uri                                    spotify:track:6wwrYruEgWlowPDZMq5116\n",
       "external_urls.spotify           https://open.spotify.com/track/6wwrYruEgWlowPD...\n",
       "album_name                                             BEYONCÉ [Platinum Edition]\n",
       "key_name                                                                        C\n",
       "mode_name                                                                   major\n",
       "key_mode                                                                  C major\n",
       "Name: 3, dtype: object"
      ]
     },
     "execution_count": 12,
     "metadata": {
      "tags": []
     },
     "output_type": "execute_result"
    }
   ],
   "source": [
    "###finds the fourth row:\n",
    "\n",
    "beyonce.iloc[3]"
   ]
  },
  {
   "cell_type": "code",
   "execution_count": null,
   "metadata": {
    "colab": {
     "base_uri": "https://localhost:8080/"
    },
    "executionInfo": {
     "elapsed": 209,
     "status": "ok",
     "timestamp": 1617043432698,
     "user": {
      "displayName": "Daniel Shanahan",
      "photoUrl": "https://lh3.googleusercontent.com/a-/AOh14Gj-j1dY0ZR8a6BnCn-NtHHpeew76MIO_89yOwiCOQ=s64",
      "userId": "10085329517298963001"
     },
     "user_tz": 240
    },
    "id": "YeUH34P4sqmP",
    "outputId": "73786fba-9f4d-4763-cfd3-71d83a994bfc"
   },
   "outputs": [
    {
     "data": {
      "text/plain": [
       "Unnamed: 0                                                                    438\n",
       "artist_name                                                               Beyoncé\n",
       "artist_id                                                  6vWDO969PvNqNYHIOW5v0m\n",
       "album_id                                                   25hVFAxTlDvXbx2X2QkUkE\n",
       "album_type                                                                  album\n",
       "album_images                    list(height = c(640, 300, 64), url = c(\"https:...\n",
       "album_release_date                                                           2003\n",
       "album_release_year                                                           2003\n",
       "album_release_date_precision                                                 year\n",
       "danceability                                                                0.515\n",
       "energy                                                                      0.705\n",
       "key                                                                             4\n",
       "loudness                                                                   -7.924\n",
       "mode                                                                            1\n",
       "speechiness                                                                  0.37\n",
       "acousticness                                                                 0.24\n",
       "instrumentalness                                                                0\n",
       "liveness                                                                    0.182\n",
       "valence                                                                     0.198\n",
       "tempo                                                                      89.861\n",
       "track_id                                                   6IeECiLESgmQDy5IKt5tiA\n",
       "analysis_url                    https://api.spotify.com/v1/audio-analysis/6IeE...\n",
       "time_signature                                                                  4\n",
       "artists                         list(href = c(\"https://api.spotify.com/v1/arti...\n",
       "available_markets                                                    character(0)\n",
       "disc_number                                                                     1\n",
       "duration_ms                                                                517120\n",
       "explicit                                                                    False\n",
       "track_href                      https://api.spotify.com/v1/tracks/6IeECiLESgmQ...\n",
       "is_local                                                                    False\n",
       "track_name                                                     '03 Bonnie & Clyde\n",
       "track_preview_url                                                             NaN\n",
       "track_number                                                                   16\n",
       "type                                                                        track\n",
       "track_uri                                    spotify:track:6IeECiLESgmQDy5IKt5tiA\n",
       "external_urls.spotify           https://open.spotify.com/track/6IeECiLESgmQDy5...\n",
       "album_name                           Dangerously In Love (Alben für die Ewigkeit)\n",
       "key_name                                                                        E\n",
       "mode_name                                                                   major\n",
       "key_mode                                                                  E major\n",
       "Name: 437, dtype: object"
      ]
     },
     "execution_count": 14,
     "metadata": {
      "tags": []
     },
     "output_type": "execute_result"
    }
   ],
   "source": [
    "## or a range:\n",
    "\n",
    "beyonce.iloc[-1]"
   ]
  },
  {
   "cell_type": "markdown",
   "metadata": {
    "id": "UNs0SZkVtW8s"
   },
   "source": [
    "With `.loc` we can select columns based on both their row index and column name. For example:"
   ]
  },
  {
   "cell_type": "code",
   "execution_count": null,
   "metadata": {
    "colab": {
     "base_uri": "https://localhost:8080/"
    },
    "executionInfo": {
     "elapsed": 237,
     "status": "ok",
     "timestamp": 1617043500468,
     "user": {
      "displayName": "Daniel Shanahan",
      "photoUrl": "https://lh3.googleusercontent.com/a-/AOh14Gj-j1dY0ZR8a6BnCn-NtHHpeew76MIO_89yOwiCOQ=s64",
      "userId": "10085329517298963001"
     },
     "user_tz": 240
    },
    "id": "sNbdrYmqtKKe",
    "outputId": "6486e65f-74f7-414b-a33c-8ed6c114bef8"
   },
   "outputs": [
    {
     "data": {
      "text/plain": [
       "1    122.822\n",
       "2    140.030\n",
       "3    120.065\n",
       "Name: tempo, dtype: float64"
      ]
     },
     "execution_count": 15,
     "metadata": {
      "tags": []
     },
     "output_type": "execute_result"
    }
   ],
   "source": [
    "beyonce.loc[1:3, 'tempo']"
   ]
  },
  {
   "cell_type": "markdown",
   "metadata": {
    "id": "QMm_B9fDuUoa"
   },
   "source": [
    "We can find columns by names like so:"
   ]
  },
  {
   "cell_type": "code",
   "execution_count": null,
   "metadata": {
    "id": "y6YEg0Nrtim_"
   },
   "outputs": [],
   "source": [
    "beyonce_tempi = beyonce['tempo']\n",
    "for i in beyonce_tempi:\n",
    "  if i < 120:\n",
    "    print(\"slow\")\n",
    "  else:\n",
    "    print(\"fast\")"
   ]
  },
  {
   "cell_type": "code",
   "execution_count": null,
   "metadata": {
    "id": "dmNi_mQAuZUt"
   },
   "outputs": [],
   "source": [
    "###or just find fast pieces:\n",
    "tempo = beyonce['tempo']  \n",
    "fast = beyonce[tempo > 160]\n",
    "print(fast)"
   ]
  },
  {
   "cell_type": "markdown",
   "metadata": {
    "id": "O1kWK8ljvZrA"
   },
   "source": [
    "## Calculating Summary Statistics\n",
    "\n",
    "Let's look at how to find some summary statistics first."
   ]
  },
  {
   "cell_type": "code",
   "execution_count": null,
   "metadata": {
    "colab": {
     "base_uri": "https://localhost:8080/"
    },
    "executionInfo": {
     "elapsed": 211,
     "status": "ok",
     "timestamp": 1617043700359,
     "user": {
      "displayName": "Daniel Shanahan",
      "photoUrl": "https://lh3.googleusercontent.com/a-/AOh14Gj-j1dY0ZR8a6BnCn-NtHHpeew76MIO_89yOwiCOQ=s64",
      "userId": "10085329517298963001"
     },
     "user_tz": 240
    },
    "id": "7LIXy9Q1uihS",
    "outputId": "f59dfb8f-36dc-4efc-fa2c-3036ea5cb3f6"
   },
   "outputs": [
    {
     "data": {
      "text/plain": [
       "0.18018508515981732"
      ]
     },
     "execution_count": 21,
     "metadata": {
      "tags": []
     },
     "output_type": "execute_result"
    }
   ],
   "source": [
    "## the mean \"acousticness\" in Beyonce.\n",
    "beyonce[\"acousticness\"].mean()\n"
   ]
  },
  {
   "cell_type": "code",
   "execution_count": null,
   "metadata": {
    "colab": {
     "base_uri": "https://localhost:8080/"
    },
    "executionInfo": {
     "elapsed": 214,
     "status": "ok",
     "timestamp": 1617043704806,
     "user": {
      "displayName": "Daniel Shanahan",
      "photoUrl": "https://lh3.googleusercontent.com/a-/AOh14Gj-j1dY0ZR8a6BnCn-NtHHpeew76MIO_89yOwiCOQ=s64",
      "userId": "10085329517298963001"
     },
     "user_tz": 240
    },
    "id": "h3D3OhUqvg-t",
    "outputId": "aff11370-cf4f-45f4-fb58-8eb3e35494a6"
   },
   "outputs": [
    {
     "data": {
      "text/plain": [
       "0.0947"
      ]
     },
     "execution_count": 22,
     "metadata": {
      "tags": []
     },
     "output_type": "execute_result"
    }
   ],
   "source": [
    "## the median \"acousticness\" in Beyonce.\n",
    "beyonce[\"acousticness\"].median()"
   ]
  },
  {
   "cell_type": "code",
   "execution_count": null,
   "metadata": {
    "colab": {
     "base_uri": "https://localhost:8080/",
     "height": 297
    },
    "executionInfo": {
     "elapsed": 213,
     "status": "ok",
     "timestamp": 1617043980240,
     "user": {
      "displayName": "Daniel Shanahan",
      "photoUrl": "https://lh3.googleusercontent.com/a-/AOh14Gj-j1dY0ZR8a6BnCn-NtHHpeew76MIO_89yOwiCOQ=s64",
      "userId": "10085329517298963001"
     },
     "user_tz": 240
    },
    "id": "3YvhJO4Rvo5T",
    "outputId": "a1debdbb-3a28-4168-a632-484f0d76eef6"
   },
   "outputs": [
    {
     "data": {
      "text/html": [
       "<div>\n",
       "<style scoped>\n",
       "    .dataframe tbody tr th:only-of-type {\n",
       "        vertical-align: middle;\n",
       "    }\n",
       "\n",
       "    .dataframe tbody tr th {\n",
       "        vertical-align: top;\n",
       "    }\n",
       "\n",
       "    .dataframe thead th {\n",
       "        text-align: right;\n",
       "    }\n",
       "</style>\n",
       "<table border=\"1\" class=\"dataframe\">\n",
       "  <thead>\n",
       "    <tr style=\"text-align: right;\">\n",
       "      <th></th>\n",
       "      <th>tempo</th>\n",
       "      <th>danceability</th>\n",
       "      <th>acousticness</th>\n",
       "    </tr>\n",
       "  </thead>\n",
       "  <tbody>\n",
       "    <tr>\n",
       "      <th>count</th>\n",
       "      <td>438.000000</td>\n",
       "      <td>438.000000</td>\n",
       "      <td>438.000000</td>\n",
       "    </tr>\n",
       "    <tr>\n",
       "      <th>mean</th>\n",
       "      <td>117.535203</td>\n",
       "      <td>0.579792</td>\n",
       "      <td>0.180185</td>\n",
       "    </tr>\n",
       "    <tr>\n",
       "      <th>std</th>\n",
       "      <td>32.090024</td>\n",
       "      <td>0.168656</td>\n",
       "      <td>0.210869</td>\n",
       "    </tr>\n",
       "    <tr>\n",
       "      <th>min</th>\n",
       "      <td>63.345000</td>\n",
       "      <td>0.143000</td>\n",
       "      <td>0.000066</td>\n",
       "    </tr>\n",
       "    <tr>\n",
       "      <th>25%</th>\n",
       "      <td>93.615000</td>\n",
       "      <td>0.467250</td>\n",
       "      <td>0.025875</td>\n",
       "    </tr>\n",
       "    <tr>\n",
       "      <th>50%</th>\n",
       "      <td>107.051000</td>\n",
       "      <td>0.576000</td>\n",
       "      <td>0.094700</td>\n",
       "    </tr>\n",
       "    <tr>\n",
       "      <th>75%</th>\n",
       "      <td>137.093500</td>\n",
       "      <td>0.709750</td>\n",
       "      <td>0.247000</td>\n",
       "    </tr>\n",
       "    <tr>\n",
       "      <th>max</th>\n",
       "      <td>200.053000</td>\n",
       "      <td>0.925000</td>\n",
       "      <td>0.904000</td>\n",
       "    </tr>\n",
       "  </tbody>\n",
       "</table>\n",
       "</div>"
      ],
      "text/plain": [
       "            tempo  danceability  acousticness\n",
       "count  438.000000    438.000000    438.000000\n",
       "mean   117.535203      0.579792      0.180185\n",
       "std     32.090024      0.168656      0.210869\n",
       "min     63.345000      0.143000      0.000066\n",
       "25%     93.615000      0.467250      0.025875\n",
       "50%    107.051000      0.576000      0.094700\n",
       "75%    137.093500      0.709750      0.247000\n",
       "max    200.053000      0.925000      0.904000"
      ]
     },
     "execution_count": 29,
     "metadata": {
      "tags": []
     },
     "output_type": "execute_result"
    }
   ],
   "source": [
    "beyonce[[\"tempo\", \"danceability\", \"acousticness\"]].describe()"
   ]
  },
  {
   "cell_type": "code",
   "execution_count": null,
   "metadata": {
    "colab": {
     "base_uri": "https://localhost:8080/",
     "height": 142
    },
    "executionInfo": {
     "elapsed": 245,
     "status": "ok",
     "timestamp": 1617044073996,
     "user": {
      "displayName": "Daniel Shanahan",
      "photoUrl": "https://lh3.googleusercontent.com/a-/AOh14Gj-j1dY0ZR8a6BnCn-NtHHpeew76MIO_89yOwiCOQ=s64",
      "userId": "10085329517298963001"
     },
     "user_tz": 240
    },
    "id": "c5otvtoLv47Z",
    "outputId": "fada28ee-1111-4ffe-8a07-527d89240980"
   },
   "outputs": [
    {
     "data": {
      "text/html": [
       "<div>\n",
       "<style scoped>\n",
       "    .dataframe tbody tr th:only-of-type {\n",
       "        vertical-align: middle;\n",
       "    }\n",
       "\n",
       "    .dataframe tbody tr th {\n",
       "        vertical-align: top;\n",
       "    }\n",
       "\n",
       "    .dataframe thead th {\n",
       "        text-align: right;\n",
       "    }\n",
       "</style>\n",
       "<table border=\"1\" class=\"dataframe\">\n",
       "  <thead>\n",
       "    <tr style=\"text-align: right;\">\n",
       "      <th></th>\n",
       "      <th>tempo</th>\n",
       "    </tr>\n",
       "    <tr>\n",
       "      <th>explicit</th>\n",
       "      <th></th>\n",
       "    </tr>\n",
       "  </thead>\n",
       "  <tbody>\n",
       "    <tr>\n",
       "      <th>False</th>\n",
       "      <td>117.232375</td>\n",
       "    </tr>\n",
       "    <tr>\n",
       "      <th>True</th>\n",
       "      <td>131.970000</td>\n",
       "    </tr>\n",
       "  </tbody>\n",
       "</table>\n",
       "</div>"
      ],
      "text/plain": [
       "               tempo\n",
       "explicit            \n",
       "False     117.232375\n",
       "True      131.970000"
      ]
     },
     "execution_count": 30,
     "metadata": {
      "tags": []
     },
     "output_type": "execute_result"
    }
   ],
   "source": [
    "## are Beyonce's \"explicit\" songs faster?\n",
    "beyonce[[\"tempo\", \"explicit\"]].groupby(\"explicit\").mean()"
   ]
  },
  {
   "cell_type": "code",
   "execution_count": null,
   "metadata": {
    "colab": {
     "base_uri": "https://localhost:8080/",
     "height": 179
    },
    "executionInfo": {
     "elapsed": 207,
     "status": "ok",
     "timestamp": 1617044095416,
     "user": {
      "displayName": "Daniel Shanahan",
      "photoUrl": "https://lh3.googleusercontent.com/a-/AOh14Gj-j1dY0ZR8a6BnCn-NtHHpeew76MIO_89yOwiCOQ=s64",
      "userId": "10085329517298963001"
     },
     "user_tz": 240
    },
    "id": "D3G17mZiwUaM",
    "outputId": "be1ff906-9eb3-4995-f508-a5807007fd7f"
   },
   "outputs": [
    {
     "data": {
      "text/html": [
       "<div>\n",
       "<style scoped>\n",
       "    .dataframe tbody tr th:only-of-type {\n",
       "        vertical-align: middle;\n",
       "    }\n",
       "\n",
       "    .dataframe tbody tr th {\n",
       "        vertical-align: top;\n",
       "    }\n",
       "\n",
       "    .dataframe thead th {\n",
       "        text-align: right;\n",
       "    }\n",
       "</style>\n",
       "<table border=\"1\" class=\"dataframe\">\n",
       "  <thead>\n",
       "    <tr style=\"text-align: right;\">\n",
       "      <th></th>\n",
       "      <th>Unnamed: 0</th>\n",
       "      <th>album_release_year</th>\n",
       "      <th>danceability</th>\n",
       "      <th>energy</th>\n",
       "      <th>key</th>\n",
       "      <th>loudness</th>\n",
       "      <th>mode</th>\n",
       "      <th>speechiness</th>\n",
       "      <th>acousticness</th>\n",
       "      <th>instrumentalness</th>\n",
       "      <th>liveness</th>\n",
       "      <th>valence</th>\n",
       "      <th>tempo</th>\n",
       "      <th>time_signature</th>\n",
       "      <th>disc_number</th>\n",
       "      <th>duration_ms</th>\n",
       "      <th>is_local</th>\n",
       "      <th>track_number</th>\n",
       "    </tr>\n",
       "    <tr>\n",
       "      <th>explicit</th>\n",
       "      <th></th>\n",
       "      <th></th>\n",
       "      <th></th>\n",
       "      <th></th>\n",
       "      <th></th>\n",
       "      <th></th>\n",
       "      <th></th>\n",
       "      <th></th>\n",
       "      <th></th>\n",
       "      <th></th>\n",
       "      <th></th>\n",
       "      <th></th>\n",
       "      <th></th>\n",
       "      <th></th>\n",
       "      <th></th>\n",
       "      <th></th>\n",
       "      <th></th>\n",
       "      <th></th>\n",
       "    </tr>\n",
       "  </thead>\n",
       "  <tbody>\n",
       "    <tr>\n",
       "      <th>False</th>\n",
       "      <td>223.622378</td>\n",
       "      <td>2007.983683</td>\n",
       "      <td>0.581019</td>\n",
       "      <td>0.645393</td>\n",
       "      <td>5.275058</td>\n",
       "      <td>-6.981506</td>\n",
       "      <td>0.731935</td>\n",
       "      <td>0.174589</td>\n",
       "      <td>0.180921</td>\n",
       "      <td>0.013613</td>\n",
       "      <td>0.244634</td>\n",
       "      <td>0.469716</td>\n",
       "      <td>117.232375</td>\n",
       "      <td>3.895105</td>\n",
       "      <td>1.146853</td>\n",
       "      <td>241044.209790</td>\n",
       "      <td>False</td>\n",
       "      <td>7.393939</td>\n",
       "    </tr>\n",
       "    <tr>\n",
       "      <th>True</th>\n",
       "      <td>23.000000</td>\n",
       "      <td>2013.444444</td>\n",
       "      <td>0.521333</td>\n",
       "      <td>0.550889</td>\n",
       "      <td>4.777778</td>\n",
       "      <td>-8.107333</td>\n",
       "      <td>0.555556</td>\n",
       "      <td>0.171011</td>\n",
       "      <td>0.145088</td>\n",
       "      <td>0.009180</td>\n",
       "      <td>0.325533</td>\n",
       "      <td>0.353178</td>\n",
       "      <td>131.970000</td>\n",
       "      <td>3.888889</td>\n",
       "      <td>1.222222</td>\n",
       "      <td>327531.555556</td>\n",
       "      <td>False</td>\n",
       "      <td>5.777778</td>\n",
       "    </tr>\n",
       "  </tbody>\n",
       "</table>\n",
       "</div>"
      ],
      "text/plain": [
       "          Unnamed: 0  album_release_year  ...  is_local  track_number\n",
       "explicit                                  ...                        \n",
       "False     223.622378         2007.983683  ...     False      7.393939\n",
       "True       23.000000         2013.444444  ...     False      5.777778\n",
       "\n",
       "[2 rows x 18 columns]"
      ]
     },
     "execution_count": 31,
     "metadata": {
      "tags": []
     },
     "output_type": "execute_result"
    }
   ],
   "source": [
    "## do they differ in other ways?\n",
    "beyonce.groupby(\"explicit\").mean()"
   ]
  },
  {
   "cell_type": "code",
   "execution_count": null,
   "metadata": {
    "colab": {
     "base_uri": "https://localhost:8080/"
    },
    "executionInfo": {
     "elapsed": 232,
     "status": "ok",
     "timestamp": 1617044170021,
     "user": {
      "displayName": "Daniel Shanahan",
      "photoUrl": "https://lh3.googleusercontent.com/a-/AOh14Gj-j1dY0ZR8a6BnCn-NtHHpeew76MIO_89yOwiCOQ=s64",
      "userId": "10085329517298963001"
     },
     "user_tz": 240
    },
    "id": "jAK6GY_6ws4T",
    "outputId": "72565195-2314-4479-ac99-98aa55a84560"
   },
   "outputs": [
    {
     "data": {
      "text/plain": [
       "explicit  time_signature\n",
       "False     1                 125.738000\n",
       "          3                 113.264684\n",
       "          4                 118.316360\n",
       "          5                  79.544625\n",
       "True      3                 140.415000\n",
       "          4                 130.914375\n",
       "Name: tempo, dtype: float64"
      ]
     },
     "execution_count": 32,
     "metadata": {
      "tags": []
     },
     "output_type": "execute_result"
    }
   ],
   "source": [
    "### does meter matter?\n",
    "beyonce.groupby([\"explicit\", \"time_signature\"])[\"tempo\"].mean()\n"
   ]
  },
  {
   "cell_type": "code",
   "execution_count": null,
   "metadata": {
    "colab": {
     "base_uri": "https://localhost:8080/"
    },
    "executionInfo": {
     "elapsed": 248,
     "status": "ok",
     "timestamp": 1617044253542,
     "user": {
      "displayName": "Daniel Shanahan",
      "photoUrl": "https://lh3.googleusercontent.com/a-/AOh14Gj-j1dY0ZR8a6BnCn-NtHHpeew76MIO_89yOwiCOQ=s64",
      "userId": "10085329517298963001"
     },
     "user_tz": 240
    },
    "id": "aczcQbegxV-n",
    "outputId": "75e5b29b-e261-454a-b6f0-f632d24fde80"
   },
   "outputs": [
    {
     "data": {
      "text/plain": [
       "explicit  time_signature\n",
       "False     1                   5\n",
       "          3                  38\n",
       "          4                 378\n",
       "          5                   8\n",
       "True      3                   1\n",
       "          4                   8\n",
       "Name: tempo, dtype: int64"
      ]
     },
     "execution_count": 33,
     "metadata": {
      "tags": []
     },
     "output_type": "execute_result"
    }
   ],
   "source": [
    "# what are these counts, though?\n",
    "beyonce.groupby([\"explicit\", \"time_signature\"])[\"tempo\"].count()"
   ]
  },
  {
   "cell_type": "code",
   "execution_count": null,
   "metadata": {
    "colab": {
     "base_uri": "https://localhost:8080/"
    },
    "executionInfo": {
     "elapsed": 235,
     "status": "ok",
     "timestamp": 1617044310673,
     "user": {
      "displayName": "Daniel Shanahan",
      "photoUrl": "https://lh3.googleusercontent.com/a-/AOh14Gj-j1dY0ZR8a6BnCn-NtHHpeew76MIO_89yOwiCOQ=s64",
      "userId": "10085329517298963001"
     },
     "user_tz": 240
    },
    "id": "HX66ru9QxqnB",
    "outputId": "9f1145ad-144d-4ba6-e380-a3e33de02166"
   },
   "outputs": [
    {
     "data": {
      "text/plain": [
       "0.21086927911388673"
      ]
     },
     "execution_count": 34,
     "metadata": {
      "tags": []
     },
     "output_type": "execute_result"
    }
   ],
   "source": [
    "## standard deviation \n",
    "beyonce[\"acousticness\"].std()"
   ]
  },
  {
   "cell_type": "code",
   "execution_count": null,
   "metadata": {
    "id": "LbSRztqWyNDx"
   },
   "outputs": [],
   "source": [
    "tempo = beyonce['tempo']  \n",
    "danceability = beyonce['danceability']  \n",
    "tempo = tempo.values.reshape(-1, 1)  # values converts it into a numpy array\n",
    "danceability = danceability.values.reshape(-1, 1)\n",
    "linear_regressor = LinearRegression()  # create object for the class\n",
    "estimate = linear_regressor.fit(tempo, danceability)  # perform linear regression\n",
    "danceability_pred = linear_regressor.predict(tempo)  # make predictions\n"
   ]
  },
  {
   "cell_type": "code",
   "execution_count": null,
   "metadata": {
    "colab": {
     "base_uri": "https://localhost:8080/",
     "height": 265
    },
    "executionInfo": {
     "elapsed": 470,
     "status": "ok",
     "timestamp": 1617044454852,
     "user": {
      "displayName": "Daniel Shanahan",
      "photoUrl": "https://lh3.googleusercontent.com/a-/AOh14Gj-j1dY0ZR8a6BnCn-NtHHpeew76MIO_89yOwiCOQ=s64",
      "userId": "10085329517298963001"
     },
     "user_tz": 240
    },
    "id": "UQ9nN4L0zS3F",
    "outputId": "ea8b41f0-bd31-4c2a-c645-2c3d2e4671da"
   },
   "outputs": [
    {
     "data": {
      "image/png": "[encoded data removed]",
      "text/plain": [
       "<Figure size 432x288 with 1 Axes>"
      ]
     },
     "metadata": {
      "needs_background": "light",
      "tags": []
     },
     "output_type": "display_data"
    }
   ],
   "source": [
    "plt.scatter(tempo, danceability)\n",
    "plt.plot(tempo, danceability_pred, color='red')\n",
    "plt.show()"
   ]
  },
  {
   "cell_type": "code",
   "execution_count": null,
   "metadata": {
    "colab": {
     "base_uri": "https://localhost:8080/"
    },
    "executionInfo": {
     "elapsed": 333,
     "status": "ok",
     "timestamp": 1617044461411,
     "user": {
      "displayName": "Daniel Shanahan",
      "photoUrl": "https://lh3.googleusercontent.com/a-/AOh14Gj-j1dY0ZR8a6BnCn-NtHHpeew76MIO_89yOwiCOQ=s64",
      "userId": "10085329517298963001"
     },
     "user_tz": 240
    },
    "id": "EgEW-dKzRdIk",
    "outputId": "e62e35a2-d88f-48c8-9d6e-df380be8456e"
   },
   "outputs": [
    {
     "name": "stdout",
     "output_type": "stream",
     "text": [
      "                            OLS Regression Results                            \n",
      "==============================================================================\n",
      "Dep. Variable:                      y   R-squared:                       0.001\n",
      "Model:                            OLS   Adj. R-squared:                 -0.001\n",
      "Method:                 Least Squares   F-statistic:                    0.3908\n",
      "Date:                Mon, 29 Mar 2021   Prob (F-statistic):              0.532\n",
      "Time:                        19:01:01   Log-Likelihood:                 158.80\n",
      "No. Observations:                 438   AIC:                            -313.6\n",
      "Df Residuals:                     436   BIC:                            -305.4\n",
      "Df Model:                           1                                         \n",
      "Covariance Type:            nonrobust                                         \n",
      "==============================================================================\n",
      "                 coef    std err          t      P>|t|      [0.025      0.975]\n",
      "------------------------------------------------------------------------------\n",
      "const          0.5613      0.031     18.313      0.000       0.501       0.622\n",
      "x1             0.0002      0.000      0.625      0.532      -0.000       0.001\n",
      "==============================================================================\n",
      "Omnibus:                       18.672   Durbin-Watson:                   1.261\n",
      "Prob(Omnibus):                  0.000   Jarque-Bera (JB):                9.201\n",
      "Skew:                          -0.130   Prob(JB):                       0.0100\n",
      "Kurtosis:                       2.339   Cond. No.                         463.\n",
      "==============================================================================\n",
      "\n",
      "Warnings:\n",
      "[1] Standard Errors assume that the covariance matrix of the errors is correctly specified.\n"
     ]
    }
   ],
   "source": [
    "### using the stats toolkit (sm) we can get specifics of the model.\n",
    "tempo_2 = sm.add_constant(tempo)\n",
    "est = sm.OLS(danceability, tempo_2)\n",
    "est2 = est.fit()\n",
    "print(est2.summary())"
   ]
  },
  {
   "cell_type": "markdown",
   "metadata": {
    "id": "tkuMuTRrS43Y"
   },
   "source": [
    "## Testing a hypothesis\n",
    "\n",
    "Let's state a hypothesis:\n",
    "\n",
    "H1: Beyonce's music becomes less \"danceable\" over time."
   ]
  },
  {
   "cell_type": "code",
   "execution_count": null,
   "metadata": {
    "colab": {
     "base_uri": "https://localhost:8080/",
     "height": 265
    },
    "executionInfo": {
     "elapsed": 395,
     "status": "ok",
     "timestamp": 1617044559492,
     "user": {
      "displayName": "Daniel Shanahan",
      "photoUrl": "https://lh3.googleusercontent.com/a-/AOh14Gj-j1dY0ZR8a6BnCn-NtHHpeew76MIO_89yOwiCOQ=s64",
      "userId": "10085329517298963001"
     },
     "user_tz": 240
    },
    "id": "dMdxiTlMRiZl",
    "outputId": "af340b86-c86c-4084-adad-abcac0c09314"
   },
   "outputs": [
    {
     "data": {
      "image/png": "[encoded data removed]",
      "text/plain": [
       "<Figure size 432x288 with 1 Axes>"
      ]
     },
     "metadata": {
      "needs_background": "light",
      "tags": []
     },
     "output_type": "display_data"
    }
   ],
   "source": [
    "year = beyonce['album_release_year'].values.reshape(-1,1)\n",
    "danceability = beyonce['danceability'].values.reshape(-1,1)\n",
    "linear_regressor = LinearRegression()  # create object for the class\n",
    "estimate = linear_regressor.fit(year, danceability)  # perform linear regression\n",
    "danceability_pred = linear_regressor.predict(year)  # make predictions\n",
    "plt.scatter(year, danceability)\n",
    "plt.plot(year, danceability_pred, color='red')\n",
    "plt.show()"
   ]
  },
  {
   "cell_type": "code",
   "execution_count": null,
   "metadata": {
    "colab": {
     "base_uri": "https://localhost:8080/"
    },
    "executionInfo": {
     "elapsed": 248,
     "status": "ok",
     "timestamp": 1617044570450,
     "user": {
      "displayName": "Daniel Shanahan",
      "photoUrl": "https://lh3.googleusercontent.com/a-/AOh14Gj-j1dY0ZR8a6BnCn-NtHHpeew76MIO_89yOwiCOQ=s64",
      "userId": "10085329517298963001"
     },
     "user_tz": 240
    },
    "id": "OsAShRj5Tg8-",
    "outputId": "87389df1-d471-44b6-a6fb-bed82cf78ffe"
   },
   "outputs": [
    {
     "name": "stdout",
     "output_type": "stream",
     "text": [
      "                            OLS Regression Results                            \n",
      "==============================================================================\n",
      "Dep. Variable:                      y   R-squared:                       0.004\n",
      "Model:                            OLS   Adj. R-squared:                  0.001\n",
      "Method:                 Least Squares   F-statistic:                     1.600\n",
      "Date:                Mon, 29 Mar 2021   Prob (F-statistic):              0.207\n",
      "Time:                        19:02:50   Log-Likelihood:                -1094.0\n",
      "No. Observations:                 438   AIC:                             2192.\n",
      "Df Residuals:                     436   BIC:                             2200.\n",
      "Df Model:                           1                                         \n",
      "Covariance Type:            nonrobust                                         \n",
      "==============================================================================\n",
      "                 coef    std err          t      P>|t|      [0.025      0.975]\n",
      "------------------------------------------------------------------------------\n",
      "const       2007.4426      0.535   3750.100      0.000    2006.390    2008.495\n",
      "x1             0.0056      0.004      1.265      0.207      -0.003       0.014\n",
      "==============================================================================\n",
      "Omnibus:                        9.957   Durbin-Watson:                   0.011\n",
      "Prob(Omnibus):                  0.007   Jarque-Bera (JB):                9.879\n",
      "Skew:                           0.336   Prob(JB):                      0.00716\n",
      "Kurtosis:                       2.699   Cond. No.                         463.\n",
      "==============================================================================\n",
      "\n",
      "Warnings:\n",
      "[1] Standard Errors assume that the covariance matrix of the errors is correctly specified.\n"
     ]
    }
   ],
   "source": [
    "### using the stats toolkit (sm) we can get specifics of the model.\n",
    "tempo_2 = sm.add_constant(tempo)\n",
    "est = sm.OLS(year, tempo_2)\n",
    "est2 = est.fit()\n",
    "print(est2.summary())"
   ]
  },
  {
   "cell_type": "markdown",
   "metadata": {
    "id": "-WZuhR0_T5cf"
   },
   "source": [
    "## Results:\n",
    "\n",
    "We were not able to reject the null hypothesis.\n",
    "\n",
    "Let's keep digging!\n",
    "\n",
    "Is Beyonce's music faster than Taylor Swift's?"
   ]
  },
  {
   "cell_type": "code",
   "execution_count": null,
   "metadata": {
    "colab": {
     "base_uri": "https://localhost:8080/"
    },
    "executionInfo": {
     "elapsed": 211,
     "status": "ok",
     "timestamp": 1617044705469,
     "user": {
      "displayName": "Daniel Shanahan",
      "photoUrl": "https://lh3.googleusercontent.com/a-/AOh14Gj-j1dY0ZR8a6BnCn-NtHHpeew76MIO_89yOwiCOQ=s64",
      "userId": "10085329517298963001"
     },
     "user_tz": 240
    },
    "id": "rCkE97QwLml5",
    "outputId": "14d3be5b-88ac-48e0-f77a-10efce23da43"
   },
   "outputs": [
    {
     "data": {
      "text/plain": [
       "Ttest_indResult(statistic=array([-0.57972078]), pvalue=array([0.56223576]))"
      ]
     },
     "execution_count": 43,
     "metadata": {
      "tags": []
     },
     "output_type": "execute_result"
    }
   ],
   "source": []
  },
  {
   "cell_type": "code",
   "execution_count": null,
   "metadata": {
    "id": "Wh_E9_KLTi88"
   },
   "outputs": [],
   "source": [
    "taylor = pd.read_csv(\"content/MyDrive/python_scratch/spotify_data/taylor.csv\") "
   ]
  },
  {
   "cell_type": "code",
   "execution_count": null,
   "metadata": {
    "id": "kSJxz4wWTkl1"
   },
   "outputs": [],
   "source": [
    "beyonce_tempo = beyonce['tempo'].values.reshape(-1,1)\n",
    "taylor_tempo = taylor['tempo'].values.reshape(-1,1)"
   ]
  },
  {
   "cell_type": "code",
   "execution_count": null,
   "metadata": {
    "colab": {
     "base_uri": "https://localhost:8080/"
    },
    "executionInfo": {
     "elapsed": 214,
     "status": "ok",
     "timestamp": 1617044748096,
     "user": {
      "displayName": "Daniel Shanahan",
      "photoUrl": "https://lh3.googleusercontent.com/a-/AOh14Gj-j1dY0ZR8a6BnCn-NtHHpeew76MIO_89yOwiCOQ=s64",
      "userId": "10085329517298963001"
     },
     "user_tz": 240
    },
    "id": "1hvivyKKVgW0",
    "outputId": "99dfc26c-0027-4d9e-a10c-a92522a4a69f"
   },
   "outputs": [
    {
     "name": "stdout",
     "output_type": "stream",
     "text": [
      "the p-value is:[0.56223576], tset\n",
      "We are accepting null hypothesis that the distributions are not significantly different.\n"
     ]
    }
   ],
   "source": [
    "\n",
    "tset, pval = ttest_ind(beyonce_tempo, taylor_tempo)\n",
    "print(f\"the p-value is:{pval}, tset\")\n",
    "if pval < 0.05:    # alpha value is 0.05 or 5%\n",
    "   print(\"We are rejecting the null hypothesis. Hooray\")\n",
    "else:\n",
    "  print(\"We are accepting null hypothesis that the distributions are not significantly different.\")"
   ]
  },
  {
   "cell_type": "code",
   "execution_count": null,
   "metadata": {
    "id": "xNQa14ehWcRC"
   },
   "outputs": [],
   "source": [
    "tempi = list(zip(taylor_tempo, beyonce_tempo))\n",
    "df = pd.DataFrame(tempi, columns = ['Taylor', 'Beyonce'])"
   ]
  },
  {
   "cell_type": "code",
   "execution_count": null,
   "metadata": {
    "colab": {
     "base_uri": "https://localhost:8080/"
    },
    "executionInfo": {
     "elapsed": 227,
     "status": "ok",
     "timestamp": 1617044761254,
     "user": {
      "displayName": "Daniel Shanahan",
      "photoUrl": "https://lh3.googleusercontent.com/a-/AOh14Gj-j1dY0ZR8a6BnCn-NtHHpeew76MIO_89yOwiCOQ=s64",
      "userId": "10085329517298963001"
     },
     "user_tz": 240
    },
    "id": "_NSKyyB1XLtA",
    "outputId": "b803bef5-bf19-4a65-cb32-2a0f3ac5a7d5"
   },
   "outputs": [
    {
     "name": "stdout",
     "output_type": "stream",
     "text": [
      "                   Taylor    Beyonce\n",
      "0               [160.015]  [129.935]\n",
      "1    [159.07299999999998]  [122.822]\n",
      "2     [82.98899999999999]   [140.03]\n",
      "3               [135.917]  [120.065]\n",
      "4                [95.045]   [111.58]\n",
      "..                    ...        ...\n",
      "433   [96.03399999999999]   [99.947]\n",
      "434  [108.76700000000001]  [133.173]\n",
      "435  [100.02799999999999]   [93.615]\n",
      "436              [61.867]  [173.954]\n",
      "437   [95.48700000000001]   [89.861]\n",
      "\n",
      "[438 rows x 2 columns]\n"
     ]
    }
   ],
   "source": [
    "print(df)"
   ]
  },
  {
   "cell_type": "code",
   "execution_count": null,
   "metadata": {
    "colab": {
     "base_uri": "https://localhost:8080/",
     "height": 438
    },
    "executionInfo": {
     "elapsed": 656,
     "status": "ok",
     "timestamp": 1617044836849,
     "user": {
      "displayName": "Daniel Shanahan",
      "photoUrl": "https://lh3.googleusercontent.com/a-/AOh14Gj-j1dY0ZR8a6BnCn-NtHHpeew76MIO_89yOwiCOQ=s64",
      "userId": "10085329517298963001"
     },
     "user_tz": 240
    },
    "id": "RpaWyn6YYQpg",
    "outputId": "9226d4c5-23a0-4d21-9ad4-8a89f8170245"
   },
   "outputs": [
    {
     "name": "stderr",
     "output_type": "stream",
     "text": [
      "/usr/local/lib/python3.7/dist-packages/seaborn/distributions.py:2557: FutureWarning: `distplot` is a deprecated function and will be removed in a future version. Please adapt your code to use either `displot` (a figure-level function with similar flexibility) or `histplot` (an axes-level function for histograms).\n",
      "  warnings.warn(msg, FutureWarning)\n",
      "/usr/local/lib/python3.7/dist-packages/seaborn/distributions.py:2056: FutureWarning: The `axis` variable is no longer used and will be removed. Instead, assign variables directly to `x` or `y`.\n",
      "  warnings.warn(msg, FutureWarning)\n",
      "/usr/local/lib/python3.7/dist-packages/seaborn/distributions.py:2557: FutureWarning: `distplot` is a deprecated function and will be removed in a future version. Please adapt your code to use either `displot` (a figure-level function with similar flexibility) or `histplot` (an axes-level function for histograms).\n",
      "  warnings.warn(msg, FutureWarning)\n",
      "/usr/local/lib/python3.7/dist-packages/seaborn/distributions.py:2056: FutureWarning: The `axis` variable is no longer used and will be removed. Instead, assign variables directly to `x` or `y`.\n",
      "  warnings.warn(msg, FutureWarning)\n"
     ]
    },
    {
     "data": {
      "text/plain": [
       "<matplotlib.axes._subplots.AxesSubplot at 0x7f562f9dce90>"
      ]
     },
     "execution_count": 50,
     "metadata": {
      "tags": []
     },
     "output_type": "execute_result"
    },
    {
     "data": {
      "image/png": "[encoded data removed]",
      "text/plain": [
       "<Figure size 432x288 with 1 Axes>"
      ]
     },
     "metadata": {
      "needs_background": "light",
      "tags": []
     },
     "output_type": "display_data"
    }
   ],
   "source": [
    "sns.distplot(df[['Taylor']], hist=False, rug=True)\n",
    "sns.distplot(df[['Beyonce']], hist=False, rug=True)\n"
   ]
  },
  {
   "cell_type": "markdown",
   "metadata": {
    "id": "EihIFa_pc5sF"
   },
   "source": [
    "## Exercise\n",
    "\n",
    "We've done a lot of things on a single object.\n",
    "\n",
    "Wouldn't this be a good use of a class? How would we turn all of these ideas that we've just analyzed into a class?"
   ]
  },
  {
   "cell_type": "code",
   "execution_count": 78,
   "metadata": {
    "executionInfo": {
     "elapsed": 429,
     "status": "ok",
     "timestamp": 1617051533424,
     "user": {
      "displayName": "Daniel Shanahan",
      "photoUrl": "https://lh3.googleusercontent.com/a-/AOh14Gj-j1dY0ZR8a6BnCn-NtHHpeew76MIO_89yOwiCOQ=s64",
      "userId": "10085329517298963001"
     },
     "user_tz": 240
    },
    "id": "ooOSHgx-aQsY"
   },
   "outputs": [],
   "source": [
    "### your code here.\n",
    "\n",
    "class Compare_Data:\n",
    "\n",
    "  def __init__(self, source1, source2):\n",
    "\n",
    "    self.file_1 = pd.read_csv(source1)\n",
    "    self.file_2 = pd.read_csv(source2)\n",
    "\n",
    "  def plot_tempi(self):\n",
    "    tempo1 = self.file_1[\"tempo\"].values.reshape(-1,1)\n",
    "    tempo2 = self.file_2[\"tempo\"].values.reshape(-1,1)\n",
    "    sns.distplot(df[[tempo1]], hist=False, rug=True)\n",
    "    sns.distplot(df[[tempo2]], hist=False, rug=True)\n",
    "\n",
    " # def compare_danceability() :\n",
    "\n"
   ]
  },
  {
   "cell_type": "code",
   "execution_count": 79,
   "metadata": {
    "executionInfo": {
     "elapsed": 403,
     "status": "ok",
     "timestamp": 1617051534994,
     "user": {
      "displayName": "Daniel Shanahan",
      "photoUrl": "https://lh3.googleusercontent.com/a-/AOh14Gj-j1dY0ZR8a6BnCn-NtHHpeew76MIO_89yOwiCOQ=s64",
      "userId": "10085329517298963001"
     },
     "user_tz": 240
    },
    "id": "4A1d1H6KusKJ"
   },
   "outputs": [],
   "source": [
    "comparison = Compare_Data(\"content/MyDrive/python_scratch/spotify_data/taylor.csv\", \"content/MyDrive/python_scratch/spotify_data/beyonce.csv\")"
   ]
  },
  {
   "cell_type": "code",
   "execution_count": 80,
   "metadata": {
    "colab": {
     "base_uri": "https://localhost:8080/"
    },
    "executionInfo": {
     "elapsed": 229,
     "status": "ok",
     "timestamp": 1617051537261,
     "user": {
      "displayName": "Daniel Shanahan",
      "photoUrl": "https://lh3.googleusercontent.com/a-/AOh14Gj-j1dY0ZR8a6BnCn-NtHHpeew76MIO_89yOwiCOQ=s64",
      "userId": "10085329517298963001"
     },
     "user_tz": 240
    },
    "id": "x6QZuIvvu028",
    "outputId": "dd1ffea8-8e3b-4a8a-9ece-0ed7b1e3b590"
   },
   "outputs": [
    {
     "name": "stdout",
     "output_type": "stream",
     "text": [
      "1[[160.015]\n",
      " [159.073]\n",
      " [ 82.989]\n",
      " [135.917]\n",
      " [ 95.045]\n",
      " [128.07 ]\n",
      " [ 74.957]\n",
      " [ 92.027]\n",
      " [172.054]\n",
      " [110.01 ]\n",
      " [160.024]\n",
      " [120.085]\n",
      " [163.96 ]\n",
      " [163.954]\n",
      " [ 94.922]\n",
      " [ 93.061]\n",
      " [139.997]\n",
      " [126.068]\n",
      " [124.985]\n",
      " [157.043]\n",
      " [ 99.959]\n",
      " [178.013]\n",
      " [104.009]\n",
      " [ 77.318]\n",
      " [117.97 ]\n",
      " [163.886]\n",
      " [119.997]\n",
      " [ 74.957]\n",
      " [ 95.122]\n",
      " [121.034]\n",
      " [114.977]\n",
      " [129.962]\n",
      " [162.012]\n",
      " [124.894]\n",
      " [109.995]\n",
      " [171.791]\n",
      " [116.992]\n",
      " [100.163]\n",
      " [ 81.963]\n",
      " [ 96.006]\n",
      " [159.837]\n",
      " [ 92.008]\n",
      " [ 79.926]\n",
      " [114.984]\n",
      " [143.95 ]\n",
      " [117.935]\n",
      " [ 96.005]\n",
      " [ 73.849]\n",
      " [143.944]\n",
      " [ 80.007]\n",
      " [ 79.025]\n",
      " [146.147]\n",
      " [139.908]\n",
      " [128.057]\n",
      " [116.001]\n",
      " [118.986]\n",
      " [184.014]\n",
      " [ 92.673]\n",
      " [143.936]\n",
      " [126.014]\n",
      " [159.965]\n",
      " [ 67.303]\n",
      " [160.015]\n",
      " [172.909]\n",
      " [159.073]\n",
      " [ 98.753]\n",
      " [ 82.989]\n",
      " [ 86.424]\n",
      " [135.917]\n",
      " [ 85.319]\n",
      " [ 95.045]\n",
      " [ 77.411]\n",
      " [128.07 ]\n",
      " [123.703]\n",
      " [ 74.957]\n",
      " [ 76.531]\n",
      " [ 92.027]\n",
      " [129.971]\n",
      " [172.054]\n",
      " [ 83.407]\n",
      " [110.01 ]\n",
      " [129.863]\n",
      " [160.024]\n",
      " [100.283]\n",
      " [120.085]\n",
      " [130.302]\n",
      " [163.96 ]\n",
      " [ 68.253]\n",
      " [163.954]\n",
      " [130.315]\n",
      " [ 94.922]\n",
      " [ 69.091]\n",
      " [117.023]\n",
      " [ 96.009]\n",
      " [ 95.021]\n",
      " [ 91.993]\n",
      " [ 96.969]\n",
      " [160.02 ]\n",
      " [118.027]\n",
      " [170.157]\n",
      " [140.06 ]\n",
      " [119.982]\n",
      " [ 71.981]\n",
      " [159.959]\n",
      " [103.981]\n",
      " [117.023]\n",
      " [ 96.009]\n",
      " [ 95.021]\n",
      " [ 91.993]\n",
      " [ 96.969]\n",
      " [160.02 ]\n",
      " [118.027]\n",
      " [170.157]\n",
      " [140.06 ]\n",
      " [119.982]\n",
      " [ 71.981]\n",
      " [159.959]\n",
      " [103.981]\n",
      " [117.015]\n",
      " [191.963]\n",
      " [ 94.997]\n",
      " [ 92.012]\n",
      " [ 96.995]\n",
      " [159.967]\n",
      " [117.976]\n",
      " [170.057]\n",
      " [140.046]\n",
      " [119.98 ]\n",
      " [144.057]\n",
      " [160.052]\n",
      " [103.989]\n",
      " [ 77.502]\n",
      " [116.992]\n",
      " [100.356]\n",
      " [ 95.997]\n",
      " [ 88.155]\n",
      " [ 94.933]\n",
      " [ 93.705]\n",
      " [ 92.008]\n",
      " [105.468]\n",
      " [ 96.97 ]\n",
      " [ 87.915]\n",
      " [160.078]\n",
      " [ 79.281]\n",
      " [118.035]\n",
      " [ 81.512]\n",
      " [170.216]\n",
      " [ 86.883]\n",
      " [139.997]\n",
      " [ 79.214]\n",
      " [119.997]\n",
      " [ 78.761]\n",
      " [143.95 ]\n",
      " [113.854]\n",
      " [159.965]\n",
      " [ 99.561]\n",
      " [103.97 ]\n",
      " [117.012]\n",
      " [ 96.031]\n",
      " [ 94.992]\n",
      " [ 92.008]\n",
      " [ 97.031]\n",
      " [160.041]\n",
      " [118.026]\n",
      " [170.141]\n",
      " [140.035]\n",
      " [119.987]\n",
      " [143.919]\n",
      " [ 79.999]\n",
      " [103.975]\n",
      " [129.943]\n",
      " [124.962]\n",
      " [110.001]\n",
      " [154.228]\n",
      " [ 93.052]\n",
      " [103.986]\n",
      " [145.901]\n",
      " [ 86.035]\n",
      " [ 99.989]\n",
      " [ 93.986]\n",
      " [157.001]\n",
      " [129.975]\n",
      " [117.942]\n",
      " [ 80.042]\n",
      " [126.003]\n",
      " [ 78.748]\n",
      " [129.979]\n",
      " [124.988]\n",
      " [110.007]\n",
      " [ 77.02 ]\n",
      " [ 93.01 ]\n",
      " [104.001]\n",
      " [146.084]\n",
      " [ 86.014]\n",
      " [ 99.993]\n",
      " [ 94.016]\n",
      " [157.053]\n",
      " [129.992]\n",
      " [117.972]\n",
      " [ 80.034]\n",
      " [126.022]\n",
      " [ 79.002]\n",
      " [129.986]\n",
      " [124.989]\n",
      " [110.04 ]\n",
      " [ 77.001]\n",
      " [ 93.014]\n",
      " [103.989]\n",
      " [146.034]\n",
      " [ 86.005]\n",
      " [100.002]\n",
      " [ 94.015]\n",
      " [157.02 ]\n",
      " [129.965]\n",
      " [117.99 ]\n",
      " [ 80.048]\n",
      " [126.025]\n",
      " [ 78.966]\n",
      " [ 88.084]\n",
      " [129.968]\n",
      " [ 92.483]\n",
      " [124.978]\n",
      " [173.317]\n",
      " [109.995]\n",
      " [ 87.576]\n",
      " [ 77.019]\n",
      " [123.849]\n",
      " [ 93.06 ]\n",
      " [133.933]\n",
      " [103.987]\n",
      " [ 95.101]\n",
      " [145.865]\n",
      " [ 68.151]\n",
      " [ 85.984]\n",
      " [ 77.449]\n",
      " [ 99.981]\n",
      " [ 94.766]\n",
      " [ 94.069]\n",
      " [ 87.227]\n",
      " [157.043]\n",
      " [ 84.382]\n",
      " [129.987]\n",
      " [ 78.286]\n",
      " [117.937]\n",
      " [101.873]\n",
      " [ 80.016]\n",
      " [134.89 ]\n",
      " [126.018]\n",
      " [ 95.371]\n",
      " [ 79.025]\n",
      " [121.07 ]\n",
      " [114.987]\n",
      " [141.893]\n",
      " [118.975]\n",
      " [119.386]\n",
      " [163.974]\n",
      " [139.898]\n",
      " [124.91 ]\n",
      " [163.893]\n",
      " [145.821]\n",
      " [134.05 ]\n",
      " [162.088]\n",
      " [ 89.038]\n",
      " [204.125]\n",
      " [121.045]\n",
      " [114.987]\n",
      " [141.971]\n",
      " [118.981]\n",
      " [119.512]\n",
      " [163.973]\n",
      " [140.012]\n",
      " [124.995]\n",
      " [ 82.003]\n",
      " [146.023]\n",
      " [134.024]\n",
      " [162.185]\n",
      " [159.012]\n",
      " [102.016]\n",
      " [114.976]\n",
      " [121.013]\n",
      " [139.756]\n",
      " [ 82.008]\n",
      " [ 78.323]\n",
      " [142.043]\n",
      " [145.921]\n",
      " [118.879]\n",
      " [158.027]\n",
      " [ 81.995]\n",
      " [102.11 ]\n",
      " [ 97.406]\n",
      " [119.395]\n",
      " [ 81.988]\n",
      " [162.288]\n",
      " [101.979]\n",
      " [114.981]\n",
      " [120.969]\n",
      " [139.813]\n",
      " [163.752]\n",
      " [ 77.769]\n",
      " [142.057]\n",
      " [145.954]\n",
      " [118.876]\n",
      " [ 79.517]\n",
      " [109.025]\n",
      " [104.46 ]\n",
      " [ 97.397]\n",
      " [119.518]\n",
      " [163.678]\n",
      " [162.157]\n",
      " [101.939]\n",
      " [ 66.869]\n",
      " [121.061]\n",
      " [ 64.792]\n",
      " [114.998]\n",
      " [128.394]\n",
      " [141.893]\n",
      " [ 85.222]\n",
      " [118.959]\n",
      " [ 83.656]\n",
      " [119.367]\n",
      " [ 85.001]\n",
      " [163.98 ]\n",
      " [ 95.847]\n",
      " [139.907]\n",
      " [143.429]\n",
      " [124.899]\n",
      " [ 51.351]\n",
      " [163.9  ]\n",
      " [104.978]\n",
      " [145.87 ]\n",
      " [146.991]\n",
      " [134.032]\n",
      " [149.646]\n",
      " [162.145]\n",
      " [ 84.599]\n",
      " [ 72.619]\n",
      " [ 74.299]\n",
      " [204.104]\n",
      " [121.042]\n",
      " [114.975]\n",
      " [141.887]\n",
      " [118.958]\n",
      " [119.443]\n",
      " [163.947]\n",
      " [139.973]\n",
      " [124.897]\n",
      " [ 81.917]\n",
      " [145.871]\n",
      " [134.008]\n",
      " [162.127]\n",
      " [158.867]\n",
      " [102.013]\n",
      " [100.019]\n",
      " [ 95.431]\n",
      " [119.054]\n",
      " [116.001]\n",
      " [ 92.354]\n",
      " [129.967]\n",
      " [148.305]\n",
      " [ 99.978]\n",
      " [134.059]\n",
      " [160.92 ]\n",
      " [128.048]\n",
      " [126.189]\n",
      " [ 95.996]\n",
      " [177.822]\n",
      " [ 99.942]\n",
      " [168.137]\n",
      " [ 96.019]\n",
      " [105.583]\n",
      " [143.997]\n",
      " [105.995]\n",
      " [200.056]\n",
      " [ 95.349]\n",
      " [119.056]\n",
      " [115.994]\n",
      " [ 92.71 ]\n",
      " [129.98 ]\n",
      " [147.913]\n",
      " [ 99.989]\n",
      " [133.956]\n",
      " [160.92 ]\n",
      " [128.007]\n",
      " [126.074]\n",
      " [ 96.018]\n",
      " [177.865]\n",
      " [ 99.947]\n",
      " [168.077]\n",
      " [127.997]\n",
      " [ 99.972]\n",
      " [ 95.485]\n",
      " [118.984]\n",
      " [115.994]\n",
      " [ 92.702]\n",
      " [129.964]\n",
      " [ 73.975]\n",
      " [ 99.96 ]\n",
      " [133.959]\n",
      " [160.927]\n",
      " [128.042]\n",
      " [126.084]\n",
      " [ 96.013]\n",
      " [100.047]\n",
      " [ 95.469]\n",
      " [119.06 ]\n",
      " [116.048]\n",
      " [ 92.613]\n",
      " [130.009]\n",
      " [ 73.989]\n",
      " [100.024]\n",
      " [134.074]\n",
      " [160.901]\n",
      " [128.034]\n",
      " [126.032]\n",
      " [ 96.015]\n",
      " [ 79.985]\n",
      " [199.965]\n",
      " [120.02 ]\n",
      " [143.952]\n",
      " [ 85.953]\n",
      " [ 81.921]\n",
      " [100.029]\n",
      " [ 95.407]\n",
      " [119.004]\n",
      " [115.972]\n",
      " [185.776]\n",
      " [129.987]\n",
      " [147.988]\n",
      " [ 99.99 ]\n",
      " [133.927]\n",
      " [160.884]\n",
      " [128.046]\n",
      " [126.075]\n",
      " [ 96.034]\n",
      " [108.767]\n",
      " [100.028]\n",
      " [ 61.867]\n",
      " [ 95.487]\n",
      " [ 90.743]\n",
      " [118.984]\n",
      " [ 47.607]\n",
      " [116.01 ]\n",
      " [103.247]\n",
      " [ 92.598]\n",
      " [126.254]\n",
      " [129.966]\n",
      " [ 99.358]\n",
      " [147.988]\n",
      " [ 99.948]\n",
      " [100.007]\n",
      " [ 62.327]\n",
      " [133.939]\n",
      " [111.601]\n",
      " [160.989]\n",
      " [ 67.722]\n",
      " [128.052]\n",
      " [ 84.469]\n",
      " [126.083]\n",
      " [ 78.855]\n",
      " [ 96.   ]\n",
      " [100.036]\n",
      " [ 95.452]\n",
      " [118.994]\n",
      " [116.009]\n",
      " [ 92.166]\n",
      " [129.973]\n",
      " [147.96 ]\n",
      " [100.074]\n",
      " [133.932]\n",
      " [160.933]\n",
      " [128.024]\n",
      " [126.093]\n",
      " [ 95.953]\n",
      " [152.175]\n",
      " [105.587]\n",
      " [ 99.966]\n",
      " [115.012]\n",
      " [175.662]\n",
      " [112.979]\n",
      " [146.172]\n",
      " [131.646]\n",
      " [167.974]\n",
      " [150.802]\n",
      " [177.874]\n",
      " [143.983]\n",
      " [ 96.052]\n",
      " [156.035]\n",
      " [100.021]\n",
      " [151.953]\n",
      " [105.494]\n",
      " [ 99.968]\n",
      " [115.005]\n",
      " [175.597]\n",
      " [113.013]\n",
      " [146.132]\n",
      " [131.654]\n",
      " [167.914]\n",
      " [ 73.209]\n",
      " [ 89.027]\n",
      " [143.936]\n",
      " [ 96.023]\n",
      " [156.145]\n",
      " [199.9  ]\n",
      " [ 75.994]\n",
      " [105.482]\n",
      " [100.064]\n",
      " [115.012]\n",
      " [ 87.958]\n",
      " [113.021]\n",
      " [146.059]\n",
      " [131.729]\n",
      " [168.087]\n",
      " [151.048]\n",
      " [177.997]\n",
      " [144.013]\n",
      " [ 96.001]\n",
      " [155.972]\n",
      " [171.246]\n",
      " [ 76.   ]\n",
      " [ 60.266]\n",
      " [105.607]\n",
      " [ 84.758]\n",
      " [ 99.962]\n",
      " [ 75.683]\n",
      " [114.982]\n",
      " [138.159]\n",
      " [175.974]\n",
      " [ 94.383]\n",
      " [113.002]\n",
      " [ 67.906]\n",
      " [146.118]\n",
      " [ 99.845]\n",
      " [131.607]\n",
      " [118.747]\n",
      " [167.935]\n",
      " [128.144]\n",
      " [150.721]\n",
      " [ 83.734]\n",
      " [ 89.128]\n",
      " [108.258]\n",
      " [143.94 ]\n",
      " [ 77.762]\n",
      " [ 96.02 ]\n",
      " [ 81.209]\n",
      " [156.088]\n",
      " [ 80.865]\n",
      " [199.909]]\n",
      "2[[129.935]\n",
      " [122.822]\n",
      " [140.03 ]\n",
      " [120.065]\n",
      " [111.58 ]\n",
      " [185.571]\n",
      " [133.97 ]\n",
      " [140.415]\n",
      " [103.009]\n",
      " [170.085]\n",
      " [140.553]\n",
      " [ 80.334]\n",
      " [102.601]\n",
      " [ 90.567]\n",
      " [136.024]\n",
      " [136.801]\n",
      " [139.748]\n",
      " [ 98.011]\n",
      " [120.024]\n",
      " [195.956]\n",
      " [129.935]\n",
      " [122.278]\n",
      " [140.006]\n",
      " [120.068]\n",
      " [111.58 ]\n",
      " [ 87.953]\n",
      " [133.929]\n",
      " [140.419]\n",
      " [103.012]\n",
      " [170.056]\n",
      " [136.832]\n",
      " [ 80.334]\n",
      " [102.601]\n",
      " [ 90.567]\n",
      " [136.024]\n",
      " [136.825]\n",
      " [139.672]\n",
      " [ 98.028]\n",
      " [120.034]\n",
      " [124.979]\n",
      " [128.015]\n",
      " [ 83.703]\n",
      " [119.496]\n",
      " [127.993]\n",
      " [127.995]\n",
      " [117.913]\n",
      " [ 63.345]\n",
      " [ 86.934]\n",
      " [167.963]\n",
      " [ 99.099]\n",
      " [160.979]\n",
      " [ 72.032]\n",
      " [150.006]\n",
      " [ 94.1  ]\n",
      " [167.349]\n",
      " [117.999]\n",
      " [110.992]\n",
      " [127.086]\n",
      " [116.01 ]\n",
      " [124.04 ]\n",
      " [110.005]\n",
      " [127.003]\n",
      " [128.02 ]\n",
      " [129.022]\n",
      " [ 63.345]\n",
      " [ 86.934]\n",
      " [167.963]\n",
      " [ 99.099]\n",
      " [160.979]\n",
      " [ 72.032]\n",
      " [150.006]\n",
      " [ 94.1  ]\n",
      " [167.349]\n",
      " [117.999]\n",
      " [110.992]\n",
      " [127.086]\n",
      " [ 63.345]\n",
      " [ 86.934]\n",
      " [167.963]\n",
      " [ 99.099]\n",
      " [160.979]\n",
      " [ 72.032]\n",
      " [150.006]\n",
      " [ 94.1  ]\n",
      " [167.349]\n",
      " [117.999]\n",
      " [110.992]\n",
      " [127.086]\n",
      " [ 94.1  ]\n",
      " [160.979]\n",
      " [124.04 ]\n",
      " [167.349]\n",
      " [167.963]\n",
      " [110.005]\n",
      " [ 86.934]\n",
      " [ 72.032]\n",
      " [ 63.345]\n",
      " [117.999]\n",
      " [127.086]\n",
      " [ 99.099]\n",
      " [150.006]\n",
      " [110.992]\n",
      " [148.045]\n",
      " [ 99.13 ]\n",
      " [ 99.946]\n",
      " [ 99.027]\n",
      " [ 96.618]\n",
      " [ 94.982]\n",
      " [104.838]\n",
      " [169.502]\n",
      " [100.105]\n",
      " [146.248]\n",
      " [135.995]\n",
      " [ 83.132]\n",
      " [129.117]\n",
      " [ 91.13 ]\n",
      " [144.848]\n",
      " [ 88.515]\n",
      " [ 83.213]\n",
      " [103.293]\n",
      " [ 84.937]\n",
      " [137.164]\n",
      " [ 75.195]\n",
      " [124.061]\n",
      " [ 97.083]\n",
      " [143.024]\n",
      " [155.075]\n",
      " [125.999]\n",
      " [128.005]\n",
      " [131.997]\n",
      " [128.008]\n",
      " [168.247]\n",
      " [122.988]\n",
      " [126.995]\n",
      " [ 78.781]\n",
      " [ 90.007]\n",
      " [ 79.983]\n",
      " [ 78.412]\n",
      " [ 82.149]\n",
      " [104.957]\n",
      " [ 95.068]\n",
      " [ 64.639]\n",
      " [115.036]\n",
      " [116.966]\n",
      " [193.437]\n",
      " [135.771]\n",
      " [146.092]\n",
      " [121.949]\n",
      " [ 84.769]\n",
      " [ 97.515]\n",
      " [ 79.454]\n",
      " [ 86.961]\n",
      " [116.966]\n",
      " [ 90.007]\n",
      " [ 79.983]\n",
      " [ 78.412]\n",
      " [ 82.149]\n",
      " [104.957]\n",
      " [ 95.068]\n",
      " [109.859]\n",
      " [115.036]\n",
      " [193.437]\n",
      " [135.771]\n",
      " [146.092]\n",
      " [121.949]\n",
      " [ 84.769]\n",
      " [ 97.515]\n",
      " [ 79.454]\n",
      " [ 86.961]\n",
      " [ 90.007]\n",
      " [ 79.983]\n",
      " [ 78.412]\n",
      " [ 82.149]\n",
      " [104.957]\n",
      " [ 64.639]\n",
      " [116.966]\n",
      " [193.437]\n",
      " [135.771]\n",
      " [146.092]\n",
      " [121.949]\n",
      " [ 84.769]\n",
      " [136.882]\n",
      " [ 90.007]\n",
      " [ 79.983]\n",
      " [ 78.412]\n",
      " [ 82.149]\n",
      " [104.957]\n",
      " [ 64.639]\n",
      " [193.437]\n",
      " [135.771]\n",
      " [146.092]\n",
      " [121.949]\n",
      " [ 84.769]\n",
      " [ 90.007]\n",
      " [ 79.983]\n",
      " [ 78.412]\n",
      " [ 82.149]\n",
      " [104.957]\n",
      " [ 64.639]\n",
      " [117.035]\n",
      " [193.437]\n",
      " [135.771]\n",
      " [146.092]\n",
      " [121.949]\n",
      " [ 84.769]\n",
      " [ 90.007]\n",
      " [ 79.983]\n",
      " [ 78.412]\n",
      " [ 82.149]\n",
      " [104.957]\n",
      " [ 95.068]\n",
      " [109.859]\n",
      " [115.036]\n",
      " [193.351]\n",
      " [135.743]\n",
      " [146.1  ]\n",
      " [121.985]\n",
      " [155.9  ]\n",
      " [129.963]\n",
      " [ 89.598]\n",
      " [ 86.927]\n",
      " [125.01 ]\n",
      " [ 78.05 ]\n",
      " [ 99.289]\n",
      " [ 98.84 ]\n",
      " [106.376]\n",
      " [ 94.828]\n",
      " [ 91.973]\n",
      " [ 99.993]\n",
      " [166.538]\n",
      " [ 92.253]\n",
      " [152.751]\n",
      " [140.767]\n",
      " [112.791]\n",
      " [ 85.372]\n",
      " [ 93.439]\n",
      " [ 84.715]\n",
      " [ 92.841]\n",
      " [166.201]\n",
      " [106.114]\n",
      " [ 96.462]\n",
      " [124.742]\n",
      " [127.331]\n",
      " [ 86.941]\n",
      " [ 91.977]\n",
      " [175.868]\n",
      " [107.045]\n",
      " [157.992]\n",
      " [124.821]\n",
      " [ 84.547]\n",
      " [151.947]\n",
      " [ 92.161]\n",
      " [ 96.54 ]\n",
      " [ 94.922]\n",
      " [ 98.96 ]\n",
      " [ 93.852]\n",
      " [105.253]\n",
      " [169.673]\n",
      " [197.431]\n",
      " [122.394]\n",
      " [167.875]\n",
      " [122.868]\n",
      " [175.861]\n",
      " [ 91.962]\n",
      " [ 91.977]\n",
      " [ 92.015]\n",
      " [176.042]\n",
      " [ 91.973]\n",
      " [175.891]\n",
      " [107.051]\n",
      " [ 79.006]\n",
      " [124.811]\n",
      " [169.735]\n",
      " [151.922]\n",
      " [ 94.867]\n",
      " [ 96.543]\n",
      " [ 98.949]\n",
      " [ 93.785]\n",
      " [105.785]\n",
      " [169.839]\n",
      " [ 97.855]\n",
      " [121.689]\n",
      " [ 92.   ]\n",
      " [166.032]\n",
      " [168.072]\n",
      " [ 92.015]\n",
      " [ 91.973]\n",
      " [175.891]\n",
      " [107.051]\n",
      " [ 79.006]\n",
      " [124.811]\n",
      " [169.735]\n",
      " [151.921]\n",
      " [ 96.542]\n",
      " [ 98.957]\n",
      " [ 93.804]\n",
      " [105.775]\n",
      " [170.137]\n",
      " [195.146]\n",
      " [122.956]\n",
      " [ 91.625]\n",
      " [167.875]\n",
      " [122.868]\n",
      " [175.861]\n",
      " [ 91.962]\n",
      " [ 91.977]\n",
      " [ 92.015]\n",
      " [176.042]\n",
      " [ 91.973]\n",
      " [175.891]\n",
      " [107.051]\n",
      " [ 79.006]\n",
      " [124.811]\n",
      " [169.735]\n",
      " [151.922]\n",
      " [ 94.867]\n",
      " [ 96.543]\n",
      " [ 98.949]\n",
      " [ 93.785]\n",
      " [105.785]\n",
      " [169.839]\n",
      " [ 97.855]\n",
      " [121.689]\n",
      " [ 92.   ]\n",
      " [166.032]\n",
      " [168.072]\n",
      " [ 92.013]\n",
      " [ 98.992]\n",
      " [105.923]\n",
      " [ 96.511]\n",
      " [ 93.81 ]\n",
      " [169.51 ]\n",
      " [168.507]\n",
      " [157.919]\n",
      " [ 98.953]\n",
      " [107.034]\n",
      " [175.906]\n",
      " [102.131]\n",
      " [108.161]\n",
      " [122.658]\n",
      " [ 96.521]\n",
      " [105.923]\n",
      " [ 96.511]\n",
      " [ 93.81 ]\n",
      " [169.51 ]\n",
      " [168.507]\n",
      " [157.919]\n",
      " [ 98.953]\n",
      " [107.034]\n",
      " [175.906]\n",
      " [102.131]\n",
      " [108.161]\n",
      " [122.658]\n",
      " [ 96.521]\n",
      " [105.923]\n",
      " [ 96.511]\n",
      " [ 93.81 ]\n",
      " [169.51 ]\n",
      " [168.507]\n",
      " [157.919]\n",
      " [ 98.953]\n",
      " [107.034]\n",
      " [175.906]\n",
      " [102.131]\n",
      " [166.042]\n",
      " [105.906]\n",
      " [ 96.512]\n",
      " [ 93.848]\n",
      " [ 84.931]\n",
      " [169.19 ]\n",
      " [157.951]\n",
      " [ 99.023]\n",
      " [107.039]\n",
      " [175.855]\n",
      " [ 98.074]\n",
      " [166.042]\n",
      " [104.963]\n",
      " [115.81 ]\n",
      " [121.929]\n",
      " [ 96.559]\n",
      " [105.923]\n",
      " [ 96.511]\n",
      " [ 93.81 ]\n",
      " [169.51 ]\n",
      " [168.507]\n",
      " [157.919]\n",
      " [ 98.953]\n",
      " [107.034]\n",
      " [175.906]\n",
      " [102.131]\n",
      " [166.042]\n",
      " [ 99.165]\n",
      " [200.053]\n",
      " [ 91.025]\n",
      " [166.572]\n",
      " [ 74.928]\n",
      " [ 83.61 ]\n",
      " [112.694]\n",
      " [ 76.758]\n",
      " [112.708]\n",
      " [103.451]\n",
      " [116.109]\n",
      " [ 99.982]\n",
      " [152.48 ]\n",
      " [137.24 ]\n",
      " [123.46 ]\n",
      " [ 99.259]\n",
      " [ 99.973]\n",
      " [ 91.039]\n",
      " [166.602]\n",
      " [ 74.934]\n",
      " [ 83.615]\n",
      " [112.439]\n",
      " [ 74.283]\n",
      " [112.726]\n",
      " [ 84.2  ]\n",
      " [116.153]\n",
      " [ 99.947]\n",
      " [133.173]\n",
      " [ 93.615]\n",
      " [173.954]\n",
      " [ 89.889]\n",
      " [ 99.259]\n",
      " [ 99.973]\n",
      " [ 91.039]\n",
      " [166.602]\n",
      " [ 74.934]\n",
      " [ 83.615]\n",
      " [112.439]\n",
      " [ 74.283]\n",
      " [112.726]\n",
      " [ 84.2  ]\n",
      " [116.153]\n",
      " [ 99.947]\n",
      " [133.173]\n",
      " [ 93.615]\n",
      " [173.954]\n",
      " [ 89.861]]\n"
     ]
    }
   ],
   "source": [
    "comparison.plot_tempi()\n"
   ]
  },
  {
   "cell_type": "code",
   "execution_count": null,
   "metadata": {
    "id": "DuSvNPPju2Kl"
   },
   "outputs": [],
   "source": []
  }
 ],
 "metadata": {
  "colab": {
   "authorship_tag": "ABX9TyNZzNwOrKdYmK0vl2jYRasG",
   "collapsed_sections": [],
   "name": "week_12.ipynb",
   "provenance": [],
   "toc_visible": true
  },
  "kernelspec": {
   "display_name": "Python 3",
   "language": "python",
   "name": "python3"
  },
  "language_info": {
   "codemirror_mode": {
    "name": "ipython",
    "version": 3
   },
   "file_extension": ".py",
   "mimetype": "text/x-python",
   "name": "python",
   "nbconvert_exporter": "python",
   "pygments_lexer": "ipython3",
   "version": "3.9.4"
  }
 },
 "nbformat": 4,
 "nbformat_minor": 1
}
