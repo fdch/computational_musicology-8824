{
 "cells": [
  {
   "cell_type": "markdown",
   "metadata": {
    "id": "jYysdyb-CaWM"
   },
   "source": [
    "# Classify spotify artists using an Artificial Neural Network"
   ]
  },
  {
   "cell_type": "markdown",
   "metadata": {
    "id": "FbVhjPpzn6BM"
   },
   "source": [
    "This guide trains a neural network model to classify spotify artists, like taylor swift and beyonce. It is adapted from [this colab](https://www.tensorflow.org/tutorials/keras/classification)"
   ]
  },
  {
   "cell_type": "code",
   "execution_count": 1,
   "metadata": {
    "executionInfo": {
     "elapsed": 3990,
     "status": "ok",
     "timestamp": 1618857320067,
     "user": {
      "displayName": "Fede Camara Halac",
      "photoUrl": "https://lh3.googleusercontent.com/a-/AOh14Gh_b6Y4JRn1pQwmH2PwmvUr8HiKg-a_TZFj1JfXLQ=s64",
      "userId": "14838610272939224163"
     },
     "user_tz": 240
    },
    "id": "dzLKpmZICaWN"
   },
   "outputs": [],
   "source": [
    "import tensorflow as tf\n",
    "\n",
    "# Helper libraries\n",
    "import numpy as np\n",
    "import matplotlib.pyplot as plt\n",
    "import pandas as pd"
   ]
  },
  {
   "cell_type": "markdown",
   "metadata": {
    "id": "yR0EdgrLCaWR"
   },
   "source": [
    "## Import the Spotify Data"
   ]
  },
  {
   "cell_type": "code",
   "execution_count": 2,
   "metadata": {
    "colab": {
     "base_uri": "https://localhost:8080/"
    },
    "executionInfo": {
     "elapsed": 28276,
     "status": "ok",
     "timestamp": 1618857344363,
     "user": {
      "displayName": "Fede Camara Halac",
      "photoUrl": "https://lh3.googleusercontent.com/a-/AOh14Gh_b6Y4JRn1pQwmH2PwmvUr8HiKg-a_TZFj1JfXLQ=s64",
      "userId": "14838610272939224163"
     },
     "user_tz": 240
    },
    "id": "pdun9pCucVvR",
    "outputId": "6325e061-622e-4975-9f05-0beba69ebf35"
   },
   "outputs": [
    {
     "name": "stdout",
     "output_type": "stream",
     "text": [
      "Mounted at /content/drive\n"
     ]
    }
   ],
   "source": [
    "from google.colab import drive\n",
    "drive.mount('/content/drive')"
   ]
  },
  {
   "cell_type": "code",
   "execution_count": 3,
   "metadata": {
    "executionInfo": {
     "elapsed": 4939,
     "status": "ok",
     "timestamp": 1618857361907,
     "user": {
      "displayName": "Fede Camara Halac",
      "photoUrl": "https://lh3.googleusercontent.com/a-/AOh14Gh_b6Y4JRn1pQwmH2PwmvUr8HiKg-a_TZFj1JfXLQ=s64",
      "userId": "14838610272939224163"
     },
     "user_tz": 240
    },
    "id": "7MqDQO0KCaWS"
   },
   "outputs": [],
   "source": [
    "df_taylor  = pd.read_csv(\"/content/drive/MyDrive/python_scratch/spotify_data/taylor.csv\")\n",
    "df_beyonce = pd.read_csv(\"/content/drive/MyDrive/python_scratch/spotify_data/beyonce.csv\")\n",
    "df_beatles = pd.read_csv(\"/content/drive/MyDrive/python_scratch/spotify_data/beatles.csv\")\n",
    "df_nirvana = pd.read_csv(\"/content/drive/MyDrive/python_scratch/spotify_data/nirvana.csv\")\n",
    "df_rolling = pd.read_csv(\"/content/drive/MyDrive/python_scratch/spotify_data/rolling_stones.csv\")"
   ]
  },
  {
   "cell_type": "code",
   "execution_count": 4,
   "metadata": {
    "executionInfo": {
     "elapsed": 1084,
     "status": "ok",
     "timestamp": 1618857392395,
     "user": {
      "displayName": "Fede Camara Halac",
      "photoUrl": "https://lh3.googleusercontent.com/a-/AOh14Gh_b6Y4JRn1pQwmH2PwmvUr8HiKg-a_TZFj1JfXLQ=s64",
      "userId": "14838610272939224163"
     },
     "user_tz": 240
    },
    "id": "9D100os8uihn"
   },
   "outputs": [],
   "source": [
    "label_names = [  \"Taylor Swift\", \"Beyonce\", \"The Beatles\", \"Nirvana\",  \"The Rolling Stones\"]"
   ]
  },
  {
   "cell_type": "code",
   "execution_count": 5,
   "metadata": {
    "colab": {
     "base_uri": "https://localhost:8080/",
     "height": 411
    },
    "executionInfo": {
     "elapsed": 1568,
     "status": "ok",
     "timestamp": 1618857406815,
     "user": {
      "displayName": "Fede Camara Halac",
      "photoUrl": "https://lh3.googleusercontent.com/a-/AOh14Gh_b6Y4JRn1pQwmH2PwmvUr8HiKg-a_TZFj1JfXLQ=s64",
      "userId": "14838610272939224163"
     },
     "user_tz": 240
    },
    "id": "T3HTT23Zwhu8",
    "outputId": "154ec21b-0a37-4c88-af75-3f4cc5fff557"
   },
   "outputs": [
    {
     "data": {
      "text/html": [
       "<div>\n",
       "<style scoped>\n",
       "    .dataframe tbody tr th:only-of-type {\n",
       "        vertical-align: middle;\n",
       "    }\n",
       "\n",
       "    .dataframe tbody tr th {\n",
       "        vertical-align: top;\n",
       "    }\n",
       "\n",
       "    .dataframe thead th {\n",
       "        text-align: right;\n",
       "    }\n",
       "</style>\n",
       "<table border=\"1\" class=\"dataframe\">\n",
       "  <thead>\n",
       "    <tr style=\"text-align: right;\">\n",
       "      <th></th>\n",
       "      <th>Unnamed: 0</th>\n",
       "      <th>artist_name</th>\n",
       "      <th>artist_id</th>\n",
       "      <th>album_id</th>\n",
       "      <th>album_type</th>\n",
       "      <th>album_images</th>\n",
       "      <th>album_release_date</th>\n",
       "      <th>album_release_year</th>\n",
       "      <th>album_release_date_precision</th>\n",
       "      <th>danceability</th>\n",
       "      <th>energy</th>\n",
       "      <th>key</th>\n",
       "      <th>loudness</th>\n",
       "      <th>mode</th>\n",
       "      <th>speechiness</th>\n",
       "      <th>acousticness</th>\n",
       "      <th>instrumentalness</th>\n",
       "      <th>liveness</th>\n",
       "      <th>valence</th>\n",
       "      <th>tempo</th>\n",
       "      <th>track_id</th>\n",
       "      <th>analysis_url</th>\n",
       "      <th>time_signature</th>\n",
       "      <th>artists</th>\n",
       "      <th>available_markets</th>\n",
       "      <th>disc_number</th>\n",
       "      <th>duration_ms</th>\n",
       "      <th>explicit</th>\n",
       "      <th>track_href</th>\n",
       "      <th>is_local</th>\n",
       "      <th>track_name</th>\n",
       "      <th>track_preview_url</th>\n",
       "      <th>track_number</th>\n",
       "      <th>type</th>\n",
       "      <th>track_uri</th>\n",
       "      <th>external_urls.spotify</th>\n",
       "      <th>album_name</th>\n",
       "      <th>key_name</th>\n",
       "      <th>mode_name</th>\n",
       "      <th>key_mode</th>\n",
       "    </tr>\n",
       "  </thead>\n",
       "  <tbody>\n",
       "    <tr>\n",
       "      <th>0</th>\n",
       "      <td>1</td>\n",
       "      <td>Taylor Swift</td>\n",
       "      <td>06HL4z0CvFAxyc27GXpf02</td>\n",
       "      <td>6DEjYFkNZh67HP7R9PSZvv</td>\n",
       "      <td>album</td>\n",
       "      <td>list(height = c(640, 300, 64), url = c(\"https:...</td>\n",
       "      <td>2017-11-10</td>\n",
       "      <td>2017</td>\n",
       "      <td>day</td>\n",
       "      <td>0.613</td>\n",
       "      <td>0.764</td>\n",
       "      <td>2</td>\n",
       "      <td>-6.509</td>\n",
       "      <td>1</td>\n",
       "      <td>0.1360</td>\n",
       "      <td>0.05270</td>\n",
       "      <td>0.000000</td>\n",
       "      <td>0.1970</td>\n",
       "      <td>0.4170</td>\n",
       "      <td>160.015</td>\n",
       "      <td>2yLa0QULdQr0qAIvVwN6B5</td>\n",
       "      <td>https://api.spotify.com/v1/audio-analysis/2yLa...</td>\n",
       "      <td>4</td>\n",
       "      <td>list(href = \"https://api.spotify.com/v1/artist...</td>\n",
       "      <td>c(\"AD\", \"AE\", \"AR\", \"AT\", \"AU\", \"BE\", \"BG\", \"B...</td>\n",
       "      <td>1</td>\n",
       "      <td>208186</td>\n",
       "      <td>False</td>\n",
       "      <td>https://api.spotify.com/v1/tracks/2yLa0QULdQr0...</td>\n",
       "      <td>False</td>\n",
       "      <td>...Ready For It?</td>\n",
       "      <td>NaN</td>\n",
       "      <td>1</td>\n",
       "      <td>track</td>\n",
       "      <td>spotify:track:2yLa0QULdQr0qAIvVwN6B5</td>\n",
       "      <td>https://open.spotify.com/track/2yLa0QULdQr0qAI...</td>\n",
       "      <td>reputation</td>\n",
       "      <td>D</td>\n",
       "      <td>major</td>\n",
       "      <td>D major</td>\n",
       "    </tr>\n",
       "    <tr>\n",
       "      <th>1</th>\n",
       "      <td>2</td>\n",
       "      <td>Taylor Swift</td>\n",
       "      <td>06HL4z0CvFAxyc27GXpf02</td>\n",
       "      <td>6DEjYFkNZh67HP7R9PSZvv</td>\n",
       "      <td>album</td>\n",
       "      <td>list(height = c(640, 300, 64), url = c(\"https:...</td>\n",
       "      <td>2017-11-10</td>\n",
       "      <td>2017</td>\n",
       "      <td>day</td>\n",
       "      <td>0.649</td>\n",
       "      <td>0.589</td>\n",
       "      <td>2</td>\n",
       "      <td>-6.237</td>\n",
       "      <td>1</td>\n",
       "      <td>0.0558</td>\n",
       "      <td>0.00845</td>\n",
       "      <td>0.000000</td>\n",
       "      <td>0.1080</td>\n",
       "      <td>0.1510</td>\n",
       "      <td>159.073</td>\n",
       "      <td>2x0WlnmfG39ZuDmstl9xfX</td>\n",
       "      <td>https://api.spotify.com/v1/audio-analysis/2x0W...</td>\n",
       "      <td>4</td>\n",
       "      <td>list(href = c(\"https://api.spotify.com/v1/arti...</td>\n",
       "      <td>c(\"AD\", \"AE\", \"AR\", \"AT\", \"AU\", \"BE\", \"BG\", \"B...</td>\n",
       "      <td>1</td>\n",
       "      <td>244826</td>\n",
       "      <td>False</td>\n",
       "      <td>https://api.spotify.com/v1/tracks/2x0WlnmfG39Z...</td>\n",
       "      <td>False</td>\n",
       "      <td>End Game</td>\n",
       "      <td>NaN</td>\n",
       "      <td>2</td>\n",
       "      <td>track</td>\n",
       "      <td>spotify:track:2x0WlnmfG39ZuDmstl9xfX</td>\n",
       "      <td>https://open.spotify.com/track/2x0WlnmfG39ZuDm...</td>\n",
       "      <td>reputation</td>\n",
       "      <td>D</td>\n",
       "      <td>major</td>\n",
       "      <td>D major</td>\n",
       "    </tr>\n",
       "    <tr>\n",
       "      <th>2</th>\n",
       "      <td>3</td>\n",
       "      <td>Taylor Swift</td>\n",
       "      <td>06HL4z0CvFAxyc27GXpf02</td>\n",
       "      <td>6DEjYFkNZh67HP7R9PSZvv</td>\n",
       "      <td>album</td>\n",
       "      <td>list(height = c(640, 300, 64), url = c(\"https:...</td>\n",
       "      <td>2017-11-10</td>\n",
       "      <td>2017</td>\n",
       "      <td>day</td>\n",
       "      <td>0.696</td>\n",
       "      <td>0.602</td>\n",
       "      <td>0</td>\n",
       "      <td>-6.156</td>\n",
       "      <td>0</td>\n",
       "      <td>0.1590</td>\n",
       "      <td>0.06790</td>\n",
       "      <td>0.000021</td>\n",
       "      <td>0.0696</td>\n",
       "      <td>0.3050</td>\n",
       "      <td>82.989</td>\n",
       "      <td>4svZDCRz4cJoneBpjpx8DJ</td>\n",
       "      <td>https://api.spotify.com/v1/audio-analysis/4svZ...</td>\n",
       "      <td>4</td>\n",
       "      <td>list(href = \"https://api.spotify.com/v1/artist...</td>\n",
       "      <td>c(\"AD\", \"AE\", \"AR\", \"AT\", \"AU\", \"BE\", \"BG\", \"B...</td>\n",
       "      <td>1</td>\n",
       "      <td>238253</td>\n",
       "      <td>False</td>\n",
       "      <td>https://api.spotify.com/v1/tracks/4svZDCRz4cJo...</td>\n",
       "      <td>False</td>\n",
       "      <td>I Did Something Bad</td>\n",
       "      <td>NaN</td>\n",
       "      <td>3</td>\n",
       "      <td>track</td>\n",
       "      <td>spotify:track:4svZDCRz4cJoneBpjpx8DJ</td>\n",
       "      <td>https://open.spotify.com/track/4svZDCRz4cJoneB...</td>\n",
       "      <td>reputation</td>\n",
       "      <td>C</td>\n",
       "      <td>minor</td>\n",
       "      <td>C minor</td>\n",
       "    </tr>\n",
       "    <tr>\n",
       "      <th>3</th>\n",
       "      <td>4</td>\n",
       "      <td>Taylor Swift</td>\n",
       "      <td>06HL4z0CvFAxyc27GXpf02</td>\n",
       "      <td>6DEjYFkNZh67HP7R9PSZvv</td>\n",
       "      <td>album</td>\n",
       "      <td>list(height = c(640, 300, 64), url = c(\"https:...</td>\n",
       "      <td>2017-11-10</td>\n",
       "      <td>2017</td>\n",
       "      <td>day</td>\n",
       "      <td>0.615</td>\n",
       "      <td>0.534</td>\n",
       "      <td>9</td>\n",
       "      <td>-6.719</td>\n",
       "      <td>0</td>\n",
       "      <td>0.0386</td>\n",
       "      <td>0.10600</td>\n",
       "      <td>0.000018</td>\n",
       "      <td>0.0607</td>\n",
       "      <td>0.1930</td>\n",
       "      <td>135.917</td>\n",
       "      <td>1R0a2iXumgCiFb7HEZ7gUE</td>\n",
       "      <td>https://api.spotify.com/v1/audio-analysis/1R0a...</td>\n",
       "      <td>4</td>\n",
       "      <td>list(href = \"https://api.spotify.com/v1/artist...</td>\n",
       "      <td>c(\"AD\", \"AE\", \"AR\", \"AT\", \"AU\", \"BE\", \"BG\", \"B...</td>\n",
       "      <td>1</td>\n",
       "      <td>236413</td>\n",
       "      <td>False</td>\n",
       "      <td>https://api.spotify.com/v1/tracks/1R0a2iXumgCi...</td>\n",
       "      <td>False</td>\n",
       "      <td>Don’t Blame Me</td>\n",
       "      <td>NaN</td>\n",
       "      <td>4</td>\n",
       "      <td>track</td>\n",
       "      <td>spotify:track:1R0a2iXumgCiFb7HEZ7gUE</td>\n",
       "      <td>https://open.spotify.com/track/1R0a2iXumgCiFb7...</td>\n",
       "      <td>reputation</td>\n",
       "      <td>A</td>\n",
       "      <td>minor</td>\n",
       "      <td>A minor</td>\n",
       "    </tr>\n",
       "    <tr>\n",
       "      <th>4</th>\n",
       "      <td>5</td>\n",
       "      <td>Taylor Swift</td>\n",
       "      <td>06HL4z0CvFAxyc27GXpf02</td>\n",
       "      <td>6DEjYFkNZh67HP7R9PSZvv</td>\n",
       "      <td>album</td>\n",
       "      <td>list(height = c(640, 300, 64), url = c(\"https:...</td>\n",
       "      <td>2017-11-10</td>\n",
       "      <td>2017</td>\n",
       "      <td>day</td>\n",
       "      <td>0.750</td>\n",
       "      <td>0.404</td>\n",
       "      <td>9</td>\n",
       "      <td>-10.178</td>\n",
       "      <td>0</td>\n",
       "      <td>0.0682</td>\n",
       "      <td>0.21600</td>\n",
       "      <td>0.000357</td>\n",
       "      <td>0.0911</td>\n",
       "      <td>0.0499</td>\n",
       "      <td>95.045</td>\n",
       "      <td>6NFyWDv5CjfwuzoCkw47Xf</td>\n",
       "      <td>https://api.spotify.com/v1/audio-analysis/6NFy...</td>\n",
       "      <td>4</td>\n",
       "      <td>list(href = \"https://api.spotify.com/v1/artist...</td>\n",
       "      <td>c(\"AD\", \"AE\", \"AR\", \"AT\", \"AU\", \"BE\", \"BG\", \"B...</td>\n",
       "      <td>1</td>\n",
       "      <td>232253</td>\n",
       "      <td>False</td>\n",
       "      <td>https://api.spotify.com/v1/tracks/6NFyWDv5Cjfw...</td>\n",
       "      <td>False</td>\n",
       "      <td>Delicate</td>\n",
       "      <td>NaN</td>\n",
       "      <td>5</td>\n",
       "      <td>track</td>\n",
       "      <td>spotify:track:6NFyWDv5CjfwuzoCkw47Xf</td>\n",
       "      <td>https://open.spotify.com/track/6NFyWDv5Cjfwuzo...</td>\n",
       "      <td>reputation</td>\n",
       "      <td>A</td>\n",
       "      <td>minor</td>\n",
       "      <td>A minor</td>\n",
       "    </tr>\n",
       "  </tbody>\n",
       "</table>\n",
       "</div>"
      ],
      "text/plain": [
       "   Unnamed: 0   artist_name               artist_id  ... key_name mode_name key_mode\n",
       "0           1  Taylor Swift  06HL4z0CvFAxyc27GXpf02  ...        D     major  D major\n",
       "1           2  Taylor Swift  06HL4z0CvFAxyc27GXpf02  ...        D     major  D major\n",
       "2           3  Taylor Swift  06HL4z0CvFAxyc27GXpf02  ...        C     minor  C minor\n",
       "3           4  Taylor Swift  06HL4z0CvFAxyc27GXpf02  ...        A     minor  A minor\n",
       "4           5  Taylor Swift  06HL4z0CvFAxyc27GXpf02  ...        A     minor  A minor\n",
       "\n",
       "[5 rows x 40 columns]"
      ]
     },
     "execution_count": 5,
     "metadata": {
      "tags": []
     },
     "output_type": "execute_result"
    }
   ],
   "source": [
    "df_taylor.head()"
   ]
  },
  {
   "cell_type": "code",
   "execution_count": 6,
   "metadata": {
    "executionInfo": {
     "elapsed": 1154,
     "status": "ok",
     "timestamp": 1618857854837,
     "user": {
      "displayName": "Fede Camara Halac",
      "photoUrl": "https://lh3.googleusercontent.com/a-/AOh14Gh_b6Y4JRn1pQwmH2PwmvUr8HiKg-a_TZFj1JfXLQ=s64",
      "userId": "14838610272939224163"
     },
     "user_tz": 240
    },
    "id": "PRFaYTS7cf9m"
   },
   "outputs": [],
   "source": [
    "feat_taylor = df_taylor.loc[:, \"danceability\":\"valence\"]\n",
    "feat_beyonce = df_beyonce.loc[:,\"danceability\":\"valence\"]\n",
    "feat_beatles = df_beatles.loc[:,\"danceability\":\"valence\"]\n",
    "feat_nirvana = df_nirvana.loc[:,\"danceability\":\"valence\"]\n",
    "feat_rolling = df_rolling.loc[:,\"danceability\":\"valence\"]"
   ]
  },
  {
   "cell_type": "code",
   "execution_count": 7,
   "metadata": {
    "executionInfo": {
     "elapsed": 1050,
     "status": "ok",
     "timestamp": 1618857922903,
     "user": {
      "displayName": "Fede Camara Halac",
      "photoUrl": "https://lh3.googleusercontent.com/a-/AOh14Gh_b6Y4JRn1pQwmH2PwmvUr8HiKg-a_TZFj1JfXLQ=s64",
      "userId": "14838610272939224163"
     },
     "user_tz": 240
    },
    "id": "TuDTLbUXvYB0"
   },
   "outputs": [],
   "source": [
    "features = np.concatenate([\n",
    "                        feat_taylor,\n",
    "                        feat_beyonce,\n",
    "                        feat_beatles, \n",
    "                        feat_nirvana,\n",
    "                        feat_rolling,\n",
    "                      ])"
   ]
  },
  {
   "cell_type": "code",
   "execution_count": 56,
   "metadata": {
    "colab": {
     "base_uri": "https://localhost:8080/"
    },
    "executionInfo": {
     "elapsed": 1215,
     "status": "ok",
     "timestamp": 1618860359465,
     "user": {
      "displayName": "Fede Camara Halac",
      "photoUrl": "https://lh3.googleusercontent.com/a-/AOh14Gh_b6Y4JRn1pQwmH2PwmvUr8HiKg-a_TZFj1JfXLQ=s64",
      "userId": "14838610272939224163"
     },
     "user_tz": 240
    },
    "id": "v0a6IWWkmDJC",
    "outputId": "27bf8076-f25a-491f-d0bc-4306ab0d7e8e"
   },
   "outputs": [
    {
     "data": {
      "text/plain": [
       "(547, 438, 139, 213, 743)"
      ]
     },
     "execution_count": 56,
     "metadata": {
      "tags": []
     },
     "output_type": "execute_result"
    }
   ],
   "source": [
    "len(feat_taylor),len(feat_beyonce),len(feat_beatles),len(feat_nirvana),len(feat_rolling),"
   ]
  },
  {
   "cell_type": "code",
   "execution_count": 8,
   "metadata": {
    "executionInfo": {
     "elapsed": 1044,
     "status": "ok",
     "timestamp": 1618857927752,
     "user": {
      "displayName": "Fede Camara Halac",
      "photoUrl": "https://lh3.googleusercontent.com/a-/AOh14Gh_b6Y4JRn1pQwmH2PwmvUr8HiKg-a_TZFj1JfXLQ=s64",
      "userId": "14838610272939224163"
     },
     "user_tz": 240
    },
    "id": "7t-t13BMyaag"
   },
   "outputs": [],
   "source": [
    "labels = np.concatenate([\n",
    "                    np.zeros(len(feat_taylor)) +0,\n",
    "                    np.zeros(len(feat_beyonce))+1,\n",
    "                    np.zeros(len(feat_beatles))+2,\n",
    "                    np.zeros(len(feat_nirvana))+3, \n",
    "                    np.zeros(len(feat_rolling))+4\n",
    "                      ])"
   ]
  },
  {
   "cell_type": "code",
   "execution_count": 9,
   "metadata": {
    "colab": {
     "base_uri": "https://localhost:8080/"
    },
    "executionInfo": {
     "elapsed": 1658,
     "status": "ok",
     "timestamp": 1618857932668,
     "user": {
      "displayName": "Fede Camara Halac",
      "photoUrl": "https://lh3.googleusercontent.com/a-/AOh14Gh_b6Y4JRn1pQwmH2PwmvUr8HiKg-a_TZFj1JfXLQ=s64",
      "userId": "14838610272939224163"
     },
     "user_tz": 240
    },
    "id": "ZsrDAYwkdZXi",
    "outputId": "8a2b6f66-1bfa-4f88-c85f-46dbdb2c26f9"
   },
   "outputs": [
    {
     "data": {
      "text/plain": [
       "((2080, 10), (2080,))"
      ]
     },
     "execution_count": 9,
     "metadata": {
      "tags": []
     },
     "output_type": "execute_result"
    }
   ],
   "source": [
    "features.shape, labels.shape"
   ]
  },
  {
   "cell_type": "code",
   "execution_count": 10,
   "metadata": {
    "executionInfo": {
     "elapsed": 2029,
     "status": "ok",
     "timestamp": 1618857980788,
     "user": {
      "displayName": "Fede Camara Halac",
      "photoUrl": "https://lh3.googleusercontent.com/a-/AOh14Gh_b6Y4JRn1pQwmH2PwmvUr8HiKg-a_TZFj1JfXLQ=s64",
      "userId": "14838610272939224163"
     },
     "user_tz": 240
    },
    "id": "6_arQdsezncm"
   },
   "outputs": [],
   "source": [
    "from sklearn.model_selection import train_test_split\n",
    "\n",
    "train_features, test_features, train_labels, test_labels = train_test_split(features, labels)"
   ]
  },
  {
   "cell_type": "markdown",
   "metadata": {
    "id": "RFB6XemAlZUL"
   },
   "source": [
    "## Plot the first 25 elements\n",
    "\n",
    "To see what it looks like"
   ]
  },
  {
   "cell_type": "code",
   "execution_count": 13,
   "metadata": {
    "colab": {
     "base_uri": "https://localhost:8080/",
     "height": 589
    },
    "executionInfo": {
     "elapsed": 2351,
     "status": "ok",
     "timestamp": 1618858139103,
     "user": {
      "displayName": "Fede Camara Halac",
      "photoUrl": "https://lh3.googleusercontent.com/a-/AOh14Gh_b6Y4JRn1pQwmH2PwmvUr8HiKg-a_TZFj1JfXLQ=s64",
      "userId": "14838610272939224163"
     },
     "user_tz": 240
    },
    "id": "oZTImqg_CaW1",
    "outputId": "bc589160-35d7-47dd-a9ec-618aa0e31f04"
   },
   "outputs": [
    {
     "data": {
      "image/png": "[encoded data removed]",
      "text/plain": [
       "<Figure size 720x720 with 25 Axes>"
      ]
     },
     "metadata": {
      "tags": []
     },
     "output_type": "display_data"
    }
   ],
   "source": [
    "plt.figure(figsize=(10,10))\n",
    "i=0\n",
    "for feat, label in zip(train_features, train_labels):\n",
    "    plt.subplot(5,5,i+1)\n",
    "    plt.xticks([])\n",
    "    plt.yticks([])\n",
    "    plt.grid(False)\n",
    "    plt.plot(feat)\n",
    "    plt.xlabel(label_names[int(label)])\n",
    "    i+=1\n",
    "    if i >= 25:\n",
    "        break\n",
    "plt.show()"
   ]
  },
  {
   "cell_type": "markdown",
   "metadata": {
    "id": "59veuiEZCaW4"
   },
   "source": [
    "## Build the model\n",
    "\n",
    "Building the neural network requires configuring the layers of the model, then compiling the model."
   ]
  },
  {
   "cell_type": "markdown",
   "metadata": {
    "id": "Gxg1XGm0eOBy"
   },
   "source": [
    "### Set up the layers\n",
    "\n",
    "The basic building block of a neural network is the *layer*. Layers extract representations from the data fed into them. Hopefully, these representations are meaningful for the problem at hand.\n",
    "\n",
    "Most of deep learning consists of chaining together simple layers. Most layers, such as `tf.keras.layers.Dense`, have parameters that are learned during training."
   ]
  },
  {
   "cell_type": "code",
   "execution_count": 16,
   "metadata": {
    "colab": {
     "base_uri": "https://localhost:8080/"
    },
    "executionInfo": {
     "elapsed": 1019,
     "status": "ok",
     "timestamp": 1618858467796,
     "user": {
      "displayName": "Fede Camara Halac",
      "photoUrl": "https://lh3.googleusercontent.com/a-/AOh14Gh_b6Y4JRn1pQwmH2PwmvUr8HiKg-a_TZFj1JfXLQ=s64",
      "userId": "14838610272939224163"
     },
     "user_tz": 240
    },
    "id": "5tLEL-NApInB",
    "outputId": "da0bccb8-0685-4cbf-f73a-0507988465a0"
   },
   "outputs": [
    {
     "name": "stdout",
     "output_type": "stream",
     "text": [
      "(10,)\n"
     ]
    }
   ],
   "source": [
    "input_shape = features[0].shape\n",
    "print(input_shape)"
   ]
  },
  {
   "cell_type": "code",
   "execution_count": 82,
   "metadata": {
    "executionInfo": {
     "elapsed": 1433,
     "status": "ok",
     "timestamp": 1618861395272,
     "user": {
      "displayName": "Fede Camara Halac",
      "photoUrl": "https://lh3.googleusercontent.com/a-/AOh14Gh_b6Y4JRn1pQwmH2PwmvUr8HiKg-a_TZFj1JfXLQ=s64",
      "userId": "14838610272939224163"
     },
     "user_tz": 240
    },
    "id": "9ODch-OFCaW4"
   },
   "outputs": [],
   "source": [
    "model = tf.keras.Sequential(\n",
    "    [\n",
    "    tf.keras.layers.Input(input_shape),\n",
    "    tf.keras.layers.experimental.preprocessing.Normalization(),\n",
    "    tf.keras.layers.Dense(128, activation='relu'),\n",
    "    tf.keras.layers.Dropout(0.3),\n",
    "    tf.keras.layers.Dense(len(label_names))]\n",
    "    )"
   ]
  },
  {
   "cell_type": "markdown",
   "metadata": {
    "id": "gut8A_7rCaW6"
   },
   "source": [
    "The network consists of a sequence of two `tf.keras.layers.Dense` layers. These are densely connected, or fully connected, neural layers. The first `Dense` layer has 128 nodes (or neurons). The second (and last) layer returns a logits array with length of 5. Each node contains a score that indicates the current image belongs to one of the 5 classes.\n",
    "\n",
    "### Compile the model\n",
    "\n",
    "Before the model is ready for training, it needs a few more settings. These are added during the model's *compile* step:\n",
    "\n",
    "* *Loss function* —This measures how accurate the model is during training. You want to minimize this function to \"steer\" the model in the right direction.\n",
    "* *Optimizer* —This is how the model is updated based on the data it sees and its loss function.\n",
    "* *Metrics* —Used to monitor the training and testing steps. The following example uses *accuracy*, the fraction of the images that are correctly classified."
   ]
  },
  {
   "cell_type": "code",
   "execution_count": 83,
   "metadata": {
    "executionInfo": {
     "elapsed": 1281,
     "status": "ok",
     "timestamp": 1618861397832,
     "user": {
      "displayName": "Fede Camara Halac",
      "photoUrl": "https://lh3.googleusercontent.com/a-/AOh14Gh_b6Y4JRn1pQwmH2PwmvUr8HiKg-a_TZFj1JfXLQ=s64",
      "userId": "14838610272939224163"
     },
     "user_tz": 240
    },
    "id": "Lhan11blCaW7"
   },
   "outputs": [],
   "source": [
    "model.compile(optimizer='adam',\n",
    "              loss=tf.keras.losses.SparseCategoricalCrossentropy(from_logits=True),\n",
    "              metrics=['accuracy'])"
   ]
  },
  {
   "cell_type": "code",
   "execution_count": 84,
   "metadata": {
    "colab": {
     "base_uri": "https://localhost:8080/"
    },
    "executionInfo": {
     "elapsed": 1285,
     "status": "ok",
     "timestamp": 1618861398998,
     "user": {
      "displayName": "Fede Camara Halac",
      "photoUrl": "https://lh3.googleusercontent.com/a-/AOh14Gh_b6Y4JRn1pQwmH2PwmvUr8HiKg-a_TZFj1JfXLQ=s64",
      "userId": "14838610272939224163"
     },
     "user_tz": 240
    },
    "id": "ym1DYZ3v0x5A",
    "outputId": "5b115ef5-a73b-4fef-8b96-b80497661fa1"
   },
   "outputs": [
    {
     "name": "stdout",
     "output_type": "stream",
     "text": [
      "Model: \"sequential_5\"\n",
      "_________________________________________________________________\n",
      "Layer (type)                 Output Shape              Param #   \n",
      "=================================================================\n",
      "normalization_3 (Normalizati (None, 10)                21        \n",
      "_________________________________________________________________\n",
      "dense_6 (Dense)              (None, 128)               1408      \n",
      "_________________________________________________________________\n",
      "dropout_1 (Dropout)          (None, 128)               0         \n",
      "_________________________________________________________________\n",
      "dense_7 (Dense)              (None, 5)                 645       \n",
      "=================================================================\n",
      "Total params: 2,074\n",
      "Trainable params: 2,053\n",
      "Non-trainable params: 21\n",
      "_________________________________________________________________\n"
     ]
    }
   ],
   "source": [
    "model.summary()"
   ]
  },
  {
   "cell_type": "markdown",
   "metadata": {
    "id": "qKF6uW-BCaW-"
   },
   "source": [
    "## Train the model\n",
    "\n",
    "Training the neural network model requires the following steps:\n",
    "\n",
    "1. Feed the training data to the model. In this example, the training data is in the `train_images` and `train_labels` arrays.\n",
    "2. The model learns to associate images and labels.\n",
    "3. You ask the model to make predictions about a test set—in this example, the `test_images` array.\n",
    "4. Verify that the predictions match the labels from the `test_labels` array.\n"
   ]
  },
  {
   "cell_type": "markdown",
   "metadata": {
    "id": "Z4P4zIV7E28Z"
   },
   "source": [
    "### Feed the model\n",
    "\n",
    "To start training,  call the `model.fit` method—so called because it \"fits\" the model to the training data:"
   ]
  },
  {
   "cell_type": "code",
   "execution_count": 85,
   "metadata": {
    "colab": {
     "base_uri": "https://localhost:8080/"
    },
    "executionInfo": {
     "elapsed": 44143,
     "status": "ok",
     "timestamp": 1618861443814,
     "user": {
      "displayName": "Fede Camara Halac",
      "photoUrl": "https://lh3.googleusercontent.com/a-/AOh14Gh_b6Y4JRn1pQwmH2PwmvUr8HiKg-a_TZFj1JfXLQ=s64",
      "userId": "14838610272939224163"
     },
     "user_tz": 240
    },
    "id": "xvwvpA64CaW_",
    "outputId": "cdcd6703-52cc-4b38-bcd5-7d725035fb47"
   },
   "outputs": [
    {
     "name": "stdout",
     "output_type": "stream",
     "text": [
      "Epoch 1/200\n",
      "98/98 [==============================] - 1s 4ms/step - loss: 1.8549 - accuracy: 0.2702 - val_loss: 1.3879 - val_accuracy: 0.3865\n",
      "Epoch 2/200\n",
      "98/98 [==============================] - 0s 2ms/step - loss: 1.5215 - accuracy: 0.3620 - val_loss: 1.3430 - val_accuracy: 0.4365\n",
      "Epoch 3/200\n",
      "98/98 [==============================] - 0s 2ms/step - loss: 1.4507 - accuracy: 0.3788 - val_loss: 1.2912 - val_accuracy: 0.4558\n",
      "Epoch 4/200\n",
      "98/98 [==============================] - 0s 2ms/step - loss: 1.4419 - accuracy: 0.3768 - val_loss: 1.2512 - val_accuracy: 0.5173\n",
      "Epoch 5/200\n",
      "98/98 [==============================] - 0s 2ms/step - loss: 1.3494 - accuracy: 0.4305 - val_loss: 1.2390 - val_accuracy: 0.4942\n",
      "Epoch 6/200\n",
      "98/98 [==============================] - 0s 2ms/step - loss: 1.2862 - accuracy: 0.4691 - val_loss: 1.1962 - val_accuracy: 0.5404\n",
      "Epoch 7/200\n",
      "98/98 [==============================] - 0s 2ms/step - loss: 1.2596 - accuracy: 0.4845 - val_loss: 1.1650 - val_accuracy: 0.5712\n",
      "Epoch 8/200\n",
      "98/98 [==============================] - 0s 2ms/step - loss: 1.2541 - accuracy: 0.5016 - val_loss: 1.1309 - val_accuracy: 0.5692\n",
      "Epoch 9/200\n",
      "98/98 [==============================] - 0s 2ms/step - loss: 1.1691 - accuracy: 0.5548 - val_loss: 1.1227 - val_accuracy: 0.5885\n",
      "Epoch 10/200\n",
      "98/98 [==============================] - 0s 2ms/step - loss: 1.1581 - accuracy: 0.5551 - val_loss: 1.0900 - val_accuracy: 0.5865\n",
      "Epoch 11/200\n",
      "98/98 [==============================] - 0s 2ms/step - loss: 1.1401 - accuracy: 0.5384 - val_loss: 1.0774 - val_accuracy: 0.5731\n",
      "Epoch 12/200\n",
      "98/98 [==============================] - 0s 2ms/step - loss: 1.1348 - accuracy: 0.5648 - val_loss: 1.0497 - val_accuracy: 0.5846\n",
      "Epoch 13/200\n",
      "98/98 [==============================] - 0s 2ms/step - loss: 1.0976 - accuracy: 0.5949 - val_loss: 1.0385 - val_accuracy: 0.6019\n",
      "Epoch 14/200\n",
      "98/98 [==============================] - 0s 2ms/step - loss: 1.0713 - accuracy: 0.5965 - val_loss: 1.0268 - val_accuracy: 0.6135\n",
      "Epoch 15/200\n",
      "98/98 [==============================] - 0s 2ms/step - loss: 1.0490 - accuracy: 0.6078 - val_loss: 1.0132 - val_accuracy: 0.6135\n",
      "Epoch 16/200\n",
      "98/98 [==============================] - 0s 2ms/step - loss: 1.0446 - accuracy: 0.5956 - val_loss: 0.9863 - val_accuracy: 0.6385\n",
      "Epoch 17/200\n",
      "98/98 [==============================] - 0s 2ms/step - loss: 1.0179 - accuracy: 0.6062 - val_loss: 0.9833 - val_accuracy: 0.6269\n",
      "Epoch 18/200\n",
      "98/98 [==============================] - 0s 2ms/step - loss: 1.0083 - accuracy: 0.6237 - val_loss: 0.9585 - val_accuracy: 0.6442\n",
      "Epoch 19/200\n",
      "98/98 [==============================] - 0s 2ms/step - loss: 0.9950 - accuracy: 0.6365 - val_loss: 0.9590 - val_accuracy: 0.6481\n",
      "Epoch 20/200\n",
      "98/98 [==============================] - 0s 2ms/step - loss: 0.9715 - accuracy: 0.6376 - val_loss: 0.9356 - val_accuracy: 0.6519\n",
      "Epoch 21/200\n",
      "98/98 [==============================] - 0s 2ms/step - loss: 0.9699 - accuracy: 0.6300 - val_loss: 0.9325 - val_accuracy: 0.6615\n",
      "Epoch 22/200\n",
      "98/98 [==============================] - 0s 2ms/step - loss: 0.9629 - accuracy: 0.6495 - val_loss: 0.9320 - val_accuracy: 0.6731\n",
      "Epoch 23/200\n",
      "98/98 [==============================] - 0s 2ms/step - loss: 0.9356 - accuracy: 0.6668 - val_loss: 0.9111 - val_accuracy: 0.6808\n",
      "Epoch 24/200\n",
      "98/98 [==============================] - 0s 2ms/step - loss: 0.9326 - accuracy: 0.6652 - val_loss: 0.9037 - val_accuracy: 0.6827\n",
      "Epoch 25/200\n",
      "98/98 [==============================] - 0s 2ms/step - loss: 0.9298 - accuracy: 0.6510 - val_loss: 0.8909 - val_accuracy: 0.6750\n",
      "Epoch 26/200\n",
      "98/98 [==============================] - 0s 2ms/step - loss: 0.9096 - accuracy: 0.6685 - val_loss: 0.8938 - val_accuracy: 0.6962\n",
      "Epoch 27/200\n",
      "98/98 [==============================] - 0s 2ms/step - loss: 0.8954 - accuracy: 0.7010 - val_loss: 0.8903 - val_accuracy: 0.6846\n",
      "Epoch 28/200\n",
      "98/98 [==============================] - 0s 2ms/step - loss: 0.9177 - accuracy: 0.6729 - val_loss: 0.8740 - val_accuracy: 0.6827\n",
      "Epoch 29/200\n",
      "98/98 [==============================] - 0s 2ms/step - loss: 0.8575 - accuracy: 0.6971 - val_loss: 0.8717 - val_accuracy: 0.7154\n",
      "Epoch 30/200\n",
      "98/98 [==============================] - 0s 2ms/step - loss: 0.8754 - accuracy: 0.6878 - val_loss: 0.8647 - val_accuracy: 0.6962\n",
      "Epoch 31/200\n",
      "98/98 [==============================] - 0s 2ms/step - loss: 0.8645 - accuracy: 0.6887 - val_loss: 0.8544 - val_accuracy: 0.7038\n",
      "Epoch 32/200\n",
      "98/98 [==============================] - 0s 2ms/step - loss: 0.8635 - accuracy: 0.6909 - val_loss: 0.8595 - val_accuracy: 0.6981\n",
      "Epoch 33/200\n",
      "98/98 [==============================] - 0s 2ms/step - loss: 0.8344 - accuracy: 0.7049 - val_loss: 0.8475 - val_accuracy: 0.7173\n",
      "Epoch 34/200\n",
      "98/98 [==============================] - 0s 2ms/step - loss: 0.7965 - accuracy: 0.7388 - val_loss: 0.8382 - val_accuracy: 0.6885\n",
      "Epoch 35/200\n",
      "98/98 [==============================] - 0s 2ms/step - loss: 0.8558 - accuracy: 0.6974 - val_loss: 0.8311 - val_accuracy: 0.7135\n",
      "Epoch 36/200\n",
      "98/98 [==============================] - 0s 2ms/step - loss: 0.8133 - accuracy: 0.7032 - val_loss: 0.8285 - val_accuracy: 0.7231\n",
      "Epoch 37/200\n",
      "98/98 [==============================] - 0s 2ms/step - loss: 0.8482 - accuracy: 0.7072 - val_loss: 0.8231 - val_accuracy: 0.7115\n",
      "Epoch 38/200\n",
      "98/98 [==============================] - 0s 2ms/step - loss: 0.8476 - accuracy: 0.6985 - val_loss: 0.8210 - val_accuracy: 0.7250\n",
      "Epoch 39/200\n",
      "98/98 [==============================] - 0s 2ms/step - loss: 0.8194 - accuracy: 0.6926 - val_loss: 0.8365 - val_accuracy: 0.7115\n",
      "Epoch 40/200\n",
      "98/98 [==============================] - 0s 2ms/step - loss: 0.7889 - accuracy: 0.7238 - val_loss: 0.8133 - val_accuracy: 0.7173\n",
      "Epoch 41/200\n",
      "98/98 [==============================] - 0s 2ms/step - loss: 0.8137 - accuracy: 0.6914 - val_loss: 0.8236 - val_accuracy: 0.6962\n",
      "Epoch 42/200\n",
      "98/98 [==============================] - 0s 2ms/step - loss: 0.7941 - accuracy: 0.7224 - val_loss: 0.8047 - val_accuracy: 0.7346\n",
      "Epoch 43/200\n",
      "98/98 [==============================] - 0s 2ms/step - loss: 0.8500 - accuracy: 0.6994 - val_loss: 0.7987 - val_accuracy: 0.7077\n",
      "Epoch 44/200\n",
      "98/98 [==============================] - 0s 2ms/step - loss: 0.7814 - accuracy: 0.7332 - val_loss: 0.8004 - val_accuracy: 0.7154\n",
      "Epoch 45/200\n",
      "98/98 [==============================] - 0s 2ms/step - loss: 0.8015 - accuracy: 0.7039 - val_loss: 0.7938 - val_accuracy: 0.7173\n",
      "Epoch 46/200\n",
      "98/98 [==============================] - 0s 2ms/step - loss: 0.7738 - accuracy: 0.7291 - val_loss: 0.7998 - val_accuracy: 0.7058\n",
      "Epoch 47/200\n",
      "98/98 [==============================] - 0s 2ms/step - loss: 0.7917 - accuracy: 0.7129 - val_loss: 0.7897 - val_accuracy: 0.7212\n",
      "Epoch 48/200\n",
      "98/98 [==============================] - 0s 2ms/step - loss: 0.7550 - accuracy: 0.7412 - val_loss: 0.7828 - val_accuracy: 0.7288\n",
      "Epoch 49/200\n",
      "98/98 [==============================] - 0s 2ms/step - loss: 0.7551 - accuracy: 0.7445 - val_loss: 0.7936 - val_accuracy: 0.7288\n",
      "Epoch 50/200\n",
      "98/98 [==============================] - 0s 2ms/step - loss: 0.7342 - accuracy: 0.7449 - val_loss: 0.7988 - val_accuracy: 0.7231\n",
      "Epoch 51/200\n",
      "98/98 [==============================] - 0s 2ms/step - loss: 0.7770 - accuracy: 0.7305 - val_loss: 0.7902 - val_accuracy: 0.7115\n",
      "Epoch 52/200\n",
      "98/98 [==============================] - 0s 2ms/step - loss: 0.7622 - accuracy: 0.7286 - val_loss: 0.7815 - val_accuracy: 0.7115\n",
      "Epoch 53/200\n",
      "98/98 [==============================] - 0s 2ms/step - loss: 0.7479 - accuracy: 0.7433 - val_loss: 0.7718 - val_accuracy: 0.7308\n",
      "Epoch 54/200\n",
      "98/98 [==============================] - 0s 2ms/step - loss: 0.7601 - accuracy: 0.7326 - val_loss: 0.7758 - val_accuracy: 0.7135\n",
      "Epoch 55/200\n",
      "98/98 [==============================] - 0s 2ms/step - loss: 0.7482 - accuracy: 0.7304 - val_loss: 0.7772 - val_accuracy: 0.7115\n",
      "Epoch 56/200\n",
      "98/98 [==============================] - 0s 2ms/step - loss: 0.7244 - accuracy: 0.7408 - val_loss: 0.7645 - val_accuracy: 0.7154\n",
      "Epoch 57/200\n",
      "98/98 [==============================] - 0s 2ms/step - loss: 0.7281 - accuracy: 0.7209 - val_loss: 0.7828 - val_accuracy: 0.7077\n",
      "Epoch 58/200\n",
      "98/98 [==============================] - 0s 2ms/step - loss: 0.7702 - accuracy: 0.7325 - val_loss: 0.7668 - val_accuracy: 0.7173\n",
      "Epoch 59/200\n",
      "98/98 [==============================] - 0s 2ms/step - loss: 0.7191 - accuracy: 0.7443 - val_loss: 0.7591 - val_accuracy: 0.7173\n",
      "Epoch 60/200\n",
      "98/98 [==============================] - 0s 2ms/step - loss: 0.6780 - accuracy: 0.7536 - val_loss: 0.7579 - val_accuracy: 0.7288\n",
      "Epoch 61/200\n",
      "98/98 [==============================] - 0s 2ms/step - loss: 0.7097 - accuracy: 0.7394 - val_loss: 0.7622 - val_accuracy: 0.7327\n",
      "Epoch 62/200\n",
      "98/98 [==============================] - 0s 2ms/step - loss: 0.7462 - accuracy: 0.7265 - val_loss: 0.7587 - val_accuracy: 0.7327\n",
      "Epoch 63/200\n",
      "98/98 [==============================] - 0s 2ms/step - loss: 0.7447 - accuracy: 0.7361 - val_loss: 0.7499 - val_accuracy: 0.7308\n",
      "Epoch 64/200\n",
      "98/98 [==============================] - 0s 2ms/step - loss: 0.7401 - accuracy: 0.7401 - val_loss: 0.7597 - val_accuracy: 0.7346\n",
      "Epoch 65/200\n",
      "98/98 [==============================] - 0s 2ms/step - loss: 0.7384 - accuracy: 0.7327 - val_loss: 0.7453 - val_accuracy: 0.7308\n",
      "Epoch 66/200\n",
      "98/98 [==============================] - 0s 2ms/step - loss: 0.7053 - accuracy: 0.7589 - val_loss: 0.7621 - val_accuracy: 0.7269\n",
      "Epoch 67/200\n",
      "98/98 [==============================] - 0s 2ms/step - loss: 0.7289 - accuracy: 0.7550 - val_loss: 0.7519 - val_accuracy: 0.7231\n",
      "Epoch 68/200\n",
      "98/98 [==============================] - 0s 2ms/step - loss: 0.7545 - accuracy: 0.7282 - val_loss: 0.7545 - val_accuracy: 0.7327\n",
      "Epoch 69/200\n",
      "98/98 [==============================] - 0s 2ms/step - loss: 0.7253 - accuracy: 0.7409 - val_loss: 0.7425 - val_accuracy: 0.7365\n",
      "Epoch 70/200\n",
      "98/98 [==============================] - 0s 2ms/step - loss: 0.7190 - accuracy: 0.7445 - val_loss: 0.7377 - val_accuracy: 0.7404\n",
      "Epoch 71/200\n",
      "98/98 [==============================] - 0s 2ms/step - loss: 0.7114 - accuracy: 0.7551 - val_loss: 0.7470 - val_accuracy: 0.7404\n",
      "Epoch 72/200\n",
      "98/98 [==============================] - 0s 2ms/step - loss: 0.6811 - accuracy: 0.7530 - val_loss: 0.7458 - val_accuracy: 0.7269\n",
      "Epoch 73/200\n",
      "98/98 [==============================] - 0s 2ms/step - loss: 0.6945 - accuracy: 0.7365 - val_loss: 0.7501 - val_accuracy: 0.7346\n",
      "Epoch 74/200\n",
      "98/98 [==============================] - 0s 2ms/step - loss: 0.7087 - accuracy: 0.7471 - val_loss: 0.7618 - val_accuracy: 0.7250\n",
      "Epoch 75/200\n",
      "98/98 [==============================] - 0s 2ms/step - loss: 0.7285 - accuracy: 0.7410 - val_loss: 0.7451 - val_accuracy: 0.7327\n",
      "Epoch 76/200\n",
      "98/98 [==============================] - 0s 2ms/step - loss: 0.6644 - accuracy: 0.7516 - val_loss: 0.7394 - val_accuracy: 0.7250\n",
      "Epoch 77/200\n",
      "98/98 [==============================] - 0s 2ms/step - loss: 0.7315 - accuracy: 0.7356 - val_loss: 0.7448 - val_accuracy: 0.7346\n",
      "Epoch 78/200\n",
      "98/98 [==============================] - 0s 2ms/step - loss: 0.6932 - accuracy: 0.7423 - val_loss: 0.7341 - val_accuracy: 0.7288\n",
      "Epoch 79/200\n",
      "98/98 [==============================] - 0s 2ms/step - loss: 0.6685 - accuracy: 0.7558 - val_loss: 0.7339 - val_accuracy: 0.7385\n",
      "Epoch 80/200\n",
      "98/98 [==============================] - 0s 2ms/step - loss: 0.7121 - accuracy: 0.7505 - val_loss: 0.7357 - val_accuracy: 0.7365\n",
      "Epoch 81/200\n",
      "98/98 [==============================] - 0s 2ms/step - loss: 0.6903 - accuracy: 0.7528 - val_loss: 0.7373 - val_accuracy: 0.7385\n",
      "Epoch 82/200\n",
      "98/98 [==============================] - 0s 2ms/step - loss: 0.6952 - accuracy: 0.7643 - val_loss: 0.7221 - val_accuracy: 0.7250\n",
      "Epoch 83/200\n",
      "98/98 [==============================] - 0s 2ms/step - loss: 0.6815 - accuracy: 0.7461 - val_loss: 0.7264 - val_accuracy: 0.7327\n",
      "Epoch 84/200\n",
      "98/98 [==============================] - 0s 2ms/step - loss: 0.7003 - accuracy: 0.7509 - val_loss: 0.7430 - val_accuracy: 0.7077\n",
      "Epoch 85/200\n",
      "98/98 [==============================] - 0s 2ms/step - loss: 0.7003 - accuracy: 0.7389 - val_loss: 0.7274 - val_accuracy: 0.7500\n",
      "Epoch 86/200\n",
      "98/98 [==============================] - 0s 2ms/step - loss: 0.7097 - accuracy: 0.7540 - val_loss: 0.7205 - val_accuracy: 0.7481\n",
      "Epoch 87/200\n",
      "98/98 [==============================] - 0s 2ms/step - loss: 0.6744 - accuracy: 0.7599 - val_loss: 0.7231 - val_accuracy: 0.7385\n",
      "Epoch 88/200\n",
      "98/98 [==============================] - 0s 2ms/step - loss: 0.6992 - accuracy: 0.7500 - val_loss: 0.7310 - val_accuracy: 0.7288\n",
      "Epoch 89/200\n",
      "98/98 [==============================] - 0s 2ms/step - loss: 0.6424 - accuracy: 0.7602 - val_loss: 0.7191 - val_accuracy: 0.7442\n",
      "Epoch 90/200\n",
      "98/98 [==============================] - 0s 2ms/step - loss: 0.6649 - accuracy: 0.7673 - val_loss: 0.7339 - val_accuracy: 0.7558\n",
      "Epoch 91/200\n",
      "98/98 [==============================] - 0s 2ms/step - loss: 0.6421 - accuracy: 0.7653 - val_loss: 0.7179 - val_accuracy: 0.7462\n",
      "Epoch 92/200\n",
      "98/98 [==============================] - 0s 2ms/step - loss: 0.6525 - accuracy: 0.7672 - val_loss: 0.7321 - val_accuracy: 0.7442\n",
      "Epoch 93/200\n",
      "98/98 [==============================] - 0s 2ms/step - loss: 0.6564 - accuracy: 0.7612 - val_loss: 0.7238 - val_accuracy: 0.7481\n",
      "Epoch 94/200\n",
      "98/98 [==============================] - 0s 2ms/step - loss: 0.6786 - accuracy: 0.7438 - val_loss: 0.7255 - val_accuracy: 0.7308\n",
      "Epoch 95/200\n",
      "98/98 [==============================] - 0s 2ms/step - loss: 0.6830 - accuracy: 0.7570 - val_loss: 0.7078 - val_accuracy: 0.7404\n",
      "Epoch 96/200\n",
      "98/98 [==============================] - 0s 2ms/step - loss: 0.6501 - accuracy: 0.7445 - val_loss: 0.7138 - val_accuracy: 0.7404\n",
      "Epoch 97/200\n",
      "98/98 [==============================] - 0s 2ms/step - loss: 0.6757 - accuracy: 0.7597 - val_loss: 0.7114 - val_accuracy: 0.7442\n",
      "Epoch 98/200\n",
      "98/98 [==============================] - 0s 2ms/step - loss: 0.6689 - accuracy: 0.7580 - val_loss: 0.7183 - val_accuracy: 0.7462\n",
      "Epoch 99/200\n",
      "98/98 [==============================] - 0s 2ms/step - loss: 0.6659 - accuracy: 0.7605 - val_loss: 0.7210 - val_accuracy: 0.7404\n",
      "Epoch 100/200\n",
      "98/98 [==============================] - 0s 2ms/step - loss: 0.6742 - accuracy: 0.7608 - val_loss: 0.7261 - val_accuracy: 0.7577\n",
      "Epoch 101/200\n",
      "98/98 [==============================] - 0s 2ms/step - loss: 0.6950 - accuracy: 0.7496 - val_loss: 0.7269 - val_accuracy: 0.7519\n",
      "Epoch 102/200\n",
      "98/98 [==============================] - 0s 2ms/step - loss: 0.6784 - accuracy: 0.7484 - val_loss: 0.7170 - val_accuracy: 0.7519\n",
      "Epoch 103/200\n",
      "98/98 [==============================] - 0s 2ms/step - loss: 0.6616 - accuracy: 0.7572 - val_loss: 0.6997 - val_accuracy: 0.7442\n",
      "Epoch 104/200\n",
      "98/98 [==============================] - 0s 2ms/step - loss: 0.6590 - accuracy: 0.7606 - val_loss: 0.7043 - val_accuracy: 0.7385\n",
      "Epoch 105/200\n",
      "98/98 [==============================] - 0s 2ms/step - loss: 0.6587 - accuracy: 0.7594 - val_loss: 0.7072 - val_accuracy: 0.7423\n",
      "Epoch 106/200\n",
      "98/98 [==============================] - 0s 2ms/step - loss: 0.6885 - accuracy: 0.7425 - val_loss: 0.7005 - val_accuracy: 0.7442\n",
      "Epoch 107/200\n",
      "98/98 [==============================] - 0s 2ms/step - loss: 0.6454 - accuracy: 0.7743 - val_loss: 0.7091 - val_accuracy: 0.7635\n",
      "Epoch 108/200\n",
      "98/98 [==============================] - 0s 2ms/step - loss: 0.6602 - accuracy: 0.7705 - val_loss: 0.7016 - val_accuracy: 0.7442\n",
      "Epoch 109/200\n",
      "98/98 [==============================] - 0s 2ms/step - loss: 0.6513 - accuracy: 0.7529 - val_loss: 0.7029 - val_accuracy: 0.7481\n",
      "Epoch 110/200\n",
      "98/98 [==============================] - 0s 2ms/step - loss: 0.6325 - accuracy: 0.7784 - val_loss: 0.7026 - val_accuracy: 0.7577\n",
      "Epoch 111/200\n",
      "98/98 [==============================] - 0s 2ms/step - loss: 0.6657 - accuracy: 0.7690 - val_loss: 0.7026 - val_accuracy: 0.7481\n",
      "Epoch 112/200\n",
      "98/98 [==============================] - 0s 2ms/step - loss: 0.6701 - accuracy: 0.7554 - val_loss: 0.7053 - val_accuracy: 0.7538\n",
      "Epoch 113/200\n",
      "98/98 [==============================] - 0s 2ms/step - loss: 0.6511 - accuracy: 0.7808 - val_loss: 0.7025 - val_accuracy: 0.7558\n",
      "Epoch 114/200\n",
      "98/98 [==============================] - 0s 2ms/step - loss: 0.6750 - accuracy: 0.7618 - val_loss: 0.6922 - val_accuracy: 0.7346\n",
      "Epoch 115/200\n",
      "98/98 [==============================] - 0s 2ms/step - loss: 0.6360 - accuracy: 0.7779 - val_loss: 0.7014 - val_accuracy: 0.7538\n",
      "Epoch 116/200\n",
      "98/98 [==============================] - 0s 2ms/step - loss: 0.6520 - accuracy: 0.7605 - val_loss: 0.7014 - val_accuracy: 0.7673\n",
      "Epoch 117/200\n",
      "98/98 [==============================] - 0s 2ms/step - loss: 0.6078 - accuracy: 0.7874 - val_loss: 0.7044 - val_accuracy: 0.7365\n",
      "Epoch 118/200\n",
      "98/98 [==============================] - 0s 2ms/step - loss: 0.6259 - accuracy: 0.7764 - val_loss: 0.6874 - val_accuracy: 0.7615\n",
      "Epoch 119/200\n",
      "98/98 [==============================] - 0s 2ms/step - loss: 0.6577 - accuracy: 0.7605 - val_loss: 0.6984 - val_accuracy: 0.7558\n",
      "Epoch 120/200\n",
      "98/98 [==============================] - 0s 2ms/step - loss: 0.6419 - accuracy: 0.7645 - val_loss: 0.6886 - val_accuracy: 0.7615\n",
      "Epoch 121/200\n",
      "98/98 [==============================] - 0s 2ms/step - loss: 0.6369 - accuracy: 0.7669 - val_loss: 0.7017 - val_accuracy: 0.7558\n",
      "Epoch 122/200\n",
      "98/98 [==============================] - 0s 2ms/step - loss: 0.6486 - accuracy: 0.7620 - val_loss: 0.7003 - val_accuracy: 0.7577\n",
      "Epoch 123/200\n",
      "98/98 [==============================] - 0s 2ms/step - loss: 0.6188 - accuracy: 0.7654 - val_loss: 0.6918 - val_accuracy: 0.7538\n",
      "Epoch 124/200\n",
      "98/98 [==============================] - 0s 2ms/step - loss: 0.6407 - accuracy: 0.7716 - val_loss: 0.6984 - val_accuracy: 0.7635\n",
      "Epoch 125/200\n",
      "98/98 [==============================] - 0s 2ms/step - loss: 0.6219 - accuracy: 0.7885 - val_loss: 0.6920 - val_accuracy: 0.7596\n",
      "Epoch 126/200\n",
      "98/98 [==============================] - 0s 2ms/step - loss: 0.6555 - accuracy: 0.7531 - val_loss: 0.6906 - val_accuracy: 0.7654\n",
      "Epoch 127/200\n",
      "98/98 [==============================] - 0s 2ms/step - loss: 0.6242 - accuracy: 0.7669 - val_loss: 0.6969 - val_accuracy: 0.7577\n",
      "Epoch 128/200\n",
      "98/98 [==============================] - 0s 2ms/step - loss: 0.6361 - accuracy: 0.7687 - val_loss: 0.6910 - val_accuracy: 0.7654\n",
      "Epoch 129/200\n",
      "98/98 [==============================] - 0s 2ms/step - loss: 0.6572 - accuracy: 0.7571 - val_loss: 0.6835 - val_accuracy: 0.7558\n",
      "Epoch 130/200\n",
      "98/98 [==============================] - 0s 2ms/step - loss: 0.6313 - accuracy: 0.7610 - val_loss: 0.6935 - val_accuracy: 0.7481\n",
      "Epoch 131/200\n",
      "98/98 [==============================] - 0s 2ms/step - loss: 0.6238 - accuracy: 0.7836 - val_loss: 0.7052 - val_accuracy: 0.7500\n",
      "Epoch 132/200\n",
      "98/98 [==============================] - 0s 2ms/step - loss: 0.6299 - accuracy: 0.7602 - val_loss: 0.6986 - val_accuracy: 0.7500\n",
      "Epoch 133/200\n",
      "98/98 [==============================] - 0s 2ms/step - loss: 0.6566 - accuracy: 0.7672 - val_loss: 0.6949 - val_accuracy: 0.7596\n",
      "Epoch 134/200\n",
      "98/98 [==============================] - 0s 2ms/step - loss: 0.6286 - accuracy: 0.7665 - val_loss: 0.6938 - val_accuracy: 0.7577\n",
      "Epoch 135/200\n",
      "98/98 [==============================] - 0s 2ms/step - loss: 0.6259 - accuracy: 0.7738 - val_loss: 0.6906 - val_accuracy: 0.7519\n",
      "Epoch 136/200\n",
      "98/98 [==============================] - 0s 2ms/step - loss: 0.6141 - accuracy: 0.7708 - val_loss: 0.6853 - val_accuracy: 0.7654\n",
      "Epoch 137/200\n",
      "98/98 [==============================] - 0s 2ms/step - loss: 0.5885 - accuracy: 0.7849 - val_loss: 0.6952 - val_accuracy: 0.7615\n",
      "Epoch 138/200\n",
      "98/98 [==============================] - 0s 2ms/step - loss: 0.6171 - accuracy: 0.7741 - val_loss: 0.6927 - val_accuracy: 0.7596\n",
      "Epoch 139/200\n",
      "98/98 [==============================] - 0s 2ms/step - loss: 0.5820 - accuracy: 0.7901 - val_loss: 0.6879 - val_accuracy: 0.7673\n",
      "Epoch 140/200\n",
      "98/98 [==============================] - 0s 2ms/step - loss: 0.5959 - accuracy: 0.7781 - val_loss: 0.6947 - val_accuracy: 0.7442\n",
      "Epoch 141/200\n",
      "98/98 [==============================] - 0s 2ms/step - loss: 0.6180 - accuracy: 0.7858 - val_loss: 0.6857 - val_accuracy: 0.7654\n",
      "Epoch 142/200\n",
      "98/98 [==============================] - 0s 2ms/step - loss: 0.6247 - accuracy: 0.7778 - val_loss: 0.6838 - val_accuracy: 0.7538\n",
      "Epoch 143/200\n",
      "98/98 [==============================] - 0s 2ms/step - loss: 0.6107 - accuracy: 0.7822 - val_loss: 0.6845 - val_accuracy: 0.7635\n",
      "Epoch 144/200\n",
      "98/98 [==============================] - 0s 2ms/step - loss: 0.6013 - accuracy: 0.7928 - val_loss: 0.6772 - val_accuracy: 0.7654\n",
      "Epoch 145/200\n",
      "98/98 [==============================] - 0s 2ms/step - loss: 0.6646 - accuracy: 0.7628 - val_loss: 0.6861 - val_accuracy: 0.7519\n",
      "Epoch 146/200\n",
      "98/98 [==============================] - 0s 2ms/step - loss: 0.6176 - accuracy: 0.7761 - val_loss: 0.6809 - val_accuracy: 0.7654\n",
      "Epoch 147/200\n",
      "98/98 [==============================] - 0s 2ms/step - loss: 0.6158 - accuracy: 0.7695 - val_loss: 0.6832 - val_accuracy: 0.7673\n",
      "Epoch 148/200\n",
      "98/98 [==============================] - 0s 2ms/step - loss: 0.6139 - accuracy: 0.7677 - val_loss: 0.6761 - val_accuracy: 0.7673\n",
      "Epoch 149/200\n",
      "98/98 [==============================] - 0s 2ms/step - loss: 0.6270 - accuracy: 0.7792 - val_loss: 0.6920 - val_accuracy: 0.7442\n",
      "Epoch 150/200\n",
      "98/98 [==============================] - 0s 2ms/step - loss: 0.6103 - accuracy: 0.7842 - val_loss: 0.6851 - val_accuracy: 0.7519\n",
      "Epoch 151/200\n",
      "98/98 [==============================] - 0s 2ms/step - loss: 0.6312 - accuracy: 0.7598 - val_loss: 0.6732 - val_accuracy: 0.7635\n",
      "Epoch 152/200\n",
      "98/98 [==============================] - 0s 2ms/step - loss: 0.6420 - accuracy: 0.7716 - val_loss: 0.6790 - val_accuracy: 0.7615\n",
      "Epoch 153/200\n",
      "98/98 [==============================] - 0s 2ms/step - loss: 0.6009 - accuracy: 0.7968 - val_loss: 0.6898 - val_accuracy: 0.7558\n",
      "Epoch 154/200\n",
      "98/98 [==============================] - 0s 2ms/step - loss: 0.6372 - accuracy: 0.7653 - val_loss: 0.6769 - val_accuracy: 0.7635\n",
      "Epoch 155/200\n",
      "98/98 [==============================] - 0s 2ms/step - loss: 0.6253 - accuracy: 0.7699 - val_loss: 0.7003 - val_accuracy: 0.7654\n",
      "Epoch 156/200\n",
      "98/98 [==============================] - 0s 2ms/step - loss: 0.6425 - accuracy: 0.7749 - val_loss: 0.6783 - val_accuracy: 0.7673\n",
      "Epoch 157/200\n",
      "98/98 [==============================] - 0s 2ms/step - loss: 0.5940 - accuracy: 0.7870 - val_loss: 0.6701 - val_accuracy: 0.7712\n",
      "Epoch 158/200\n",
      "98/98 [==============================] - 0s 2ms/step - loss: 0.5924 - accuracy: 0.7883 - val_loss: 0.6937 - val_accuracy: 0.7462\n",
      "Epoch 159/200\n",
      "98/98 [==============================] - 0s 2ms/step - loss: 0.6223 - accuracy: 0.7900 - val_loss: 0.6705 - val_accuracy: 0.7577\n",
      "Epoch 160/200\n",
      "98/98 [==============================] - 0s 2ms/step - loss: 0.6250 - accuracy: 0.7762 - val_loss: 0.6768 - val_accuracy: 0.7673\n",
      "Epoch 161/200\n",
      "98/98 [==============================] - 0s 2ms/step - loss: 0.5967 - accuracy: 0.7922 - val_loss: 0.6675 - val_accuracy: 0.7731\n",
      "Epoch 162/200\n",
      "98/98 [==============================] - 0s 2ms/step - loss: 0.5739 - accuracy: 0.7949 - val_loss: 0.6778 - val_accuracy: 0.7731\n",
      "Epoch 163/200\n",
      "98/98 [==============================] - 0s 2ms/step - loss: 0.6516 - accuracy: 0.7442 - val_loss: 0.6702 - val_accuracy: 0.7712\n",
      "Epoch 164/200\n",
      "98/98 [==============================] - 0s 2ms/step - loss: 0.6020 - accuracy: 0.7777 - val_loss: 0.6709 - val_accuracy: 0.7654\n",
      "Epoch 165/200\n",
      "98/98 [==============================] - 0s 2ms/step - loss: 0.5989 - accuracy: 0.7820 - val_loss: 0.6815 - val_accuracy: 0.7577\n",
      "Epoch 166/200\n",
      "98/98 [==============================] - 0s 2ms/step - loss: 0.6047 - accuracy: 0.7844 - val_loss: 0.6641 - val_accuracy: 0.7615\n",
      "Epoch 167/200\n",
      "98/98 [==============================] - 0s 2ms/step - loss: 0.6180 - accuracy: 0.7730 - val_loss: 0.6686 - val_accuracy: 0.7712\n",
      "Epoch 168/200\n",
      "98/98 [==============================] - 0s 2ms/step - loss: 0.5752 - accuracy: 0.7907 - val_loss: 0.6683 - val_accuracy: 0.7750\n",
      "Epoch 169/200\n",
      "98/98 [==============================] - 0s 2ms/step - loss: 0.5827 - accuracy: 0.7849 - val_loss: 0.6798 - val_accuracy: 0.7673\n",
      "Epoch 170/200\n",
      "98/98 [==============================] - 0s 2ms/step - loss: 0.6310 - accuracy: 0.7768 - val_loss: 0.6624 - val_accuracy: 0.7673\n",
      "Epoch 171/200\n",
      "98/98 [==============================] - 0s 2ms/step - loss: 0.5964 - accuracy: 0.7885 - val_loss: 0.6647 - val_accuracy: 0.7654\n",
      "Epoch 172/200\n",
      "98/98 [==============================] - 0s 2ms/step - loss: 0.6048 - accuracy: 0.7876 - val_loss: 0.6865 - val_accuracy: 0.7673\n",
      "Epoch 173/200\n",
      "98/98 [==============================] - 0s 2ms/step - loss: 0.5942 - accuracy: 0.7906 - val_loss: 0.6681 - val_accuracy: 0.7615\n",
      "Epoch 174/200\n",
      "98/98 [==============================] - 0s 2ms/step - loss: 0.5657 - accuracy: 0.7816 - val_loss: 0.6697 - val_accuracy: 0.7673\n",
      "Epoch 175/200\n",
      "98/98 [==============================] - 0s 2ms/step - loss: 0.6114 - accuracy: 0.7781 - val_loss: 0.6653 - val_accuracy: 0.7635\n",
      "Epoch 176/200\n",
      "98/98 [==============================] - 0s 2ms/step - loss: 0.5779 - accuracy: 0.8125 - val_loss: 0.6808 - val_accuracy: 0.7673\n",
      "Epoch 177/200\n",
      "98/98 [==============================] - 0s 2ms/step - loss: 0.5815 - accuracy: 0.7939 - val_loss: 0.6725 - val_accuracy: 0.7692\n",
      "Epoch 178/200\n",
      "98/98 [==============================] - 0s 2ms/step - loss: 0.5786 - accuracy: 0.7942 - val_loss: 0.6723 - val_accuracy: 0.7654\n",
      "Epoch 179/200\n",
      "98/98 [==============================] - 0s 2ms/step - loss: 0.6160 - accuracy: 0.7792 - val_loss: 0.6617 - val_accuracy: 0.7519\n",
      "Epoch 180/200\n",
      "98/98 [==============================] - 0s 2ms/step - loss: 0.5538 - accuracy: 0.8034 - val_loss: 0.6654 - val_accuracy: 0.7673\n",
      "Epoch 181/200\n",
      "98/98 [==============================] - 0s 2ms/step - loss: 0.6256 - accuracy: 0.7702 - val_loss: 0.6623 - val_accuracy: 0.7673\n",
      "Epoch 182/200\n",
      "98/98 [==============================] - 0s 2ms/step - loss: 0.5722 - accuracy: 0.7956 - val_loss: 0.6775 - val_accuracy: 0.7673\n",
      "Epoch 183/200\n",
      "98/98 [==============================] - 0s 2ms/step - loss: 0.6127 - accuracy: 0.7825 - val_loss: 0.6735 - val_accuracy: 0.7673\n",
      "Epoch 184/200\n",
      "98/98 [==============================] - 0s 2ms/step - loss: 0.5505 - accuracy: 0.8025 - val_loss: 0.6634 - val_accuracy: 0.7692\n",
      "Epoch 185/200\n",
      "98/98 [==============================] - 0s 2ms/step - loss: 0.5836 - accuracy: 0.7843 - val_loss: 0.6727 - val_accuracy: 0.7654\n",
      "Epoch 186/200\n",
      "98/98 [==============================] - 0s 2ms/step - loss: 0.6168 - accuracy: 0.7723 - val_loss: 0.6640 - val_accuracy: 0.7558\n",
      "Epoch 187/200\n",
      "98/98 [==============================] - 0s 2ms/step - loss: 0.5749 - accuracy: 0.7995 - val_loss: 0.6630 - val_accuracy: 0.7635\n",
      "Epoch 188/200\n",
      "98/98 [==============================] - 0s 2ms/step - loss: 0.5411 - accuracy: 0.8099 - val_loss: 0.6582 - val_accuracy: 0.7769\n",
      "Epoch 189/200\n",
      "98/98 [==============================] - 0s 2ms/step - loss: 0.5902 - accuracy: 0.7868 - val_loss: 0.6970 - val_accuracy: 0.7596\n",
      "Epoch 190/200\n",
      "98/98 [==============================] - 0s 2ms/step - loss: 0.5631 - accuracy: 0.7806 - val_loss: 0.6687 - val_accuracy: 0.7769\n",
      "Epoch 191/200\n",
      "98/98 [==============================] - 0s 2ms/step - loss: 0.6292 - accuracy: 0.7633 - val_loss: 0.6710 - val_accuracy: 0.7692\n",
      "Epoch 192/200\n",
      "98/98 [==============================] - 0s 2ms/step - loss: 0.5737 - accuracy: 0.8003 - val_loss: 0.6691 - val_accuracy: 0.7673\n",
      "Epoch 193/200\n",
      "98/98 [==============================] - 0s 2ms/step - loss: 0.5517 - accuracy: 0.8069 - val_loss: 0.6680 - val_accuracy: 0.7558\n",
      "Epoch 194/200\n",
      "98/98 [==============================] - 0s 2ms/step - loss: 0.5639 - accuracy: 0.7845 - val_loss: 0.6668 - val_accuracy: 0.7673\n",
      "Epoch 195/200\n",
      "98/98 [==============================] - 0s 2ms/step - loss: 0.5997 - accuracy: 0.8004 - val_loss: 0.6574 - val_accuracy: 0.7673\n",
      "Epoch 196/200\n",
      "98/98 [==============================] - 0s 2ms/step - loss: 0.5739 - accuracy: 0.8073 - val_loss: 0.6604 - val_accuracy: 0.7712\n",
      "Epoch 197/200\n",
      "98/98 [==============================] - 0s 2ms/step - loss: 0.5848 - accuracy: 0.7926 - val_loss: 0.6608 - val_accuracy: 0.7596\n",
      "Epoch 198/200\n",
      "98/98 [==============================] - 0s 2ms/step - loss: 0.5596 - accuracy: 0.7939 - val_loss: 0.6577 - val_accuracy: 0.7769\n",
      "Epoch 199/200\n",
      "98/98 [==============================] - 0s 2ms/step - loss: 0.5643 - accuracy: 0.7978 - val_loss: 0.6603 - val_accuracy: 0.7788\n",
      "Epoch 200/200\n",
      "98/98 [==============================] - 0s 2ms/step - loss: 0.5555 - accuracy: 0.8046 - val_loss: 0.6593 - val_accuracy: 0.7769\n"
     ]
    }
   ],
   "source": [
    "history = model.fit(\n",
    "    x=train_features,\n",
    "    y=train_labels,\n",
    "    batch_size=16,\n",
    "    validation_data=(test_features,test_labels),\n",
    "    epochs=200,\n",
    "    verbose=1,\n",
    "    )"
   ]
  },
  {
   "cell_type": "markdown",
   "metadata": {
    "id": "W3ZVOhugCaXA"
   },
   "source": [
    "As the model trains, the loss and accuracy metrics are displayed. This model reaches an accuracy of about 80% on the training data."
   ]
  },
  {
   "cell_type": "markdown",
   "metadata": {
    "id": "wCpr6DGyE28h"
   },
   "source": [
    "### Evaluate accuracy\n",
    "\n",
    "Next, compare how the model performs on the test dataset:"
   ]
  },
  {
   "cell_type": "code",
   "execution_count": 23,
   "metadata": {
    "colab": {
     "base_uri": "https://localhost:8080/"
    },
    "executionInfo": {
     "elapsed": 1641,
     "status": "ok",
     "timestamp": 1618859329477,
     "user": {
      "displayName": "Fede Camara Halac",
      "photoUrl": "https://lh3.googleusercontent.com/a-/AOh14Gh_b6Y4JRn1pQwmH2PwmvUr8HiKg-a_TZFj1JfXLQ=s64",
      "userId": "14838610272939224163"
     },
     "user_tz": 240
    },
    "id": "t6FlVCCS7NeL",
    "outputId": "4cb1f512-5245-4406-a504-521ff4ca6f04"
   },
   "outputs": [
    {
     "data": {
      "text/plain": [
       "dict_keys(['loss', 'accuracy', 'val_loss', 'val_accuracy'])"
      ]
     },
     "execution_count": 23,
     "metadata": {
      "tags": []
     },
     "output_type": "execute_result"
    }
   ],
   "source": [
    "dict.keys(history.history)"
   ]
  },
  {
   "cell_type": "code",
   "execution_count": 87,
   "metadata": {
    "colab": {
     "base_uri": "https://localhost:8080/",
     "height": 268
    },
    "executionInfo": {
     "elapsed": 1130,
     "status": "ok",
     "timestamp": 1618861450193,
     "user": {
      "displayName": "Fede Camara Halac",
      "photoUrl": "https://lh3.googleusercontent.com/a-/AOh14Gh_b6Y4JRn1pQwmH2PwmvUr8HiKg-a_TZFj1JfXLQ=s64",
      "userId": "14838610272939224163"
     },
     "user_tz": 240
    },
    "id": "VflXLEeECaXC",
    "outputId": "00faf558-5c00-44aa-e230-3f690dad70c9"
   },
   "outputs": [
    {
     "data": {
      "image/png": "[encoded data removed]",
      "text/plain": [
       "<Figure size 432x288 with 1 Axes>"
      ]
     },
     "metadata": {
      "needs_background": "light",
      "tags": []
     },
     "output_type": "display_data"
    }
   ],
   "source": [
    "metrics = history.history\n",
    "plt.plot(history.epoch, metrics['loss'])\n",
    "plt.plot(history.epoch, metrics['accuracy'])\n",
    "plt.plot(history.epoch, metrics['val_loss'])\n",
    "plt.plot(history.epoch, metrics['val_accuracy'])\n",
    "plt.legend(['loss', 'accuracy', 'val_loss', 'val_accuracy'])\n",
    "plt.show()"
   ]
  },
  {
   "cell_type": "markdown",
   "metadata": {
    "id": "yWfgsmVXCaXG"
   },
   "source": [
    "It turns out that the accuracy on the test dataset is a little less than the accuracy on the training dataset. This gap between training accuracy and test accuracy represents *overfitting*. Overfitting happens when a machine learning model performs worse on new, previously unseen inputs than it does on the training data. An overfitted model \"memorizes\" the noise and details in the training dataset to a point where it negatively impacts the performance of the model on the new data. \n",
    "\n",
    "One way to deal with this is by introducing some regularization with a [Dropout](https://jmlr.org/papers/volume15/srivastava14a.old/srivastava14a.pdf) layer. To do this, you need to go back to re-initialize the `Sequential` class with one layer being `tk.keras.layers.Dropout(0.2)`, where `0.2` is the amount of units in percentage to remove between layers. The more you take, the stronger the regularization."
   ]
  },
  {
   "cell_type": "markdown",
   "metadata": {
    "id": "v-PyD1SYE28q"
   },
   "source": [
    "### Make predictions\n",
    "\n",
    "With the model trained, you can use it to make predictions about some images.\n",
    "The model's linear outputs, [logits](https://developers.google.com/machine-learning/glossary#logits). Attach a softmax layer to convert the logits to probabilities, which are easier to interpret. "
   ]
  },
  {
   "cell_type": "code",
   "execution_count": 88,
   "metadata": {
    "executionInfo": {
     "elapsed": 1108,
     "status": "ok",
     "timestamp": 1618861468393,
     "user": {
      "displayName": "Fede Camara Halac",
      "photoUrl": "https://lh3.googleusercontent.com/a-/AOh14Gh_b6Y4JRn1pQwmH2PwmvUr8HiKg-a_TZFj1JfXLQ=s64",
      "userId": "14838610272939224163"
     },
     "user_tz": 240
    },
    "id": "DnfNA0CrQLSD"
   },
   "outputs": [],
   "source": [
    "probability_model = tf.keras.Sequential([model, tf.keras.layers.Softmax()])"
   ]
  },
  {
   "cell_type": "code",
   "execution_count": 89,
   "metadata": {
    "executionInfo": {
     "elapsed": 1263,
     "status": "ok",
     "timestamp": 1618861469078,
     "user": {
      "displayName": "Fede Camara Halac",
      "photoUrl": "https://lh3.googleusercontent.com/a-/AOh14Gh_b6Y4JRn1pQwmH2PwmvUr8HiKg-a_TZFj1JfXLQ=s64",
      "userId": "14838610272939224163"
     },
     "user_tz": 240
    },
    "id": "Gl91RPhdCaXI"
   },
   "outputs": [],
   "source": [
    "predictions = probability_model.predict(test_features)"
   ]
  },
  {
   "cell_type": "markdown",
   "metadata": {
    "id": "x9Kk1voUCaXJ"
   },
   "source": [
    "Here, the model has predicted the label for each artist in the testing set. Let's take a look at the first prediction:"
   ]
  },
  {
   "cell_type": "code",
   "execution_count": 65,
   "metadata": {
    "colab": {
     "base_uri": "https://localhost:8080/"
    },
    "executionInfo": {
     "elapsed": 1415,
     "status": "ok",
     "timestamp": 1618860701718,
     "user": {
      "displayName": "Fede Camara Halac",
      "photoUrl": "https://lh3.googleusercontent.com/a-/AOh14Gh_b6Y4JRn1pQwmH2PwmvUr8HiKg-a_TZFj1JfXLQ=s64",
      "userId": "14838610272939224163"
     },
     "user_tz": 240
    },
    "id": "3DmJEUinCaXK",
    "outputId": "4eb551e3-f0db-4b3d-8d74-729ee5e87b46"
   },
   "outputs": [
    {
     "data": {
      "text/plain": [
       "array([1.1181573e-02, 9.8401791e-01, 9.3440511e-05, 9.6941723e-05,\n",
       "       4.6101473e-03], dtype=float32)"
      ]
     },
     "execution_count": 65,
     "metadata": {
      "tags": []
     },
     "output_type": "execute_result"
    }
   ],
   "source": [
    "predictions[0]"
   ]
  },
  {
   "cell_type": "markdown",
   "metadata": {
    "id": "-hw1hgeSCaXN"
   },
   "source": [
    "A prediction is an array of 5 numbers. They represent the model's \"confidence\" that the image corresponds to each of the 5 different articles of clothing. You can see which label has the highest confidence value:"
   ]
  },
  {
   "cell_type": "code",
   "execution_count": 66,
   "metadata": {
    "colab": {
     "base_uri": "https://localhost:8080/"
    },
    "executionInfo": {
     "elapsed": 1007,
     "status": "ok",
     "timestamp": 1618860702147,
     "user": {
      "displayName": "Fede Camara Halac",
      "photoUrl": "https://lh3.googleusercontent.com/a-/AOh14Gh_b6Y4JRn1pQwmH2PwmvUr8HiKg-a_TZFj1JfXLQ=s64",
      "userId": "14838610272939224163"
     },
     "user_tz": 240
    },
    "id": "qsqenuPnCaXO",
    "outputId": "eade39c8-1167-4ab6-96a5-694cf5f2f157"
   },
   "outputs": [
    {
     "data": {
      "text/plain": [
       "1"
      ]
     },
     "execution_count": 66,
     "metadata": {
      "tags": []
     },
     "output_type": "execute_result"
    }
   ],
   "source": [
    "np.argmax(predictions[0])"
   ]
  },
  {
   "cell_type": "markdown",
   "metadata": {
    "id": "E51yS7iCCaXO"
   },
   "source": [
    "So, the model is most confident that this is artist `class_names[1]`. Examining the test label shows that this classification is correct:"
   ]
  },
  {
   "cell_type": "code",
   "execution_count": 67,
   "metadata": {
    "colab": {
     "base_uri": "https://localhost:8080/"
    },
    "executionInfo": {
     "elapsed": 719,
     "status": "ok",
     "timestamp": 1618860703479,
     "user": {
      "displayName": "Fede Camara Halac",
      "photoUrl": "https://lh3.googleusercontent.com/a-/AOh14Gh_b6Y4JRn1pQwmH2PwmvUr8HiKg-a_TZFj1JfXLQ=s64",
      "userId": "14838610272939224163"
     },
     "user_tz": 240
    },
    "id": "Sd7Pgsu6CaXP",
    "outputId": "ccd86124-124c-4b18-fde0-d20e92f21722"
   },
   "outputs": [
    {
     "data": {
      "text/plain": [
       "1.0"
      ]
     },
     "execution_count": 67,
     "metadata": {
      "tags": []
     },
     "output_type": "execute_result"
    }
   ],
   "source": [
    "test_labels[0]"
   ]
  },
  {
   "cell_type": "markdown",
   "metadata": {
    "id": "P9p3ephyASHw"
   },
   "source": [
    "## Confusion Matrix"
   ]
  },
  {
   "cell_type": "code",
   "execution_count": 90,
   "metadata": {
    "colab": {
     "base_uri": "https://localhost:8080/"
    },
    "executionInfo": {
     "elapsed": 1343,
     "status": "ok",
     "timestamp": 1618861471487,
     "user": {
      "displayName": "Fede Camara Halac",
      "photoUrl": "https://lh3.googleusercontent.com/a-/AOh14Gh_b6Y4JRn1pQwmH2PwmvUr8HiKg-a_TZFj1JfXLQ=s64",
      "userId": "14838610272939224163"
     },
     "user_tz": 240
    },
    "id": "h6t5Fk0o3gG0",
    "outputId": "6215e56a-9ec8-4f3c-beab-e6335a3bcfa5"
   },
   "outputs": [
    {
     "data": {
      "text/plain": [
       "((520,), (520,))"
      ]
     },
     "execution_count": 90,
     "metadata": {
      "tags": []
     },
     "output_type": "execute_result"
    }
   ],
   "source": [
    "pred_labels = np.array([np.argmax(p) for p in predictions])\n",
    "pred_labels.shape, test_labels.shape"
   ]
  },
  {
   "cell_type": "code",
   "execution_count": 91,
   "metadata": {
    "colab": {
     "base_uri": "https://localhost:8080/",
     "height": 362
    },
    "executionInfo": {
     "elapsed": 1761,
     "status": "ok",
     "timestamp": 1618861472505,
     "user": {
      "displayName": "Fede Camara Halac",
      "photoUrl": "https://lh3.googleusercontent.com/a-/AOh14Gh_b6Y4JRn1pQwmH2PwmvUr8HiKg-a_TZFj1JfXLQ=s64",
      "userId": "14838610272939224163"
     },
     "user_tz": 240
    },
    "id": "hQlnbqaw2Qu_",
    "outputId": "c7783422-ef97-4a8a-c4cf-23daabc36cdf"
   },
   "outputs": [
    {
     "data": {
      "image/png": "[encoded data removed]",
      "text/plain": [
       "<Figure size 432x288 with 2 Axes>"
      ]
     },
     "metadata": {
      "needs_background": "light",
      "tags": []
     },
     "output_type": "display_data"
    }
   ],
   "source": [
    "import seaborn as sns\n",
    "\n",
    "mat = tf.math.confusion_matrix(test_labels, pred_labels)\n",
    "\n",
    "sns.heatmap(mat, square=True, annot=True, cbar=True, fmt='d',\n",
    "            xticklabels=label_names,\n",
    "            yticklabels=label_names)\n",
    "\n",
    "plt.xlabel('True')\n",
    "plt.ylabel('Predicted');"
   ]
  },
  {
   "cell_type": "markdown",
   "metadata": {
    "id": "R32zteKHCaXT"
   },
   "source": [
    "## Use the trained model\n",
    "\n",
    "Finally, use the trained model to make a prediction about a single image."
   ]
  },
  {
   "cell_type": "code",
   "execution_count": 70,
   "metadata": {
    "executionInfo": {
     "elapsed": 1291,
     "status": "ok",
     "timestamp": 1618860738891,
     "user": {
      "displayName": "Fede Camara Halac",
      "photoUrl": "https://lh3.googleusercontent.com/a-/AOh14Gh_b6Y4JRn1pQwmH2PwmvUr8HiKg-a_TZFj1JfXLQ=s64",
      "userId": "14838610272939224163"
     },
     "user_tz": 240
    },
    "id": "Wadf0J6RBgct"
   },
   "outputs": [],
   "source": [
    "stats = []"
   ]
  },
  {
   "cell_type": "code",
   "execution_count": 106,
   "metadata": {
    "colab": {
     "base_uri": "https://localhost:8080/"
    },
    "executionInfo": {
     "elapsed": 1371,
     "status": "ok",
     "timestamp": 1618861857718,
     "user": {
      "displayName": "Fede Camara Halac",
      "photoUrl": "https://lh3.googleusercontent.com/a-/AOh14Gh_b6Y4JRn1pQwmH2PwmvUr8HiKg-a_TZFj1JfXLQ=s64",
      "userId": "14838610272939224163"
     },
     "user_tz": 240
    },
    "id": "yRJ7JU7JCaXT",
    "outputId": "8aec39b3-241d-47e6-a43b-7d55d16523a9"
   },
   "outputs": [
    {
     "name": "stdout",
     "output_type": "stream",
     "text": [
      "\u001b[32m================================================================================\u001b[0m\n",
      "\u001b[32m| Knew it.\u001b[0m\n",
      "\u001b[32m--------------------------------------------------------------------------------\u001b[0m\n",
      "\u001b[32m| TRUE: The Rolling Stones\u001b[0m\n",
      "\u001b[32m| PRED: The Rolling Stones\u001b[0m\n",
      "\u001b[32m================================================================================\u001b[0m\n",
      "Current accuracy: 76.92307692307693\n",
      "Actual accuracy is: 79.67948913574219\n"
     ]
    }
   ],
   "source": [
    "# Grab a random element from the test dataset.\n",
    "example = np.random.randint(len(test_features))\n",
    "\n",
    "tester_feature = test_features[example]\n",
    "\n",
    "# `tf.keras` models are optimized to make predictions on a *batch*, \n",
    "# or collection, of examples at once. Accordingly, even though \n",
    "# you're using a single image, you need to add it to a list:\n",
    "\n",
    "# Add the image to a batch where it's the only member.\n",
    "tester_feature = (np.expand_dims(tester_feature,0))\n",
    "\n",
    "\n",
    "# Now predict the correct label for this image:\n",
    "predictions_single = probability_model.predict(tester_feature)\n",
    "\n",
    "y_pred = np.argmax(predictions_single[0])\n",
    "y_true = int(test_labels[example])\n",
    "\n",
    "# get both Predicted and True labels:\n",
    "\n",
    "from termcolor import colored\n",
    "\n",
    "\n",
    "\n",
    "if y_true != y_pred:\n",
    "    stats.append(0)\n",
    "    msg = f\"Yikes!, {['Oh, well', 'perhaps next time?', 'ugh...'][np.random.randint(3)]}\"\n",
    "    color='red'\n",
    "else:\n",
    "    stats.append(1)\n",
    "    msg = f\"Knew it.\"\n",
    "    color='green'\n",
    "\n",
    "print(colored(\"=\"*80, color))\n",
    "print(colored(\"| \"+msg, color))\n",
    "print(colored(\"-\"*80, color))\n",
    "print(colored(\"| TRUE: \"+label_names[y_true], color))\n",
    "print(colored(\"| PRED: \"+label_names[y_pred], color))\n",
    "print(colored(\"=\"*80, color))\n",
    "\n",
    "\n",
    "print(f\"Current accuracy: {stats.count(1) / len(stats) * 100}\")\n",
    "print(f\"Actual accuracy is: {metrics['accuracy'][-1]*100}\")\n"
   ]
  }
 ],
 "metadata": {
  "colab": {
   "collapsed_sections": [],
   "name": "Week 15 - Neural Networks.ipynb",
   "provenance": [
    {
     "file_id": "1cQpg4tG6TegX0cMWuXaKlqTF-RtYCw78",
     "timestamp": 1618852691605
    },
    {
     "file_id": "https://github.com/tensorflow/docs/blob/master/site/en/tutorials/keras/classification.ipynb",
     "timestamp": 1618840508023
    }
   ]
  },
  "kernelspec": {
   "display_name": "Python 3",
   "language": "python",
   "name": "python3"
  },
  "language_info": {
   "codemirror_mode": {
    "name": "ipython",
    "version": 3
   },
   "file_extension": ".py",
   "mimetype": "text/x-python",
   "name": "python",
   "nbconvert_exporter": "python",
   "pygments_lexer": "ipython3",
   "version": "3.9.2"
  }
 },
 "nbformat": 4,
 "nbformat_minor": 1
}
